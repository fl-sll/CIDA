{
 "cells": [
  {
   "cell_type": "code",
   "execution_count": 2,
   "metadata": {},
   "outputs": [],
   "source": [
    "import numpy as np\n",
    "import pandas as pd"
   ]
  },
  {
   "cell_type": "markdown",
   "metadata": {},
   "source": [
    "## Importing Dataset"
   ]
  },
  {
   "cell_type": "code",
   "execution_count": 3,
   "metadata": {},
   "outputs": [
    {
     "data": {
      "text/html": [
       "<div>\n",
       "<style scoped>\n",
       "    .dataframe tbody tr th:only-of-type {\n",
       "        vertical-align: middle;\n",
       "    }\n",
       "\n",
       "    .dataframe tbody tr th {\n",
       "        vertical-align: top;\n",
       "    }\n",
       "\n",
       "    .dataframe thead th {\n",
       "        text-align: right;\n",
       "    }\n",
       "</style>\n",
       "<table border=\"1\" class=\"dataframe\">\n",
       "  <thead>\n",
       "    <tr style=\"text-align: right;\">\n",
       "      <th></th>\n",
       "      <th>income</th>\n",
       "      <th>age</th>\n",
       "      <th>workclass</th>\n",
       "      <th>education</th>\n",
       "      <th>marital-status</th>\n",
       "      <th>occupation</th>\n",
       "      <th>relationship</th>\n",
       "      <th>race</th>\n",
       "      <th>sex</th>\n",
       "      <th>hours-per-week</th>\n",
       "    </tr>\n",
       "  </thead>\n",
       "  <tbody>\n",
       "    <tr>\n",
       "      <th>0</th>\n",
       "      <td>0</td>\n",
       "      <td>39</td>\n",
       "      <td>State-gov</td>\n",
       "      <td>Bachelors</td>\n",
       "      <td>NotMarried</td>\n",
       "      <td>Adm-clerical</td>\n",
       "      <td>Not-in-family</td>\n",
       "      <td>White</td>\n",
       "      <td>Male</td>\n",
       "      <td>40</td>\n",
       "    </tr>\n",
       "    <tr>\n",
       "      <th>1</th>\n",
       "      <td>0</td>\n",
       "      <td>50</td>\n",
       "      <td>Self-emp-not-inc</td>\n",
       "      <td>Bachelors</td>\n",
       "      <td>Married</td>\n",
       "      <td>Exec-managerial</td>\n",
       "      <td>Husband</td>\n",
       "      <td>White</td>\n",
       "      <td>Male</td>\n",
       "      <td>13</td>\n",
       "    </tr>\n",
       "    <tr>\n",
       "      <th>2</th>\n",
       "      <td>0</td>\n",
       "      <td>38</td>\n",
       "      <td>Private</td>\n",
       "      <td>HS-grad</td>\n",
       "      <td>Separated</td>\n",
       "      <td>Handlers-cleaners</td>\n",
       "      <td>Not-in-family</td>\n",
       "      <td>White</td>\n",
       "      <td>Male</td>\n",
       "      <td>40</td>\n",
       "    </tr>\n",
       "    <tr>\n",
       "      <th>3</th>\n",
       "      <td>0</td>\n",
       "      <td>53</td>\n",
       "      <td>Private</td>\n",
       "      <td>11th</td>\n",
       "      <td>Married</td>\n",
       "      <td>Handlers-cleaners</td>\n",
       "      <td>Husband</td>\n",
       "      <td>Black</td>\n",
       "      <td>Male</td>\n",
       "      <td>40</td>\n",
       "    </tr>\n",
       "    <tr>\n",
       "      <th>4</th>\n",
       "      <td>0</td>\n",
       "      <td>28</td>\n",
       "      <td>Private</td>\n",
       "      <td>Bachelors</td>\n",
       "      <td>Married</td>\n",
       "      <td>Prof-specialty</td>\n",
       "      <td>Wife</td>\n",
       "      <td>Black</td>\n",
       "      <td>Female</td>\n",
       "      <td>40</td>\n",
       "    </tr>\n",
       "    <tr>\n",
       "      <th>...</th>\n",
       "      <td>...</td>\n",
       "      <td>...</td>\n",
       "      <td>...</td>\n",
       "      <td>...</td>\n",
       "      <td>...</td>\n",
       "      <td>...</td>\n",
       "      <td>...</td>\n",
       "      <td>...</td>\n",
       "      <td>...</td>\n",
       "      <td>...</td>\n",
       "    </tr>\n",
       "    <tr>\n",
       "      <th>26210</th>\n",
       "      <td>0</td>\n",
       "      <td>27</td>\n",
       "      <td>Private</td>\n",
       "      <td>Assoc-acdm</td>\n",
       "      <td>Married</td>\n",
       "      <td>Tech-support</td>\n",
       "      <td>Wife</td>\n",
       "      <td>White</td>\n",
       "      <td>Female</td>\n",
       "      <td>38</td>\n",
       "    </tr>\n",
       "    <tr>\n",
       "      <th>26211</th>\n",
       "      <td>1</td>\n",
       "      <td>40</td>\n",
       "      <td>Private</td>\n",
       "      <td>HS-grad</td>\n",
       "      <td>Married</td>\n",
       "      <td>Machine-op-inspct</td>\n",
       "      <td>Husband</td>\n",
       "      <td>White</td>\n",
       "      <td>Male</td>\n",
       "      <td>40</td>\n",
       "    </tr>\n",
       "    <tr>\n",
       "      <th>26212</th>\n",
       "      <td>0</td>\n",
       "      <td>58</td>\n",
       "      <td>Private</td>\n",
       "      <td>HS-grad</td>\n",
       "      <td>Widowed</td>\n",
       "      <td>Adm-clerical</td>\n",
       "      <td>Unmarried</td>\n",
       "      <td>White</td>\n",
       "      <td>Female</td>\n",
       "      <td>40</td>\n",
       "    </tr>\n",
       "    <tr>\n",
       "      <th>26213</th>\n",
       "      <td>0</td>\n",
       "      <td>22</td>\n",
       "      <td>Private</td>\n",
       "      <td>HS-grad</td>\n",
       "      <td>NotMarried</td>\n",
       "      <td>Adm-clerical</td>\n",
       "      <td>Own-child</td>\n",
       "      <td>White</td>\n",
       "      <td>Male</td>\n",
       "      <td>20</td>\n",
       "    </tr>\n",
       "    <tr>\n",
       "      <th>26214</th>\n",
       "      <td>1</td>\n",
       "      <td>52</td>\n",
       "      <td>Self-emp-inc</td>\n",
       "      <td>HS-grad</td>\n",
       "      <td>Married</td>\n",
       "      <td>Exec-managerial</td>\n",
       "      <td>Wife</td>\n",
       "      <td>White</td>\n",
       "      <td>Female</td>\n",
       "      <td>40</td>\n",
       "    </tr>\n",
       "  </tbody>\n",
       "</table>\n",
       "<p>26215 rows × 10 columns</p>\n",
       "</div>"
      ],
      "text/plain": [
       "       income  age         workclass   education marital-status  \\\n",
       "0           0   39         State-gov   Bachelors     NotMarried   \n",
       "1           0   50  Self-emp-not-inc   Bachelors        Married   \n",
       "2           0   38           Private     HS-grad      Separated   \n",
       "3           0   53           Private        11th        Married   \n",
       "4           0   28           Private   Bachelors        Married   \n",
       "...       ...  ...               ...         ...            ...   \n",
       "26210       0   27           Private  Assoc-acdm        Married   \n",
       "26211       1   40           Private     HS-grad        Married   \n",
       "26212       0   58           Private     HS-grad        Widowed   \n",
       "26213       0   22           Private     HS-grad     NotMarried   \n",
       "26214       1   52      Self-emp-inc     HS-grad        Married   \n",
       "\n",
       "              occupation   relationship   race     sex  hours-per-week  \n",
       "0           Adm-clerical  Not-in-family  White    Male              40  \n",
       "1        Exec-managerial        Husband  White    Male              13  \n",
       "2      Handlers-cleaners  Not-in-family  White    Male              40  \n",
       "3      Handlers-cleaners        Husband  Black    Male              40  \n",
       "4         Prof-specialty           Wife  Black  Female              40  \n",
       "...                  ...            ...    ...     ...             ...  \n",
       "26210       Tech-support           Wife  White  Female              38  \n",
       "26211  Machine-op-inspct        Husband  White    Male              40  \n",
       "26212       Adm-clerical      Unmarried  White  Female              40  \n",
       "26213       Adm-clerical      Own-child  White    Male              20  \n",
       "26214    Exec-managerial           Wife  White  Female              40  \n",
       "\n",
       "[26215 rows x 10 columns]"
      ]
     },
     "execution_count": 3,
     "metadata": {},
     "output_type": "execute_result"
    }
   ],
   "source": [
    "df = pd.read_csv('income.csv')\n",
    "df"
   ]
  },
  {
   "cell_type": "markdown",
   "metadata": {},
   "source": [
    "## Shape of dataset before preprocessing"
   ]
  },
  {
   "cell_type": "code",
   "execution_count": 4,
   "metadata": {},
   "outputs": [
    {
     "name": "stdout",
     "output_type": "stream",
     "text": [
      "Shape of the dataset before preprocessing: (26215, 10)\n",
      "\n",
      "Data types before preprocessing:\n",
      "income             int64\n",
      "age                int64\n",
      "workclass         object\n",
      "education         object\n",
      "marital-status    object\n",
      "occupation        object\n",
      "relationship      object\n",
      "race              object\n",
      "sex               object\n",
      "hours-per-week     int64\n",
      "dtype: object\n"
     ]
    }
   ],
   "source": [
    "print(\"Shape of the dataset before preprocessing:\", df.shape)\n",
    "print(\"\\nData types before preprocessing:\")\n",
    "print(df.dtypes)"
   ]
  },
  {
   "cell_type": "markdown",
   "metadata": {},
   "source": [
    "## Statistical analysis of dataset"
   ]
  },
  {
   "cell_type": "code",
   "execution_count": 5,
   "metadata": {},
   "outputs": [
    {
     "data": {
      "text/html": [
       "<div>\n",
       "<style scoped>\n",
       "    .dataframe tbody tr th:only-of-type {\n",
       "        vertical-align: middle;\n",
       "    }\n",
       "\n",
       "    .dataframe tbody tr th {\n",
       "        vertical-align: top;\n",
       "    }\n",
       "\n",
       "    .dataframe thead th {\n",
       "        text-align: right;\n",
       "    }\n",
       "</style>\n",
       "<table border=\"1\" class=\"dataframe\">\n",
       "  <thead>\n",
       "    <tr style=\"text-align: right;\">\n",
       "      <th></th>\n",
       "      <th>income</th>\n",
       "      <th>age</th>\n",
       "      <th>hours-per-week</th>\n",
       "    </tr>\n",
       "  </thead>\n",
       "  <tbody>\n",
       "    <tr>\n",
       "      <th>count</th>\n",
       "      <td>26215.000000</td>\n",
       "      <td>26215.000000</td>\n",
       "      <td>26215.000000</td>\n",
       "    </tr>\n",
       "    <tr>\n",
       "      <th>mean</th>\n",
       "      <td>0.299104</td>\n",
       "      <td>39.045661</td>\n",
       "      <td>40.816632</td>\n",
       "    </tr>\n",
       "    <tr>\n",
       "      <th>std</th>\n",
       "      <td>0.457874</td>\n",
       "      <td>13.557816</td>\n",
       "      <td>12.351215</td>\n",
       "    </tr>\n",
       "    <tr>\n",
       "      <th>min</th>\n",
       "      <td>0.000000</td>\n",
       "      <td>17.000000</td>\n",
       "      <td>1.000000</td>\n",
       "    </tr>\n",
       "    <tr>\n",
       "      <th>25%</th>\n",
       "      <td>0.000000</td>\n",
       "      <td>28.000000</td>\n",
       "      <td>40.000000</td>\n",
       "    </tr>\n",
       "    <tr>\n",
       "      <th>50%</th>\n",
       "      <td>0.000000</td>\n",
       "      <td>38.000000</td>\n",
       "      <td>40.000000</td>\n",
       "    </tr>\n",
       "    <tr>\n",
       "      <th>75%</th>\n",
       "      <td>1.000000</td>\n",
       "      <td>48.000000</td>\n",
       "      <td>45.000000</td>\n",
       "    </tr>\n",
       "    <tr>\n",
       "      <th>max</th>\n",
       "      <td>1.000000</td>\n",
       "      <td>90.000000</td>\n",
       "      <td>99.000000</td>\n",
       "    </tr>\n",
       "  </tbody>\n",
       "</table>\n",
       "</div>"
      ],
      "text/plain": [
       "             income           age  hours-per-week\n",
       "count  26215.000000  26215.000000    26215.000000\n",
       "mean       0.299104     39.045661       40.816632\n",
       "std        0.457874     13.557816       12.351215\n",
       "min        0.000000     17.000000        1.000000\n",
       "25%        0.000000     28.000000       40.000000\n",
       "50%        0.000000     38.000000       40.000000\n",
       "75%        1.000000     48.000000       45.000000\n",
       "max        1.000000     90.000000       99.000000"
      ]
     },
     "execution_count": 5,
     "metadata": {},
     "output_type": "execute_result"
    }
   ],
   "source": [
    "df.describe()"
   ]
  },
  {
   "cell_type": "markdown",
   "metadata": {},
   "source": [
    "## Checking null values"
   ]
  },
  {
   "cell_type": "code",
   "execution_count": 6,
   "metadata": {},
   "outputs": [
    {
     "data": {
      "text/plain": [
       "income               0\n",
       "age                  0\n",
       "workclass         1396\n",
       "education            0\n",
       "marital-status       0\n",
       "occupation        1401\n",
       "relationship         0\n",
       "race                 0\n",
       "sex                  0\n",
       "hours-per-week       0\n",
       "dtype: int64"
      ]
     },
     "execution_count": 6,
     "metadata": {},
     "output_type": "execute_result"
    }
   ],
   "source": [
    "df.isna().sum()"
   ]
  },
  {
   "cell_type": "markdown",
   "metadata": {},
   "source": [
    "## Filling null values using mode of feature"
   ]
  },
  {
   "cell_type": "code",
   "execution_count": 7,
   "metadata": {},
   "outputs": [
    {
     "data": {
      "text/plain": [
       "income            0\n",
       "age               0\n",
       "workclass         0\n",
       "education         0\n",
       "marital-status    0\n",
       "occupation        0\n",
       "relationship      0\n",
       "race              0\n",
       "sex               0\n",
       "hours-per-week    0\n",
       "dtype: int64"
      ]
     },
     "execution_count": 7,
     "metadata": {},
     "output_type": "execute_result"
    }
   ],
   "source": [
    "df['workclass'].fillna(df['workclass'].mode()[0], inplace=True)\n",
    "df['occupation'].fillna(df['occupation'].mode()[0], inplace=True)\n",
    "\n",
    "df.isna().sum()"
   ]
  },
  {
   "cell_type": "markdown",
   "metadata": {},
   "source": [
    "## Dropping duplicates"
   ]
  },
  {
   "cell_type": "code",
   "execution_count": 8,
   "metadata": {},
   "outputs": [],
   "source": [
    "df.drop_duplicates(inplace=True)"
   ]
  },
  {
   "cell_type": "markdown",
   "metadata": {},
   "source": [
    "## Handling categorical variables"
   ]
  },
  {
   "cell_type": "code",
   "execution_count": 9,
   "metadata": {},
   "outputs": [],
   "source": [
    "education_order = [\n",
    "    'Preschool', '1st-4th', '5th-6th', '7th-8th', '9th', '10th', '11th', '12th',\n",
    "    'HS-grad', 'Some-college', 'Assoc-voc', 'Assoc-acdm', 'Bachelors', 'Masters', 'Prof-school', 'Doctorate'\n",
    "]\n",
    "#// Mapping education and sex\n",
    "education_mapping = {level: index + 1 for index, level in enumerate(education_order)}\n",
    "df['education'] = df['education'].map(education_mapping)\n",
    "df['sex'] = df['sex'].map({'Male': 0, 'Female': 1})\n",
    "\n",
    "#// getting dummies for the rest of categorical variables\n",
    "df = pd.get_dummies(df, columns=['marital-status', 'race', 'relationship', 'workclass', 'occupation'])"
   ]
  },
  {
   "cell_type": "markdown",
   "metadata": {},
   "source": [
    "## Correlation matrix before preprocessing (only 3 as other variables aren't in numerical form)"
   ]
  },
  {
   "cell_type": "code",
   "execution_count": 10,
   "metadata": {},
   "outputs": [
    {
     "data": {
      "application/vnd.plotly.v1+json": {
       "config": {
        "plotlyServerURL": "https://plot.ly"
       },
       "data": [
        {
         "colorscale": [
          [
           0,
           "#1CC7F9"
          ],
          [
           0.5,
           "#2DE31E"
          ],
          [
           1,
           "#F98A1C"
          ]
         ],
         "text": [
          [
           1,
           0.04,
           0.23
          ],
          [
           0.04,
           1,
           0.24
          ],
          [
           0.23,
           0.24,
           1
          ]
         ],
         "texttemplate": "%{text}",
         "type": "heatmap",
         "x": [
          "age",
          "hours-per-week",
          "income"
         ],
         "xgap": 3,
         "y": [
          "age",
          "hours-per-week",
          "income"
         ],
         "ygap": 3,
         "z": [
          [
           1,
           0.037348829821321775,
           0.22536793695036847
          ],
          [
           0.037348829821321775,
           1,
           0.239245934731602
          ],
          [
           0.22536793695036847,
           0.239245934731602,
           1
          ]
         ]
        }
       ],
       "layout": {
        "height": 600,
        "template": {
         "data": {
          "bar": [
           {
            "error_x": {
             "color": "rgb(36,36,36)"
            },
            "error_y": {
             "color": "rgb(36,36,36)"
            },
            "marker": {
             "line": {
              "color": "rgb(234,234,242)",
              "width": 0.5
             },
             "pattern": {
              "fillmode": "overlay",
              "size": 10,
              "solidity": 0.2
             }
            },
            "type": "bar"
           }
          ],
          "barpolar": [
           {
            "marker": {
             "line": {
              "color": "rgb(234,234,242)",
              "width": 0.5
             },
             "pattern": {
              "fillmode": "overlay",
              "size": 10,
              "solidity": 0.2
             }
            },
            "type": "barpolar"
           }
          ],
          "carpet": [
           {
            "aaxis": {
             "endlinecolor": "rgb(36,36,36)",
             "gridcolor": "white",
             "linecolor": "white",
             "minorgridcolor": "white",
             "startlinecolor": "rgb(36,36,36)"
            },
            "baxis": {
             "endlinecolor": "rgb(36,36,36)",
             "gridcolor": "white",
             "linecolor": "white",
             "minorgridcolor": "white",
             "startlinecolor": "rgb(36,36,36)"
            },
            "type": "carpet"
           }
          ],
          "choropleth": [
           {
            "colorbar": {
             "outlinewidth": 0,
             "tickcolor": "rgb(36,36,36)",
             "ticklen": 8,
             "ticks": "outside",
             "tickwidth": 2
            },
            "type": "choropleth"
           }
          ],
          "contour": [
           {
            "colorbar": {
             "outlinewidth": 0,
             "tickcolor": "rgb(36,36,36)",
             "ticklen": 8,
             "ticks": "outside",
             "tickwidth": 2
            },
            "colorscale": [
             [
              0,
              "rgb(2,4,25)"
             ],
             [
              0.06274509803921569,
              "rgb(24,15,41)"
             ],
             [
              0.12549019607843137,
              "rgb(47,23,57)"
             ],
             [
              0.18823529411764706,
              "rgb(71,28,72)"
             ],
             [
              0.25098039215686274,
              "rgb(97,30,82)"
             ],
             [
              0.3137254901960784,
              "rgb(123,30,89)"
             ],
             [
              0.3764705882352941,
              "rgb(150,27,91)"
             ],
             [
              0.4392156862745098,
              "rgb(177,22,88)"
             ],
             [
              0.5019607843137255,
              "rgb(203,26,79)"
             ],
             [
              0.5647058823529412,
              "rgb(223,47,67)"
             ],
             [
              0.6274509803921569,
              "rgb(236,76,61)"
             ],
             [
              0.6901960784313725,
              "rgb(242,107,73)"
             ],
             [
              0.7529411764705882,
              "rgb(244,135,95)"
             ],
             [
              0.8156862745098039,
              "rgb(245,162,122)"
             ],
             [
              0.8784313725490196,
              "rgb(246,188,153)"
             ],
             [
              0.9411764705882353,
              "rgb(247,212,187)"
             ],
             [
              1,
              "rgb(250,234,220)"
             ]
            ],
            "type": "contour"
           }
          ],
          "contourcarpet": [
           {
            "colorbar": {
             "outlinewidth": 0,
             "tickcolor": "rgb(36,36,36)",
             "ticklen": 8,
             "ticks": "outside",
             "tickwidth": 2
            },
            "type": "contourcarpet"
           }
          ],
          "heatmap": [
           {
            "colorbar": {
             "outlinewidth": 0,
             "tickcolor": "rgb(36,36,36)",
             "ticklen": 8,
             "ticks": "outside",
             "tickwidth": 2
            },
            "colorscale": [
             [
              0,
              "rgb(2,4,25)"
             ],
             [
              0.06274509803921569,
              "rgb(24,15,41)"
             ],
             [
              0.12549019607843137,
              "rgb(47,23,57)"
             ],
             [
              0.18823529411764706,
              "rgb(71,28,72)"
             ],
             [
              0.25098039215686274,
              "rgb(97,30,82)"
             ],
             [
              0.3137254901960784,
              "rgb(123,30,89)"
             ],
             [
              0.3764705882352941,
              "rgb(150,27,91)"
             ],
             [
              0.4392156862745098,
              "rgb(177,22,88)"
             ],
             [
              0.5019607843137255,
              "rgb(203,26,79)"
             ],
             [
              0.5647058823529412,
              "rgb(223,47,67)"
             ],
             [
              0.6274509803921569,
              "rgb(236,76,61)"
             ],
             [
              0.6901960784313725,
              "rgb(242,107,73)"
             ],
             [
              0.7529411764705882,
              "rgb(244,135,95)"
             ],
             [
              0.8156862745098039,
              "rgb(245,162,122)"
             ],
             [
              0.8784313725490196,
              "rgb(246,188,153)"
             ],
             [
              0.9411764705882353,
              "rgb(247,212,187)"
             ],
             [
              1,
              "rgb(250,234,220)"
             ]
            ],
            "type": "heatmap"
           }
          ],
          "heatmapgl": [
           {
            "colorbar": {
             "outlinewidth": 0,
             "tickcolor": "rgb(36,36,36)",
             "ticklen": 8,
             "ticks": "outside",
             "tickwidth": 2
            },
            "colorscale": [
             [
              0,
              "rgb(2,4,25)"
             ],
             [
              0.06274509803921569,
              "rgb(24,15,41)"
             ],
             [
              0.12549019607843137,
              "rgb(47,23,57)"
             ],
             [
              0.18823529411764706,
              "rgb(71,28,72)"
             ],
             [
              0.25098039215686274,
              "rgb(97,30,82)"
             ],
             [
              0.3137254901960784,
              "rgb(123,30,89)"
             ],
             [
              0.3764705882352941,
              "rgb(150,27,91)"
             ],
             [
              0.4392156862745098,
              "rgb(177,22,88)"
             ],
             [
              0.5019607843137255,
              "rgb(203,26,79)"
             ],
             [
              0.5647058823529412,
              "rgb(223,47,67)"
             ],
             [
              0.6274509803921569,
              "rgb(236,76,61)"
             ],
             [
              0.6901960784313725,
              "rgb(242,107,73)"
             ],
             [
              0.7529411764705882,
              "rgb(244,135,95)"
             ],
             [
              0.8156862745098039,
              "rgb(245,162,122)"
             ],
             [
              0.8784313725490196,
              "rgb(246,188,153)"
             ],
             [
              0.9411764705882353,
              "rgb(247,212,187)"
             ],
             [
              1,
              "rgb(250,234,220)"
             ]
            ],
            "type": "heatmapgl"
           }
          ],
          "histogram": [
           {
            "marker": {
             "pattern": {
              "fillmode": "overlay",
              "size": 10,
              "solidity": 0.2
             }
            },
            "type": "histogram"
           }
          ],
          "histogram2d": [
           {
            "colorbar": {
             "outlinewidth": 0,
             "tickcolor": "rgb(36,36,36)",
             "ticklen": 8,
             "ticks": "outside",
             "tickwidth": 2
            },
            "colorscale": [
             [
              0,
              "rgb(2,4,25)"
             ],
             [
              0.06274509803921569,
              "rgb(24,15,41)"
             ],
             [
              0.12549019607843137,
              "rgb(47,23,57)"
             ],
             [
              0.18823529411764706,
              "rgb(71,28,72)"
             ],
             [
              0.25098039215686274,
              "rgb(97,30,82)"
             ],
             [
              0.3137254901960784,
              "rgb(123,30,89)"
             ],
             [
              0.3764705882352941,
              "rgb(150,27,91)"
             ],
             [
              0.4392156862745098,
              "rgb(177,22,88)"
             ],
             [
              0.5019607843137255,
              "rgb(203,26,79)"
             ],
             [
              0.5647058823529412,
              "rgb(223,47,67)"
             ],
             [
              0.6274509803921569,
              "rgb(236,76,61)"
             ],
             [
              0.6901960784313725,
              "rgb(242,107,73)"
             ],
             [
              0.7529411764705882,
              "rgb(244,135,95)"
             ],
             [
              0.8156862745098039,
              "rgb(245,162,122)"
             ],
             [
              0.8784313725490196,
              "rgb(246,188,153)"
             ],
             [
              0.9411764705882353,
              "rgb(247,212,187)"
             ],
             [
              1,
              "rgb(250,234,220)"
             ]
            ],
            "type": "histogram2d"
           }
          ],
          "histogram2dcontour": [
           {
            "colorbar": {
             "outlinewidth": 0,
             "tickcolor": "rgb(36,36,36)",
             "ticklen": 8,
             "ticks": "outside",
             "tickwidth": 2
            },
            "colorscale": [
             [
              0,
              "rgb(2,4,25)"
             ],
             [
              0.06274509803921569,
              "rgb(24,15,41)"
             ],
             [
              0.12549019607843137,
              "rgb(47,23,57)"
             ],
             [
              0.18823529411764706,
              "rgb(71,28,72)"
             ],
             [
              0.25098039215686274,
              "rgb(97,30,82)"
             ],
             [
              0.3137254901960784,
              "rgb(123,30,89)"
             ],
             [
              0.3764705882352941,
              "rgb(150,27,91)"
             ],
             [
              0.4392156862745098,
              "rgb(177,22,88)"
             ],
             [
              0.5019607843137255,
              "rgb(203,26,79)"
             ],
             [
              0.5647058823529412,
              "rgb(223,47,67)"
             ],
             [
              0.6274509803921569,
              "rgb(236,76,61)"
             ],
             [
              0.6901960784313725,
              "rgb(242,107,73)"
             ],
             [
              0.7529411764705882,
              "rgb(244,135,95)"
             ],
             [
              0.8156862745098039,
              "rgb(245,162,122)"
             ],
             [
              0.8784313725490196,
              "rgb(246,188,153)"
             ],
             [
              0.9411764705882353,
              "rgb(247,212,187)"
             ],
             [
              1,
              "rgb(250,234,220)"
             ]
            ],
            "type": "histogram2dcontour"
           }
          ],
          "mesh3d": [
           {
            "colorbar": {
             "outlinewidth": 0,
             "tickcolor": "rgb(36,36,36)",
             "ticklen": 8,
             "ticks": "outside",
             "tickwidth": 2
            },
            "type": "mesh3d"
           }
          ],
          "parcoords": [
           {
            "line": {
             "colorbar": {
              "outlinewidth": 0,
              "tickcolor": "rgb(36,36,36)",
              "ticklen": 8,
              "ticks": "outside",
              "tickwidth": 2
             }
            },
            "type": "parcoords"
           }
          ],
          "pie": [
           {
            "automargin": true,
            "type": "pie"
           }
          ],
          "scatter": [
           {
            "fillpattern": {
             "fillmode": "overlay",
             "size": 10,
             "solidity": 0.2
            },
            "type": "scatter"
           }
          ],
          "scatter3d": [
           {
            "line": {
             "colorbar": {
              "outlinewidth": 0,
              "tickcolor": "rgb(36,36,36)",
              "ticklen": 8,
              "ticks": "outside",
              "tickwidth": 2
             }
            },
            "marker": {
             "colorbar": {
              "outlinewidth": 0,
              "tickcolor": "rgb(36,36,36)",
              "ticklen": 8,
              "ticks": "outside",
              "tickwidth": 2
             }
            },
            "type": "scatter3d"
           }
          ],
          "scattercarpet": [
           {
            "marker": {
             "colorbar": {
              "outlinewidth": 0,
              "tickcolor": "rgb(36,36,36)",
              "ticklen": 8,
              "ticks": "outside",
              "tickwidth": 2
             }
            },
            "type": "scattercarpet"
           }
          ],
          "scattergeo": [
           {
            "marker": {
             "colorbar": {
              "outlinewidth": 0,
              "tickcolor": "rgb(36,36,36)",
              "ticklen": 8,
              "ticks": "outside",
              "tickwidth": 2
             }
            },
            "type": "scattergeo"
           }
          ],
          "scattergl": [
           {
            "marker": {
             "colorbar": {
              "outlinewidth": 0,
              "tickcolor": "rgb(36,36,36)",
              "ticklen": 8,
              "ticks": "outside",
              "tickwidth": 2
             }
            },
            "type": "scattergl"
           }
          ],
          "scattermapbox": [
           {
            "marker": {
             "colorbar": {
              "outlinewidth": 0,
              "tickcolor": "rgb(36,36,36)",
              "ticklen": 8,
              "ticks": "outside",
              "tickwidth": 2
             }
            },
            "type": "scattermapbox"
           }
          ],
          "scatterpolar": [
           {
            "marker": {
             "colorbar": {
              "outlinewidth": 0,
              "tickcolor": "rgb(36,36,36)",
              "ticklen": 8,
              "ticks": "outside",
              "tickwidth": 2
             }
            },
            "type": "scatterpolar"
           }
          ],
          "scatterpolargl": [
           {
            "marker": {
             "colorbar": {
              "outlinewidth": 0,
              "tickcolor": "rgb(36,36,36)",
              "ticklen": 8,
              "ticks": "outside",
              "tickwidth": 2
             }
            },
            "type": "scatterpolargl"
           }
          ],
          "scatterternary": [
           {
            "marker": {
             "colorbar": {
              "outlinewidth": 0,
              "tickcolor": "rgb(36,36,36)",
              "ticklen": 8,
              "ticks": "outside",
              "tickwidth": 2
             }
            },
            "type": "scatterternary"
           }
          ],
          "surface": [
           {
            "colorbar": {
             "outlinewidth": 0,
             "tickcolor": "rgb(36,36,36)",
             "ticklen": 8,
             "ticks": "outside",
             "tickwidth": 2
            },
            "colorscale": [
             [
              0,
              "rgb(2,4,25)"
             ],
             [
              0.06274509803921569,
              "rgb(24,15,41)"
             ],
             [
              0.12549019607843137,
              "rgb(47,23,57)"
             ],
             [
              0.18823529411764706,
              "rgb(71,28,72)"
             ],
             [
              0.25098039215686274,
              "rgb(97,30,82)"
             ],
             [
              0.3137254901960784,
              "rgb(123,30,89)"
             ],
             [
              0.3764705882352941,
              "rgb(150,27,91)"
             ],
             [
              0.4392156862745098,
              "rgb(177,22,88)"
             ],
             [
              0.5019607843137255,
              "rgb(203,26,79)"
             ],
             [
              0.5647058823529412,
              "rgb(223,47,67)"
             ],
             [
              0.6274509803921569,
              "rgb(236,76,61)"
             ],
             [
              0.6901960784313725,
              "rgb(242,107,73)"
             ],
             [
              0.7529411764705882,
              "rgb(244,135,95)"
             ],
             [
              0.8156862745098039,
              "rgb(245,162,122)"
             ],
             [
              0.8784313725490196,
              "rgb(246,188,153)"
             ],
             [
              0.9411764705882353,
              "rgb(247,212,187)"
             ],
             [
              1,
              "rgb(250,234,220)"
             ]
            ],
            "type": "surface"
           }
          ],
          "table": [
           {
            "cells": {
             "fill": {
              "color": "rgb(231,231,240)"
             },
             "line": {
              "color": "white"
             }
            },
            "header": {
             "fill": {
              "color": "rgb(183,183,191)"
             },
             "line": {
              "color": "white"
             }
            },
            "type": "table"
           }
          ]
         },
         "layout": {
          "annotationdefaults": {
           "arrowcolor": "rgb(67,103,167)"
          },
          "autotypenumbers": "strict",
          "coloraxis": {
           "colorbar": {
            "outlinewidth": 0,
            "tickcolor": "rgb(36,36,36)",
            "ticklen": 8,
            "ticks": "outside",
            "tickwidth": 2
           }
          },
          "colorscale": {
           "sequential": [
            [
             0,
             "rgb(2,4,25)"
            ],
            [
             0.06274509803921569,
             "rgb(24,15,41)"
            ],
            [
             0.12549019607843137,
             "rgb(47,23,57)"
            ],
            [
             0.18823529411764706,
             "rgb(71,28,72)"
            ],
            [
             0.25098039215686274,
             "rgb(97,30,82)"
            ],
            [
             0.3137254901960784,
             "rgb(123,30,89)"
            ],
            [
             0.3764705882352941,
             "rgb(150,27,91)"
            ],
            [
             0.4392156862745098,
             "rgb(177,22,88)"
            ],
            [
             0.5019607843137255,
             "rgb(203,26,79)"
            ],
            [
             0.5647058823529412,
             "rgb(223,47,67)"
            ],
            [
             0.6274509803921569,
             "rgb(236,76,61)"
            ],
            [
             0.6901960784313725,
             "rgb(242,107,73)"
            ],
            [
             0.7529411764705882,
             "rgb(244,135,95)"
            ],
            [
             0.8156862745098039,
             "rgb(245,162,122)"
            ],
            [
             0.8784313725490196,
             "rgb(246,188,153)"
            ],
            [
             0.9411764705882353,
             "rgb(247,212,187)"
            ],
            [
             1,
             "rgb(250,234,220)"
            ]
           ],
           "sequentialminus": [
            [
             0,
             "rgb(2,4,25)"
            ],
            [
             0.06274509803921569,
             "rgb(24,15,41)"
            ],
            [
             0.12549019607843137,
             "rgb(47,23,57)"
            ],
            [
             0.18823529411764706,
             "rgb(71,28,72)"
            ],
            [
             0.25098039215686274,
             "rgb(97,30,82)"
            ],
            [
             0.3137254901960784,
             "rgb(123,30,89)"
            ],
            [
             0.3764705882352941,
             "rgb(150,27,91)"
            ],
            [
             0.4392156862745098,
             "rgb(177,22,88)"
            ],
            [
             0.5019607843137255,
             "rgb(203,26,79)"
            ],
            [
             0.5647058823529412,
             "rgb(223,47,67)"
            ],
            [
             0.6274509803921569,
             "rgb(236,76,61)"
            ],
            [
             0.6901960784313725,
             "rgb(242,107,73)"
            ],
            [
             0.7529411764705882,
             "rgb(244,135,95)"
            ],
            [
             0.8156862745098039,
             "rgb(245,162,122)"
            ],
            [
             0.8784313725490196,
             "rgb(246,188,153)"
            ],
            [
             0.9411764705882353,
             "rgb(247,212,187)"
            ],
            [
             1,
             "rgb(250,234,220)"
            ]
           ]
          },
          "colorway": [
           "rgb(76,114,176)",
           "rgb(221,132,82)",
           "rgb(85,168,104)",
           "rgb(196,78,82)",
           "rgb(129,114,179)",
           "rgb(147,120,96)",
           "rgb(218,139,195)",
           "rgb(140,140,140)",
           "rgb(204,185,116)",
           "rgb(100,181,205)"
          ],
          "font": {
           "color": "rgb(36,36,36)"
          },
          "geo": {
           "bgcolor": "white",
           "lakecolor": "white",
           "landcolor": "rgb(234,234,242)",
           "showlakes": true,
           "showland": true,
           "subunitcolor": "white"
          },
          "hoverlabel": {
           "align": "left"
          },
          "hovermode": "closest",
          "paper_bgcolor": "white",
          "plot_bgcolor": "rgb(234,234,242)",
          "polar": {
           "angularaxis": {
            "gridcolor": "white",
            "linecolor": "white",
            "showgrid": true,
            "ticks": ""
           },
           "bgcolor": "rgb(234,234,242)",
           "radialaxis": {
            "gridcolor": "white",
            "linecolor": "white",
            "showgrid": true,
            "ticks": ""
           }
          },
          "scene": {
           "xaxis": {
            "backgroundcolor": "rgb(234,234,242)",
            "gridcolor": "white",
            "gridwidth": 2,
            "linecolor": "white",
            "showbackground": true,
            "showgrid": true,
            "ticks": "",
            "zerolinecolor": "white"
           },
           "yaxis": {
            "backgroundcolor": "rgb(234,234,242)",
            "gridcolor": "white",
            "gridwidth": 2,
            "linecolor": "white",
            "showbackground": true,
            "showgrid": true,
            "ticks": "",
            "zerolinecolor": "white"
           },
           "zaxis": {
            "backgroundcolor": "rgb(234,234,242)",
            "gridcolor": "white",
            "gridwidth": 2,
            "linecolor": "white",
            "showbackground": true,
            "showgrid": true,
            "ticks": "",
            "zerolinecolor": "white"
           }
          },
          "shapedefaults": {
           "fillcolor": "rgb(67,103,167)",
           "line": {
            "width": 0
           },
           "opacity": 0.5
          },
          "ternary": {
           "aaxis": {
            "gridcolor": "white",
            "linecolor": "white",
            "showgrid": true,
            "ticks": ""
           },
           "baxis": {
            "gridcolor": "white",
            "linecolor": "white",
            "showgrid": true,
            "ticks": ""
           },
           "bgcolor": "rgb(234,234,242)",
           "caxis": {
            "gridcolor": "white",
            "linecolor": "white",
            "showgrid": true,
            "ticks": ""
           }
          },
          "xaxis": {
           "automargin": true,
           "gridcolor": "white",
           "linecolor": "white",
           "showgrid": true,
           "ticks": "",
           "title": {
            "standoff": 15
           },
           "zerolinecolor": "white"
          },
          "yaxis": {
           "automargin": true,
           "gridcolor": "white",
           "linecolor": "white",
           "showgrid": true,
           "ticks": "",
           "title": {
            "standoff": 15
           },
           "zerolinecolor": "white"
          }
         }
        },
        "title": {
         "font": {
          "family": "Courier New",
          "size": 24
         },
         "text": "<b>Correlation Matrix <b>",
         "x": 0.5
        },
        "width": 900,
        "xaxis": {
         "showgrid": false
        },
        "yaxis": {
         "autorange": "reversed",
         "showgrid": false
        }
       }
      }
     },
     "metadata": {},
     "output_type": "display_data"
    }
   ],
   "source": [
    "import plotly.graph_objects as go\n",
    "\n",
    "colors = ['#1CC7F9', '#2DE31E', '#F98A1C']\n",
    "corr_before = df[['age', 'hours-per-week', 'income']].corr()\n",
    "fig = go.Figure(data= go.Heatmap(z=corr_before,\n",
    "                                 x=corr_before.index.values,\n",
    "                                 y=corr_before.columns.values,\n",
    "                                 colorscale=colors,\n",
    "                                 text = corr_before.round(2), texttemplate=\"%{text}\", xgap=3, ygap=3\n",
    "                                 )\n",
    "                )\n",
    "fig.update_layout(title_text='<b>Correlation Matrix <b>',\n",
    "                  title_x=0.5,\n",
    "                  titlefont={'size': 24, 'family': 'Courier New'},\n",
    "                  width=900, height=600,\n",
    "                  xaxis_showgrid=False,\n",
    "                  yaxis_showgrid=False,\n",
    "                  yaxis_autorange='reversed', \n",
    "                  paper_bgcolor=None,\n",
    "                  template='seaborn'\n",
    "                  )"
   ]
  },
  {
   "cell_type": "markdown",
   "metadata": {},
   "source": [
    "## Shape of dataset after dropping duplicates"
   ]
  },
  {
   "cell_type": "code",
   "execution_count": 11,
   "metadata": {},
   "outputs": [
    {
     "name": "stdout",
     "output_type": "stream",
     "text": [
      "\n",
      "Shape of the dataset after preprocessing: (22718, 42)\n",
      "\n",
      "Data types after preprocessing:\n",
      "income                          int64\n",
      "age                             int64\n",
      "education                       int64\n",
      "sex                             int64\n",
      "hours-per-week                  int64\n",
      "marital-status_Married          uint8\n",
      "marital-status_NotMarried       uint8\n",
      "marital-status_Separated        uint8\n",
      "marital-status_Widowed          uint8\n",
      "race_Amer-Indian-Eskimo         uint8\n",
      "race_Asian-Pac-Islander         uint8\n",
      "race_Black                      uint8\n",
      "race_Other                      uint8\n",
      "race_White                      uint8\n",
      "relationship_Husband            uint8\n",
      "relationship_Not-in-family      uint8\n",
      "relationship_Other-relative     uint8\n",
      "relationship_Own-child          uint8\n",
      "relationship_Unmarried          uint8\n",
      "relationship_Wife               uint8\n",
      "workclass_Federal-gov           uint8\n",
      "workclass_Local-gov             uint8\n",
      "workclass_Never-worked          uint8\n",
      "workclass_Private               uint8\n",
      "workclass_Self-emp-inc          uint8\n",
      "workclass_Self-emp-not-inc      uint8\n",
      "workclass_State-gov             uint8\n",
      "workclass_Without-pay           uint8\n",
      "occupation_Adm-clerical         uint8\n",
      "occupation_Armed-Forces         uint8\n",
      "occupation_Craft-repair         uint8\n",
      "occupation_Exec-managerial      uint8\n",
      "occupation_Farming-fishing      uint8\n",
      "occupation_Handlers-cleaners    uint8\n",
      "occupation_Machine-op-inspct    uint8\n",
      "occupation_Other-service        uint8\n",
      "occupation_Priv-house-serv      uint8\n",
      "occupation_Prof-specialty       uint8\n",
      "occupation_Protective-serv      uint8\n",
      "occupation_Sales                uint8\n",
      "occupation_Tech-support         uint8\n",
      "occupation_Transport-moving     uint8\n",
      "dtype: object\n"
     ]
    }
   ],
   "source": [
    "print(\"\\nShape of the dataset after preprocessing:\", df.shape)\n",
    "print(\"\\nData types after preprocessing:\")\n",
    "print(df.dtypes)"
   ]
  },
  {
   "cell_type": "code",
   "execution_count": 12,
   "metadata": {},
   "outputs": [
    {
     "data": {
      "text/html": [
       "<div>\n",
       "<style scoped>\n",
       "    .dataframe tbody tr th:only-of-type {\n",
       "        vertical-align: middle;\n",
       "    }\n",
       "\n",
       "    .dataframe tbody tr th {\n",
       "        vertical-align: top;\n",
       "    }\n",
       "\n",
       "    .dataframe thead th {\n",
       "        text-align: right;\n",
       "    }\n",
       "</style>\n",
       "<table border=\"1\" class=\"dataframe\">\n",
       "  <thead>\n",
       "    <tr style=\"text-align: right;\">\n",
       "      <th></th>\n",
       "      <th>income</th>\n",
       "      <th>age</th>\n",
       "      <th>education</th>\n",
       "      <th>sex</th>\n",
       "      <th>hours-per-week</th>\n",
       "      <th>marital-status_Married</th>\n",
       "      <th>marital-status_NotMarried</th>\n",
       "      <th>marital-status_Separated</th>\n",
       "      <th>marital-status_Widowed</th>\n",
       "      <th>race_Amer-Indian-Eskimo</th>\n",
       "      <th>...</th>\n",
       "      <th>occupation_Farming-fishing</th>\n",
       "      <th>occupation_Handlers-cleaners</th>\n",
       "      <th>occupation_Machine-op-inspct</th>\n",
       "      <th>occupation_Other-service</th>\n",
       "      <th>occupation_Priv-house-serv</th>\n",
       "      <th>occupation_Prof-specialty</th>\n",
       "      <th>occupation_Protective-serv</th>\n",
       "      <th>occupation_Sales</th>\n",
       "      <th>occupation_Tech-support</th>\n",
       "      <th>occupation_Transport-moving</th>\n",
       "    </tr>\n",
       "  </thead>\n",
       "  <tbody>\n",
       "    <tr>\n",
       "      <th>count</th>\n",
       "      <td>22718.000000</td>\n",
       "      <td>22718.000000</td>\n",
       "      <td>22718.000000</td>\n",
       "      <td>22718.000000</td>\n",
       "      <td>22718.000000</td>\n",
       "      <td>22718.000000</td>\n",
       "      <td>22718.000000</td>\n",
       "      <td>22718.000000</td>\n",
       "      <td>22718.000000</td>\n",
       "      <td>22718.000000</td>\n",
       "      <td>...</td>\n",
       "      <td>22718.000000</td>\n",
       "      <td>22718.000000</td>\n",
       "      <td>22718.000000</td>\n",
       "      <td>22718.000000</td>\n",
       "      <td>22718.000000</td>\n",
       "      <td>22718.000000</td>\n",
       "      <td>22718.000000</td>\n",
       "      <td>22718.000000</td>\n",
       "      <td>22718.000000</td>\n",
       "      <td>22718.000000</td>\n",
       "    </tr>\n",
       "    <tr>\n",
       "      <th>mean</th>\n",
       "      <td>0.290651</td>\n",
       "      <td>39.614975</td>\n",
       "      <td>10.187957</td>\n",
       "      <td>0.332820</td>\n",
       "      <td>40.947795</td>\n",
       "      <td>0.473061</td>\n",
       "      <td>0.316313</td>\n",
       "      <td>0.177348</td>\n",
       "      <td>0.033278</td>\n",
       "      <td>0.010916</td>\n",
       "      <td>...</td>\n",
       "      <td>0.033102</td>\n",
       "      <td>0.037943</td>\n",
       "      <td>0.057311</td>\n",
       "      <td>0.098776</td>\n",
       "      <td>0.005194</td>\n",
       "      <td>0.193371</td>\n",
       "      <td>0.022977</td>\n",
       "      <td>0.114315</td>\n",
       "      <td>0.030460</td>\n",
       "      <td>0.050004</td>\n",
       "    </tr>\n",
       "    <tr>\n",
       "      <th>std</th>\n",
       "      <td>0.454073</td>\n",
       "      <td>13.702505</td>\n",
       "      <td>2.655901</td>\n",
       "      <td>0.471233</td>\n",
       "      <td>12.888369</td>\n",
       "      <td>0.499285</td>\n",
       "      <td>0.465047</td>\n",
       "      <td>0.381972</td>\n",
       "      <td>0.179364</td>\n",
       "      <td>0.103912</td>\n",
       "      <td>...</td>\n",
       "      <td>0.178906</td>\n",
       "      <td>0.191064</td>\n",
       "      <td>0.232442</td>\n",
       "      <td>0.298368</td>\n",
       "      <td>0.071884</td>\n",
       "      <td>0.394950</td>\n",
       "      <td>0.149835</td>\n",
       "      <td>0.318200</td>\n",
       "      <td>0.171854</td>\n",
       "      <td>0.217959</td>\n",
       "    </tr>\n",
       "    <tr>\n",
       "      <th>min</th>\n",
       "      <td>0.000000</td>\n",
       "      <td>17.000000</td>\n",
       "      <td>1.000000</td>\n",
       "      <td>0.000000</td>\n",
       "      <td>1.000000</td>\n",
       "      <td>0.000000</td>\n",
       "      <td>0.000000</td>\n",
       "      <td>0.000000</td>\n",
       "      <td>0.000000</td>\n",
       "      <td>0.000000</td>\n",
       "      <td>...</td>\n",
       "      <td>0.000000</td>\n",
       "      <td>0.000000</td>\n",
       "      <td>0.000000</td>\n",
       "      <td>0.000000</td>\n",
       "      <td>0.000000</td>\n",
       "      <td>0.000000</td>\n",
       "      <td>0.000000</td>\n",
       "      <td>0.000000</td>\n",
       "      <td>0.000000</td>\n",
       "      <td>0.000000</td>\n",
       "    </tr>\n",
       "    <tr>\n",
       "      <th>25%</th>\n",
       "      <td>0.000000</td>\n",
       "      <td>29.000000</td>\n",
       "      <td>9.000000</td>\n",
       "      <td>0.000000</td>\n",
       "      <td>40.000000</td>\n",
       "      <td>0.000000</td>\n",
       "      <td>0.000000</td>\n",
       "      <td>0.000000</td>\n",
       "      <td>0.000000</td>\n",
       "      <td>0.000000</td>\n",
       "      <td>...</td>\n",
       "      <td>0.000000</td>\n",
       "      <td>0.000000</td>\n",
       "      <td>0.000000</td>\n",
       "      <td>0.000000</td>\n",
       "      <td>0.000000</td>\n",
       "      <td>0.000000</td>\n",
       "      <td>0.000000</td>\n",
       "      <td>0.000000</td>\n",
       "      <td>0.000000</td>\n",
       "      <td>0.000000</td>\n",
       "    </tr>\n",
       "    <tr>\n",
       "      <th>50%</th>\n",
       "      <td>0.000000</td>\n",
       "      <td>38.000000</td>\n",
       "      <td>10.000000</td>\n",
       "      <td>0.000000</td>\n",
       "      <td>40.000000</td>\n",
       "      <td>0.000000</td>\n",
       "      <td>0.000000</td>\n",
       "      <td>0.000000</td>\n",
       "      <td>0.000000</td>\n",
       "      <td>0.000000</td>\n",
       "      <td>...</td>\n",
       "      <td>0.000000</td>\n",
       "      <td>0.000000</td>\n",
       "      <td>0.000000</td>\n",
       "      <td>0.000000</td>\n",
       "      <td>0.000000</td>\n",
       "      <td>0.000000</td>\n",
       "      <td>0.000000</td>\n",
       "      <td>0.000000</td>\n",
       "      <td>0.000000</td>\n",
       "      <td>0.000000</td>\n",
       "    </tr>\n",
       "    <tr>\n",
       "      <th>75%</th>\n",
       "      <td>1.000000</td>\n",
       "      <td>49.000000</td>\n",
       "      <td>13.000000</td>\n",
       "      <td>1.000000</td>\n",
       "      <td>45.000000</td>\n",
       "      <td>1.000000</td>\n",
       "      <td>1.000000</td>\n",
       "      <td>0.000000</td>\n",
       "      <td>0.000000</td>\n",
       "      <td>0.000000</td>\n",
       "      <td>...</td>\n",
       "      <td>0.000000</td>\n",
       "      <td>0.000000</td>\n",
       "      <td>0.000000</td>\n",
       "      <td>0.000000</td>\n",
       "      <td>0.000000</td>\n",
       "      <td>0.000000</td>\n",
       "      <td>0.000000</td>\n",
       "      <td>0.000000</td>\n",
       "      <td>0.000000</td>\n",
       "      <td>0.000000</td>\n",
       "    </tr>\n",
       "    <tr>\n",
       "      <th>max</th>\n",
       "      <td>1.000000</td>\n",
       "      <td>90.000000</td>\n",
       "      <td>16.000000</td>\n",
       "      <td>1.000000</td>\n",
       "      <td>99.000000</td>\n",
       "      <td>1.000000</td>\n",
       "      <td>1.000000</td>\n",
       "      <td>1.000000</td>\n",
       "      <td>1.000000</td>\n",
       "      <td>1.000000</td>\n",
       "      <td>...</td>\n",
       "      <td>1.000000</td>\n",
       "      <td>1.000000</td>\n",
       "      <td>1.000000</td>\n",
       "      <td>1.000000</td>\n",
       "      <td>1.000000</td>\n",
       "      <td>1.000000</td>\n",
       "      <td>1.000000</td>\n",
       "      <td>1.000000</td>\n",
       "      <td>1.000000</td>\n",
       "      <td>1.000000</td>\n",
       "    </tr>\n",
       "  </tbody>\n",
       "</table>\n",
       "<p>8 rows × 42 columns</p>\n",
       "</div>"
      ],
      "text/plain": [
       "             income           age     education           sex  hours-per-week  \\\n",
       "count  22718.000000  22718.000000  22718.000000  22718.000000    22718.000000   \n",
       "mean       0.290651     39.614975     10.187957      0.332820       40.947795   \n",
       "std        0.454073     13.702505      2.655901      0.471233       12.888369   \n",
       "min        0.000000     17.000000      1.000000      0.000000        1.000000   \n",
       "25%        0.000000     29.000000      9.000000      0.000000       40.000000   \n",
       "50%        0.000000     38.000000     10.000000      0.000000       40.000000   \n",
       "75%        1.000000     49.000000     13.000000      1.000000       45.000000   \n",
       "max        1.000000     90.000000     16.000000      1.000000       99.000000   \n",
       "\n",
       "       marital-status_Married  marital-status_NotMarried  \\\n",
       "count            22718.000000               22718.000000   \n",
       "mean                 0.473061                   0.316313   \n",
       "std                  0.499285                   0.465047   \n",
       "min                  0.000000                   0.000000   \n",
       "25%                  0.000000                   0.000000   \n",
       "50%                  0.000000                   0.000000   \n",
       "75%                  1.000000                   1.000000   \n",
       "max                  1.000000                   1.000000   \n",
       "\n",
       "       marital-status_Separated  marital-status_Widowed  \\\n",
       "count              22718.000000            22718.000000   \n",
       "mean                   0.177348                0.033278   \n",
       "std                    0.381972                0.179364   \n",
       "min                    0.000000                0.000000   \n",
       "25%                    0.000000                0.000000   \n",
       "50%                    0.000000                0.000000   \n",
       "75%                    0.000000                0.000000   \n",
       "max                    1.000000                1.000000   \n",
       "\n",
       "       race_Amer-Indian-Eskimo  ...  occupation_Farming-fishing  \\\n",
       "count             22718.000000  ...                22718.000000   \n",
       "mean                  0.010916  ...                    0.033102   \n",
       "std                   0.103912  ...                    0.178906   \n",
       "min                   0.000000  ...                    0.000000   \n",
       "25%                   0.000000  ...                    0.000000   \n",
       "50%                   0.000000  ...                    0.000000   \n",
       "75%                   0.000000  ...                    0.000000   \n",
       "max                   1.000000  ...                    1.000000   \n",
       "\n",
       "       occupation_Handlers-cleaners  occupation_Machine-op-inspct  \\\n",
       "count                  22718.000000                  22718.000000   \n",
       "mean                       0.037943                      0.057311   \n",
       "std                        0.191064                      0.232442   \n",
       "min                        0.000000                      0.000000   \n",
       "25%                        0.000000                      0.000000   \n",
       "50%                        0.000000                      0.000000   \n",
       "75%                        0.000000                      0.000000   \n",
       "max                        1.000000                      1.000000   \n",
       "\n",
       "       occupation_Other-service  occupation_Priv-house-serv  \\\n",
       "count              22718.000000                22718.000000   \n",
       "mean                   0.098776                    0.005194   \n",
       "std                    0.298368                    0.071884   \n",
       "min                    0.000000                    0.000000   \n",
       "25%                    0.000000                    0.000000   \n",
       "50%                    0.000000                    0.000000   \n",
       "75%                    0.000000                    0.000000   \n",
       "max                    1.000000                    1.000000   \n",
       "\n",
       "       occupation_Prof-specialty  occupation_Protective-serv  \\\n",
       "count               22718.000000                22718.000000   \n",
       "mean                    0.193371                    0.022977   \n",
       "std                     0.394950                    0.149835   \n",
       "min                     0.000000                    0.000000   \n",
       "25%                     0.000000                    0.000000   \n",
       "50%                     0.000000                    0.000000   \n",
       "75%                     0.000000                    0.000000   \n",
       "max                     1.000000                    1.000000   \n",
       "\n",
       "       occupation_Sales  occupation_Tech-support  occupation_Transport-moving  \n",
       "count      22718.000000             22718.000000                 22718.000000  \n",
       "mean           0.114315                 0.030460                     0.050004  \n",
       "std            0.318200                 0.171854                     0.217959  \n",
       "min            0.000000                 0.000000                     0.000000  \n",
       "25%            0.000000                 0.000000                     0.000000  \n",
       "50%            0.000000                 0.000000                     0.000000  \n",
       "75%            0.000000                 0.000000                     0.000000  \n",
       "max            1.000000                 1.000000                     1.000000  \n",
       "\n",
       "[8 rows x 42 columns]"
      ]
     },
     "execution_count": 12,
     "metadata": {},
     "output_type": "execute_result"
    }
   ],
   "source": [
    "df.describe()"
   ]
  },
  {
   "cell_type": "code",
   "execution_count": null,
   "metadata": {},
   "outputs": [],
   "source": []
  },
  {
   "cell_type": "markdown",
   "metadata": {},
   "source": [
    "## Correlation matrix after preprocessing"
   ]
  },
  {
   "cell_type": "code",
   "execution_count": 13,
   "metadata": {},
   "outputs": [
    {
     "data": {
      "application/vnd.plotly.v1+json": {
       "config": {
        "plotlyServerURL": "https://plot.ly"
       },
       "data": [
        {
         "colorscale": [
          [
           0,
           "#1CC7F9"
          ],
          [
           0.5,
           "#2DE31E"
          ],
          [
           1,
           "#F98A1C"
          ]
         ],
         "text": [
          [
           1,
           0.23,
           0.34,
           -0.22,
           0.24,
           0.46,
           -0.33,
           -0.16,
           -0.07,
           -0.03,
           0.01,
           -0.09,
           -0.04,
           0.09,
           0.41,
           -0.19,
           -0.1,
           -0.23,
           -0.16,
           0.14,
           0.06,
           0.04,
           -0.01,
           -0.14,
           0.15,
           0.04,
           0.02,
           -0.01,
           -0.09,
           0,
           -0.01,
           0.2,
           -0.06,
           -0.09,
           -0.07,
           -0.17,
           -0.04,
           0.12,
           0.03,
           0.02,
           0.03,
           -0.02
          ],
          [
           0.23,
           1,
           0.04,
           -0.08,
           0.04,
           0.29,
           -0.5,
           0.1,
           0.27,
           -0.02,
           -0.02,
           -0.04,
           -0.04,
           0.06,
           0.3,
           -0.02,
           -0.07,
           -0.4,
           0.03,
           0.01,
           0.05,
           0.05,
           -0.02,
           -0.18,
           0.11,
           0.12,
           0.01,
           0,
           -0.04,
           -0.01,
           0,
           0.09,
           0.02,
           -0.09,
           -0.02,
           -0.08,
           0.01,
           0.07,
           -0.01,
           -0.02,
           -0.02,
           0.02
          ],
          [
           0.34,
           0.04,
           1,
           -0.02,
           0.14,
           0.1,
           -0.05,
           -0.04,
           -0.07,
           -0.03,
           0.06,
           -0.08,
           -0.05,
           0.05,
           0.09,
           0.04,
           -0.1,
           -0.1,
           -0.07,
           0.04,
           0.06,
           0.1,
           -0.02,
           -0.18,
           0.08,
           0.01,
           0.11,
           -0.01,
           0,
           0,
           -0.14,
           0.18,
           -0.11,
           -0.12,
           -0.16,
           -0.17,
           -0.07,
           0.33,
           0.01,
           0.02,
           0.05,
           -0.12
          ],
          [
           -0.22,
           -0.08,
           -0.02,
           1,
           -0.23,
           -0.41,
           0.16,
           0.26,
           0.19,
           0.01,
           -0.01,
           0.11,
           0.01,
           -0.09,
           -0.59,
           0.16,
           0.05,
           0.09,
           0.32,
           0.35,
           -0.01,
           0.04,
           0,
           0.09,
           -0.1,
           -0.12,
           0.01,
           0,
           0.24,
           -0.01,
           -0.2,
           -0.04,
           -0.1,
           -0.08,
           -0.02,
           0.15,
           0.1,
           0.06,
           -0.07,
           -0.01,
           0.01,
           -0.14
          ],
          [
           0.24,
           0.04,
           0.14,
           -0.23,
           1,
           0.2,
           -0.18,
           0.01,
           -0.12,
           0,
           -0.01,
           -0.06,
           -0.01,
           0.06,
           0.25,
           -0.01,
           -0.06,
           -0.22,
           -0.05,
           -0.08,
           0.01,
           0.01,
           -0.01,
           -0.11,
           0.13,
           0.09,
           -0.03,
           -0.01,
           -0.09,
           0,
           0.05,
           0.14,
           0.1,
           -0.04,
           0,
           -0.15,
           -0.04,
           -0.05,
           0.03,
           0.02,
           -0.02,
           0.07
          ],
          [
           0.46,
           0.29,
           0.1,
           -0.41,
           0.2,
           1,
           -0.64,
           -0.44,
           -0.18,
           -0.02,
           0.02,
           -0.12,
           -0.01,
           0.1,
           0.88,
           -0.56,
           -0.12,
           -0.36,
           -0.33,
           0.26,
           0.02,
           0.02,
           -0.01,
           -0.15,
           0.12,
           0.12,
           0.01,
           0,
           -0.12,
           0,
           0.08,
           0.1,
           0.04,
           -0.05,
           0,
           -0.15,
           -0.05,
           0.02,
           0.04,
           0.01,
           0,
           0.07
          ],
          [
           -0.33,
           -0.5,
           -0.05,
           0.16,
           -0.18,
           -0.64,
           1,
           -0.32,
           -0.13,
           0.01,
           0.02,
           0.09,
           0.03,
           -0.09,
           -0.56,
           0.32,
           0.12,
           0.47,
           -0.02,
           -0.17,
           -0.03,
           -0.04,
           0.02,
           0.14,
           -0.1,
           -0.1,
           0,
           0.01,
           0.07,
           0.01,
           -0.06,
           -0.1,
           0,
           0.07,
           -0.01,
           0.1,
           0.02,
           -0.01,
           -0.03,
           0.01,
           0,
           -0.05
          ],
          [
           -0.16,
           0.1,
           -0.04,
           0.26,
           0.01,
           -0.44,
           -0.32,
           1,
           -0.09,
           0.01,
           -0.04,
           0.05,
           -0.01,
           -0.02,
           -0.39,
           0.28,
           0.01,
           -0.07,
           0.38,
           -0.11,
           0.01,
           0.02,
           0,
           0.02,
           -0.04,
           -0.04,
           0,
           -0.01,
           0.07,
           -0.01,
           -0.02,
           0,
           -0.05,
           -0.02,
           0.01,
           0.05,
           0.01,
           -0.03,
           -0.01,
           -0.02,
           0,
           -0.02
          ],
          [
           -0.07,
           0.27,
           -0.07,
           0.19,
           -0.12,
           -0.18,
           -0.13,
           -0.09,
           1,
           0.01,
           -0.01,
           0.01,
           -0.01,
           0,
           -0.15,
           0.12,
           0.02,
           -0.06,
           0.17,
           -0.05,
           0,
           0.01,
           0,
           0.01,
           -0.01,
           -0.01,
           -0.02,
           0,
           0.03,
           0,
           -0.04,
           -0.02,
           -0.01,
           -0.02,
           0,
           0.05,
           0.04,
           0.02,
           -0.02,
           0,
           -0.01,
           -0.02
          ],
          [
           -0.03,
           -0.02,
           -0.03,
           0.01,
           0,
           -0.02,
           0.01,
           0.01,
           0.01,
           1,
           -0.02,
           -0.04,
           -0.01,
           -0.24,
           -0.03,
           0,
           0.01,
           0.01,
           0.03,
           0,
           0.01,
           0.02,
           0,
           -0.01,
           -0.02,
           -0.01,
           0,
           0,
           0,
           0.03,
           0.01,
           -0.01,
           -0.01,
           0.01,
           0,
           0,
           -0.01,
           0,
           0,
           -0.01,
           -0.01,
           0.01
          ],
          [
           0.01,
           -0.02,
           0.06,
           -0.01,
           -0.01,
           0.02,
           0.02,
           -0.04,
           -0.01,
           -0.02,
           1,
           -0.07,
           -0.02,
           -0.45,
           0.01,
           -0.03,
           0.04,
           0.01,
           -0.01,
           0.01,
           0.01,
           -0.03,
           0,
           0.01,
           0.01,
           -0.01,
           0.02,
           0,
           0.01,
           0,
           -0.02,
           0,
           -0.02,
           -0.02,
           0,
           0.01,
           0,
           0.03,
           -0.01,
           0,
           0.02,
           -0.02
          ],
          [
           -0.09,
           -0.04,
           -0.08,
           0.11,
           -0.06,
           -0.12,
           0.09,
           0.05,
           0.01,
           -0.04,
           -0.07,
           1,
           -0.03,
           -0.77,
           -0.12,
           0,
           0.05,
           0.03,
           0.13,
           -0.01,
           0.04,
           0.03,
           0,
           0.03,
           -0.06,
           -0.06,
           0.01,
           0,
           0.05,
           0,
           -0.03,
           -0.05,
           -0.04,
           0.02,
           0.04,
           0.09,
           0.02,
           -0.04,
           0.03,
           -0.03,
           -0.02,
           0.01
          ],
          [
           -0.04,
           -0.04,
           -0.05,
           0.01,
           -0.01,
           -0.01,
           0.03,
           -0.01,
           -0.01,
           -0.01,
           -0.02,
           -0.03,
           1,
           -0.23,
           -0.02,
           0,
           0.03,
           0,
           0.01,
           0,
           0,
           -0.01,
           0,
           0.03,
           -0.01,
           -0.02,
           -0.01,
           0,
           -0.01,
           0,
           0,
           -0.03,
           0,
           0,
           0.04,
           0.01,
           0.01,
           0.01,
           0,
           -0.01,
           -0.01,
           0
          ],
          [
           0.09,
           0.06,
           0.05,
           -0.09,
           0.06,
           0.1,
           -0.09,
           -0.02,
           0,
           -0.24,
           -0.45,
           -0.77,
           -0.23,
           1,
           0.11,
           0.02,
           -0.07,
           -0.03,
           -0.11,
           0,
           -0.04,
           -0.01,
           0,
           -0.03,
           0.05,
           0.07,
           -0.02,
           0,
           -0.04,
           0,
           0.03,
           0.05,
           0.04,
           -0.02,
           -0.04,
           -0.08,
           -0.01,
           0.02,
           -0.02,
           0.03,
           0.02,
           0
          ],
          [
           0.41,
           0.3,
           0.09,
           -0.59,
           0.25,
           0.88,
           -0.56,
           -0.39,
           -0.15,
           -0.03,
           0.01,
           -0.12,
           -0.02,
           0.11,
           1,
           -0.49,
           -0.15,
           -0.33,
           -0.29,
           -0.2,
           0.02,
           0.01,
           -0.01,
           -0.15,
           0.13,
           0.13,
           0,
           -0.01,
           -0.16,
           -0.01,
           0.12,
           0.09,
           0.06,
           -0.03,
           0,
           -0.16,
           -0.06,
           -0.01,
           0.06,
           0.02,
           0,
           0.09
          ],
          [
           -0.19,
           -0.02,
           0.04,
           0.16,
           -0.01,
           -0.56,
           0.32,
           0.28,
           0.12,
           0,
           -0.03,
           0,
           0,
           0.02,
           -0.49,
           1,
           -0.11,
           -0.23,
           -0.21,
           -0.14,
           0.01,
           -0.01,
           0,
           0.05,
           -0.05,
           -0.04,
           0.01,
           -0.01,
           0.03,
           0,
           -0.03,
           -0.01,
           -0.03,
           -0.01,
           -0.01,
           0.03,
           0.02,
           0.03,
           -0.01,
           -0.01,
           0.01,
           -0.03
          ],
          [
           -0.1,
           -0.07,
           -0.1,
           0.05,
           -0.06,
           -0.12,
           0.12,
           0.01,
           0.02,
           0.01,
           0.04,
           0.05,
           0.03,
           -0.07,
           -0.15,
           -0.11,
           1,
           -0.07,
           -0.06,
           -0.04,
           -0.01,
           -0.02,
           0,
           0.05,
           -0.03,
           -0.02,
           -0.02,
           0,
           0.01,
           0.03,
           -0.01,
           -0.04,
           0,
           0.04,
           0.01,
           0.06,
           0.04,
           -0.03,
           -0.01,
           -0.01,
           0,
           -0.02
          ],
          [
           -0.23,
           -0.4,
           -0.1,
           0.09,
           -0.22,
           -0.36,
           0.47,
           -0.07,
           -0.06,
           0.01,
           0.01,
           0.03,
           0,
           -0.03,
           -0.33,
           -0.23,
           -0.07,
           1,
           -0.14,
           -0.1,
           -0.04,
           -0.03,
           0.03,
           0.11,
           -0.06,
           -0.06,
           -0.01,
           0.02,
           0.04,
           -0.01,
           -0.04,
           -0.09,
           0.01,
           0.07,
           0,
           0.09,
           0,
           -0.04,
           -0.01,
           0.02,
           -0.01,
           -0.02
          ],
          [
           -0.16,
           0.03,
           -0.07,
           0.32,
           -0.05,
           -0.33,
           -0.02,
           0.38,
           0.17,
           0.03,
           -0.01,
           0.13,
           0.01,
           -0.11,
           -0.29,
           -0.21,
           -0.06,
           -0.14,
           1,
           -0.09,
           0.01,
           0.02,
           -0.01,
           0.04,
           -0.05,
           -0.05,
           0,
           -0.01,
           0.09,
           -0.01,
           -0.04,
           -0.03,
           -0.03,
           -0.02,
           0.02,
           0.07,
           0.04,
           -0.02,
           -0.03,
           -0.02,
           0,
           -0.04
          ],
          [
           0.14,
           0.01,
           0.04,
           0.35,
           -0.08,
           0.26,
           -0.17,
           -0.11,
           -0.05,
           0,
           0.01,
           -0.01,
           0,
           0,
           -0.2,
           -0.14,
           -0.04,
           -0.1,
           -0.09,
           1,
           -0.01,
           0.03,
           0,
           -0.01,
           -0.01,
           -0.01,
           0,
           0.01,
           0.08,
           0,
           -0.07,
           0.02,
           -0.03,
           -0.04,
           -0.01,
           0.01,
           0.01,
           0.06,
           -0.03,
           -0.03,
           0,
           -0.04
          ],
          [
           0.06,
           0.05,
           0.06,
           -0.01,
           0.01,
           0.02,
           -0.03,
           0.01,
           0,
           0.01,
           0.01,
           0.04,
           0,
           -0.04,
           0.02,
           0.01,
           -0.01,
           -0.04,
           0.01,
           -0.01,
           1,
           -0.05,
           0,
           -0.3,
           -0.04,
           -0.06,
           -0.04,
           0,
           0.12,
           0.08,
           -0.03,
           0.03,
           -0.03,
           -0.01,
           -0.03,
           -0.04,
           -0.01,
           0,
           0.01,
           -0.06,
           0.05,
           -0.02
          ],
          [
           0.04,
           0.05,
           0.1,
           0.04,
           0.01,
           0.02,
           -0.04,
           0.02,
           0.01,
           0.02,
           -0.03,
           0.03,
           -0.01,
           -0.01,
           0.01,
           -0.01,
           -0.02,
           -0.03,
           0.02,
           0.03,
           -0.05,
           1,
           0,
           -0.45,
           -0.06,
           -0.09,
           -0.06,
           -0.01,
           0.01,
           0,
           -0.03,
           -0.02,
           -0.03,
           -0.03,
           -0.06,
           -0.01,
           -0.02,
           0.1,
           0.23,
           -0.1,
           -0.02,
           0.01
          ],
          [
           -0.01,
           -0.02,
           -0.02,
           0,
           -0.01,
           -0.01,
           0.02,
           0,
           0,
           0,
           0,
           0,
           0,
           0,
           -0.01,
           0,
           0,
           0.03,
           -0.01,
           0,
           0,
           0,
           1,
           -0.02,
           0,
           0,
           0,
           0,
           -0.01,
           0,
           -0.01,
           -0.01,
           0,
           0,
           0,
           0,
           0,
           0.03,
           0,
           -0.01,
           0,
           0
          ],
          [
           -0.14,
           -0.18,
           -0.18,
           0.09,
           -0.11,
           -0.15,
           0.14,
           0.02,
           0.01,
           -0.01,
           0.01,
           0.03,
           0.03,
           -0.03,
           -0.15,
           0.05,
           0.05,
           0.11,
           0.04,
           -0.01,
           -0.3,
           -0.45,
           -0.02,
           1,
           -0.33,
           -0.49,
           -0.35,
           -0.03,
           0,
           -0.02,
           0.01,
           -0.08,
           -0.11,
           0.09,
           0.12,
           0.07,
           0.05,
           -0.07,
           -0.15,
           0.05,
           0.02,
           0.03
          ],
          [
           0.15,
           0.11,
           0.08,
           -0.1,
           0.13,
           0.12,
           -0.1,
           -0.04,
           -0.01,
           -0.02,
           0.01,
           -0.06,
           -0.01,
           0.05,
           0.13,
           -0.05,
           -0.03,
           -0.06,
           -0.05,
           -0.01,
           -0.04,
           -0.06,
           0,
           -0.33,
           1,
           -0.06,
           -0.05,
           0,
           -0.06,
           0,
           -0.01,
           0.14,
           0.01,
           -0.04,
           -0.04,
           -0.05,
           -0.02,
           -0.02,
           -0.02,
           0.1,
           -0.03,
           -0.03
          ],
          [
           0.04,
           0.12,
           0.01,
           -0.12,
           0.09,
           0.12,
           -0.1,
           -0.04,
           -0.01,
           -0.01,
           -0.01,
           -0.06,
           -0.02,
           0.07,
           0.13,
           -0.04,
           -0.02,
           -0.06,
           -0.05,
           -0.01,
           -0.06,
           -0.09,
           0,
           -0.49,
           -0.06,
           1,
           -0.07,
           -0.01,
           -0.09,
           0,
           0.08,
           0.02,
           0.23,
           -0.05,
           -0.06,
           -0.03,
           -0.02,
           -0.03,
           -0.04,
           0.04,
           -0.04,
           0
          ],
          [
           0.02,
           0.01,
           0.11,
           0.01,
           -0.03,
           0.01,
           0,
           0,
           -0.02,
           0,
           0.02,
           0.01,
           -0.01,
           -0.02,
           0,
           0.01,
           -0.02,
           -0.01,
           0,
           0,
           -0.04,
           -0.06,
           0,
           -0.35,
           -0.05,
           -0.07,
           1,
           0,
           0.05,
           0,
           -0.05,
           0.01,
           -0.02,
           -0.03,
           -0.04,
           -0.01,
           -0.02,
           0.08,
           0.1,
           -0.07,
           0.02,
           -0.02
          ],
          [
           -0.01,
           0,
           -0.01,
           0,
           -0.01,
           0,
           0.01,
           -0.01,
           0,
           0,
           0,
           0,
           0,
           0,
           -0.01,
           -0.01,
           0,
           0.02,
           -0.01,
           0.01,
           0,
           -0.01,
           0,
           -0.03,
           0,
           -0.01,
           0,
           1,
           0,
           0,
           0,
           -0.01,
           0.05,
           0.01,
           0,
           -0.01,
           0,
           -0.01,
           0,
           -0.01,
           0,
           0.01
          ],
          [
           -0.09,
           -0.04,
           0,
           0.24,
           -0.09,
           -0.12,
           0.07,
           0.07,
           0.03,
           0,
           0.01,
           0.05,
           -0.01,
           -0.04,
           -0.16,
           0.03,
           0.01,
           0.04,
           0.09,
           0.08,
           0.12,
           0.01,
           -0.01,
           0,
           -0.06,
           -0.09,
           0.05,
           0,
           1,
           -0.01,
           -0.13,
           -0.14,
           -0.07,
           -0.07,
           -0.09,
           -0.12,
           -0.03,
           -0.18,
           -0.05,
           -0.13,
           -0.06,
           -0.08
          ],
          [
           0,
           -0.01,
           0,
           -0.01,
           0,
           0,
           0.01,
           -0.01,
           0,
           0.03,
           0,
           0,
           0,
           0,
           -0.01,
           0,
           0.03,
           -0.01,
           -0.01,
           0,
           0.08,
           0,
           0,
           -0.02,
           0,
           0,
           0,
           0,
           -0.01,
           1,
           -0.01,
           -0.01,
           0,
           0,
           0,
           0,
           0,
           -0.01,
           0,
           -0.01,
           0,
           0
          ],
          [
           -0.01,
           0,
           -0.14,
           -0.2,
           0.05,
           0.08,
           -0.06,
           -0.02,
           -0.04,
           0.01,
           -0.02,
           -0.03,
           0,
           0.03,
           0.12,
           -0.03,
           -0.01,
           -0.04,
           -0.04,
           -0.07,
           -0.03,
           -0.03,
           -0.01,
           0.01,
           -0.01,
           0.08,
           -0.05,
           0,
           -0.13,
           -0.01,
           1,
           -0.14,
           -0.06,
           -0.07,
           -0.09,
           -0.12,
           -0.03,
           -0.17,
           -0.05,
           -0.13,
           -0.06,
           -0.08
          ],
          [
           0.2,
           0.09,
           0.18,
           -0.04,
           0.14,
           0.1,
           -0.1,
           0,
           -0.02,
           -0.01,
           0,
           -0.05,
           -0.03,
           0.05,
           0.09,
           -0.01,
           -0.04,
           -0.09,
           -0.03,
           0.02,
           0.03,
           -0.02,
           -0.01,
           -0.08,
           0.14,
           0.02,
           0.01,
           -0.01,
           -0.14,
           -0.01,
           -0.14,
           1,
           -0.07,
           -0.08,
           -0.1,
           -0.13,
           -0.03,
           -0.19,
           -0.06,
           -0.14,
           -0.07,
           -0.09
          ],
          [
           -0.06,
           0.02,
           -0.11,
           -0.1,
           0.1,
           0.04,
           0,
           -0.05,
           -0.01,
           -0.01,
           -0.02,
           -0.04,
           0,
           0.04,
           0.06,
           -0.03,
           0,
           0.01,
           -0.03,
           -0.03,
           -0.03,
           -0.03,
           0,
           -0.11,
           0.01,
           0.23,
           -0.02,
           0.05,
           -0.07,
           0,
           -0.06,
           -0.07,
           1,
           -0.04,
           -0.05,
           -0.06,
           -0.01,
           -0.09,
           -0.03,
           -0.07,
           -0.03,
           -0.04
          ],
          [
           -0.09,
           -0.09,
           -0.12,
           -0.08,
           -0.04,
           -0.05,
           0.07,
           -0.02,
           -0.02,
           0.01,
           -0.02,
           0.02,
           0,
           -0.02,
           -0.03,
           -0.01,
           0.04,
           0.07,
           -0.02,
           -0.04,
           -0.01,
           -0.03,
           0,
           0.09,
           -0.04,
           -0.05,
           -0.03,
           0.01,
           -0.07,
           0,
           -0.07,
           -0.08,
           -0.04,
           1,
           -0.05,
           -0.07,
           -0.01,
           -0.1,
           -0.03,
           -0.07,
           -0.04,
           -0.05
          ],
          [
           -0.07,
           -0.02,
           -0.16,
           -0.02,
           0,
           0,
           -0.01,
           0.01,
           0,
           0,
           0,
           0.04,
           0.04,
           -0.04,
           0,
           -0.01,
           0.01,
           0,
           0.02,
           -0.01,
           -0.03,
           -0.06,
           0,
           0.12,
           -0.04,
           -0.06,
           -0.04,
           0,
           -0.09,
           0,
           -0.09,
           -0.1,
           -0.05,
           -0.05,
           1,
           -0.08,
           -0.02,
           -0.12,
           -0.04,
           -0.09,
           -0.04,
           -0.06
          ],
          [
           -0.17,
           -0.08,
           -0.17,
           0.15,
           -0.15,
           -0.15,
           0.1,
           0.05,
           0.05,
           0,
           0.01,
           0.09,
           0.01,
           -0.08,
           -0.16,
           0.03,
           0.06,
           0.09,
           0.07,
           0.01,
           -0.04,
           -0.01,
           0,
           0.07,
           -0.05,
           -0.03,
           -0.01,
           -0.01,
           -0.12,
           0,
           -0.12,
           -0.13,
           -0.06,
           -0.07,
           -0.08,
           1,
           -0.02,
           -0.16,
           -0.05,
           -0.12,
           -0.06,
           -0.08
          ],
          [
           -0.04,
           0.01,
           -0.07,
           0.1,
           -0.04,
           -0.05,
           0.02,
           0.01,
           0.04,
           -0.01,
           0,
           0.02,
           0.01,
           -0.01,
           -0.06,
           0.02,
           0.04,
           0,
           0.04,
           0.01,
           -0.01,
           -0.02,
           0,
           0.05,
           -0.02,
           -0.02,
           -0.02,
           0,
           -0.03,
           0,
           -0.03,
           -0.03,
           -0.01,
           -0.01,
           -0.02,
           -0.02,
           1,
           -0.04,
           -0.01,
           -0.03,
           -0.01,
           -0.02
          ],
          [
           0.12,
           0.07,
           0.33,
           0.06,
           -0.05,
           0.02,
           -0.01,
           -0.03,
           0.02,
           0,
           0.03,
           -0.04,
           0.01,
           0.02,
           -0.01,
           0.03,
           -0.03,
           -0.04,
           -0.02,
           0.06,
           0,
           0.1,
           0.03,
           -0.07,
           -0.02,
           -0.03,
           0.08,
           -0.01,
           -0.18,
           -0.01,
           -0.17,
           -0.19,
           -0.09,
           -0.1,
           -0.12,
           -0.16,
           -0.04,
           1,
           -0.08,
           -0.18,
           -0.09,
           -0.11
          ],
          [
           0.03,
           -0.01,
           0.01,
           -0.07,
           0.03,
           0.04,
           -0.03,
           -0.01,
           -0.02,
           0,
           -0.01,
           0.03,
           0,
           -0.02,
           0.06,
           -0.01,
           -0.01,
           -0.01,
           -0.03,
           -0.03,
           0.01,
           0.23,
           0,
           -0.15,
           -0.02,
           -0.04,
           0.1,
           0,
           -0.05,
           0,
           -0.05,
           -0.06,
           -0.03,
           -0.03,
           -0.04,
           -0.05,
           -0.01,
           -0.08,
           1,
           -0.06,
           -0.03,
           -0.04
          ],
          [
           0.02,
           -0.02,
           0.02,
           -0.01,
           0.02,
           0.01,
           0.01,
           -0.02,
           0,
           -0.01,
           0,
           -0.03,
           -0.01,
           0.03,
           0.02,
           -0.01,
           -0.01,
           0.02,
           -0.02,
           -0.03,
           -0.06,
           -0.1,
           -0.01,
           0.05,
           0.1,
           0.04,
           -0.07,
           -0.01,
           -0.13,
           -0.01,
           -0.13,
           -0.14,
           -0.07,
           -0.07,
           -0.09,
           -0.12,
           -0.03,
           -0.18,
           -0.06,
           1,
           -0.06,
           -0.08
          ],
          [
           0.03,
           -0.02,
           0.05,
           0.01,
           -0.02,
           0,
           0,
           0,
           -0.01,
           -0.01,
           0.02,
           -0.02,
           -0.01,
           0.02,
           0,
           0.01,
           0,
           -0.01,
           0,
           0,
           0.05,
           -0.02,
           0,
           0.02,
           -0.03,
           -0.04,
           0.02,
           0,
           -0.06,
           0,
           -0.06,
           -0.07,
           -0.03,
           -0.04,
           -0.04,
           -0.06,
           -0.01,
           -0.09,
           -0.03,
           -0.06,
           1,
           -0.04
          ],
          [
           -0.02,
           0.02,
           -0.12,
           -0.14,
           0.07,
           0.07,
           -0.05,
           -0.02,
           -0.02,
           0.01,
           -0.02,
           0.01,
           0,
           0,
           0.09,
           -0.03,
           -0.02,
           -0.02,
           -0.04,
           -0.04,
           -0.02,
           0.01,
           0,
           0.03,
           -0.03,
           0,
           -0.02,
           0.01,
           -0.08,
           0,
           -0.08,
           -0.09,
           -0.04,
           -0.05,
           -0.06,
           -0.08,
           -0.02,
           -0.11,
           -0.04,
           -0.08,
           -0.04,
           1
          ]
         ],
         "texttemplate": "%{text}",
         "type": "heatmap",
         "x": [
          "income",
          "age",
          "education",
          "sex",
          "hours-per-week",
          "marital-status_Married",
          "marital-status_NotMarried",
          "marital-status_Separated",
          "marital-status_Widowed",
          "race_Amer-Indian-Eskimo",
          "race_Asian-Pac-Islander",
          "race_Black",
          "race_Other",
          "race_White",
          "relationship_Husband",
          "relationship_Not-in-family",
          "relationship_Other-relative",
          "relationship_Own-child",
          "relationship_Unmarried",
          "relationship_Wife",
          "workclass_Federal-gov",
          "workclass_Local-gov",
          "workclass_Never-worked",
          "workclass_Private",
          "workclass_Self-emp-inc",
          "workclass_Self-emp-not-inc",
          "workclass_State-gov",
          "workclass_Without-pay",
          "occupation_Adm-clerical",
          "occupation_Armed-Forces",
          "occupation_Craft-repair",
          "occupation_Exec-managerial",
          "occupation_Farming-fishing",
          "occupation_Handlers-cleaners",
          "occupation_Machine-op-inspct",
          "occupation_Other-service",
          "occupation_Priv-house-serv",
          "occupation_Prof-specialty",
          "occupation_Protective-serv",
          "occupation_Sales",
          "occupation_Tech-support",
          "occupation_Transport-moving"
         ],
         "xgap": 3,
         "y": [
          "income",
          "age",
          "education",
          "sex",
          "hours-per-week",
          "marital-status_Married",
          "marital-status_NotMarried",
          "marital-status_Separated",
          "marital-status_Widowed",
          "race_Amer-Indian-Eskimo",
          "race_Asian-Pac-Islander",
          "race_Black",
          "race_Other",
          "race_White",
          "relationship_Husband",
          "relationship_Not-in-family",
          "relationship_Other-relative",
          "relationship_Own-child",
          "relationship_Unmarried",
          "relationship_Wife",
          "workclass_Federal-gov",
          "workclass_Local-gov",
          "workclass_Never-worked",
          "workclass_Private",
          "workclass_Self-emp-inc",
          "workclass_Self-emp-not-inc",
          "workclass_State-gov",
          "workclass_Without-pay",
          "occupation_Adm-clerical",
          "occupation_Armed-Forces",
          "occupation_Craft-repair",
          "occupation_Exec-managerial",
          "occupation_Farming-fishing",
          "occupation_Handlers-cleaners",
          "occupation_Machine-op-inspct",
          "occupation_Other-service",
          "occupation_Priv-house-serv",
          "occupation_Prof-specialty",
          "occupation_Protective-serv",
          "occupation_Sales",
          "occupation_Tech-support",
          "occupation_Transport-moving"
         ],
         "ygap": 3,
         "z": [
          [
           1,
           0.2253679369503685,
           0.34380567839653026,
           -0.2204572728613435,
           0.23924593473160197,
           0.4583075788488731,
           -0.3284559476499657,
           -0.16472450317119675,
           -0.07336166764379486,
           -0.03366197829404464,
           0.014543220323379935,
           -0.09341425888532472,
           -0.03855066162284417,
           0.08962329518935606,
           0.4052082804519102,
           -0.1929093227158607,
           -0.09581357788841452,
           -0.23387640568118967,
           -0.15730954241390122,
           0.1351555159250457,
           0.06153983517249336,
           0.035308123451427954,
           -0.009497367545999695,
           -0.1430720850655451,
           0.14840706009245472,
           0.0369551481898473,
           0.020235550898346864,
           -0.01274317781783084,
           -0.08892775553086263,
           -0.0029621200551616183,
           -0.01347930614176079,
           0.19828005936266582,
           -0.057747309033459725,
           -0.08754616709994224,
           -0.0719142655343992,
           -0.16772827085710323,
           -0.04490463417274655,
           0.1230179480904789,
           0.03123794754146833,
           0.023209562485420252,
           0.03208079253998502,
           -0.017871010444240453
          ],
          [
           0.2253679369503685,
           1,
           0.040836938414681404,
           -0.08010225638370164,
           0.037348829821321775,
           0.28795941935908725,
           -0.4950424975571306,
           0.10089369085700624,
           0.26708588593875365,
           -0.016895977532634495,
           -0.01680612601912948,
           -0.036318072699842656,
           -0.04413098780747672,
           0.055284576421787406,
           0.29608775455237435,
           -0.018257178694092352,
           -0.07425571103029224,
           -0.39803640346571606,
           0.03079712299423104,
           0.008326563650742648,
           0.045214967160134754,
           0.05430616302812238,
           -0.022105797492354886,
           -0.17731734624226272,
           0.1061590994000509,
           0.12465846991389896,
           0.006266097240244982,
           -0.0034763992475311365,
           -0.038124887860832686,
           -0.007812538343672825,
           0.00009593406353009634,
           0.09299281185869306,
           0.02012111765111849,
           -0.09131856533140513,
           -0.02165309681769456,
           -0.07642457468005764,
           0.014320281139306149,
           0.07292516154194272,
           -0.007247285888992638,
           -0.02084912243902639,
           -0.023227742938048298,
           0.01929936848967843
          ],
          [
           0.34380567839653026,
           0.040836938414681404,
           1,
           -0.021811799804488895,
           0.1402401784537106,
           0.10158145304425382,
           -0.048030780206650345,
           -0.04040964992516282,
           -0.07217799379953846,
           -0.029446464531701147,
           0.06490921217907089,
           -0.07713639166853796,
           -0.04677077442172829,
           0.05128417377112862,
           0.0904728473457066,
           0.042318230366909876,
           -0.0984687957225021,
           -0.09857598251378497,
           -0.06789844970824231,
           0.039900673430562666,
           0.06329632701379077,
           0.10084486732191078,
           -0.020044378353573426,
           -0.1769634781378713,
           0.08145447202018283,
           0.013589658621619389,
           0.10688645397249415,
           -0.005573243543589007,
           -0.003109649792993567,
           0.004536538437254303,
           -0.1384870759468131,
           0.18431481157446447,
           -0.10796106743543571,
           -0.12465826648123672,
           -0.16184347185643586,
           -0.17224836139916289,
           -0.0675981981694662,
           0.3278493420200241,
           0.00507587607631408,
           0.021089168058193608,
           0.05091624809476262,
           -0.12421864129526564
          ],
          [
           -0.2204572728613435,
           -0.08010225638370164,
           -0.021811799804488895,
           1,
           -0.23284972946279053,
           -0.412699513178287,
           0.1573534517409205,
           0.25655841597846984,
           0.19446329635486637,
           0.012999766428233634,
           -0.006915654153251726,
           0.10730677593725599,
           0.012190159311531938,
           -0.09208353718827815,
           -0.5859428652191402,
           0.15553267861007533,
           0.04661119007236439,
           0.09081943144314544,
           0.32059243748803107,
           0.3471322279331941,
           -0.009123324493586334,
           0.03623861755398456,
           -0.004182003513793373,
           0.09337164878559337,
           -0.0958563058687031,
           -0.11650243621919701,
           0.012259879968094838,
           -0.004672417894439984,
           0.23879706472542386,
           -0.010479263129777748,
           -0.19720391685738373,
           -0.03719230064745723,
           -0.10405290435074974,
           -0.08306238154005816,
           -0.017012238985721413,
           0.15377202620773667,
           0.09580909757153402,
           0.06336956189390228,
           -0.07464680546437227,
           -0.007143460996254732,
           0.012332828562835692,
           -0.13546913794125015
          ],
          [
           0.23924593473160197,
           0.037348829821321775,
           0.1402401784537106,
           -0.23284972946279053,
           1,
           0.20447675102840343,
           -0.1786065512611885,
           0.005180239214508639,
           -0.11713808013579224,
           -0.003748791291574061,
           -0.010174601980289284,
           -0.059121783985990294,
           -0.01065517544064867,
           0.05800858913434196,
           0.24604553145462493,
           -0.008981066139697198,
           -0.05769426792421648,
           -0.21896902580365596,
           -0.045200239752952565,
           -0.07722386605388898,
           0.013256485032396192,
           0.007888781145264175,
           -0.011452127253067927,
           -0.1121356022725253,
           0.1286310602280678,
           0.09229673429857439,
           -0.026371631069407406,
           -0.011761779590906121,
           -0.09245403261185088,
           0.0030532789939277205,
           0.05280361582075837,
           0.13500641608703304,
           0.10015597568002312,
           -0.03845146052641047,
           -0.0021016486773760288,
           -0.14951002325129112,
           -0.04498760463175472,
           -0.04932451192586646,
           0.030231853118629054,
           0.022976386710068644,
           -0.019017151157138007,
           0.07199402155837915
          ],
          [
           0.4583075788488731,
           0.28795941935908725,
           0.10158145304425382,
           -0.412699513178287,
           0.20447675102840343,
           1,
           -0.6444783379512797,
           -0.4399304376384606,
           -0.17579372274005717,
           -0.02148239317740494,
           0.018499438181761762,
           -0.12275548074485539,
           -0.013570311457284186,
           0.10167711103964583,
           0.8758600783820836,
           -0.5565088208398364,
           -0.1203664842578125,
           -0.3554862781824222,
           -0.33288072335612867,
           0.25906218686631727,
           0.01770683985431838,
           0.01852086088739116,
           -0.014058084866358915,
           -0.15151782389997084,
           0.12375475008914877,
           0.1205522146240965,
           0.006810772079477402,
           0.0032893398402807183,
           -0.12339709126240193,
           -0.0021711742124483663,
           0.08314235484064038,
           0.09892312304718807,
           0.0410301828523208,
           -0.048811263958013856,
           -0.00338544612131284,
           -0.15175055435589993,
           -0.048840529650084646,
           0.017823600657872304,
           0.04240293140642444,
           0.008439921010099405,
           -0.0006968028548626495,
           0.07022353790209793
          ],
          [
           -0.3284559476499657,
           -0.4950424975571306,
           -0.048030780206650345,
           0.1573534517409205,
           -0.1786065512611885,
           -0.6444783379512797,
           1,
           -0.3158170097404268,
           -0.12619869665060066,
           0.009614294352369155,
           0.019566258484883473,
           0.08805888675388777,
           0.02649454128450176,
           -0.09266255551471803,
           -0.5644728475935625,
           0.3242707994268083,
           0.11668268744914195,
           0.4675219708650646,
           -0.01983056204251312,
           -0.16695996761762683,
           -0.027248237487129044,
           -0.03852810815185713,
           0.01543209593871535,
           0.1388983579926637,
           -0.09632891263715275,
           -0.09767094259262407,
           -0.004548506561380492,
           0.005485176169782513,
           0.06704163509805461,
           0.009051069482894164,
           -0.061004772479097184,
           -0.09798949990719259,
           -0.00045894090864398836,
           0.07398515349694804,
           -0.0056358784677613795,
           0.10411900313621218,
           0.023274398030457367,
           -0.005887027984652071,
           -0.027869588620637296,
           0.007298573795634671,
           0.00281532712790421,
           -0.050087138733235184
          ],
          [
           -0.16472450317119675,
           0.10089369085700624,
           -0.04040964992516282,
           0.25655841597846984,
           0.005180239214508639,
           -0.4399304376384606,
           -0.3158170097404268,
           1,
           -0.08614509530823,
           0.013328124998073438,
           -0.0445137247201128,
           0.050079872711867104,
           -0.011787376235132941,
           -0.019131887614331187,
           -0.38531750759268724,
           0.2753763869298806,
           0.0068333962904778955,
           -0.07416663618062239,
           0.38152802914372386,
           -0.11396934124367651,
           0.009017988902592807,
           0.017426648226911083,
           0.0008798849064664091,
           0.024569534912546407,
           -0.04065856031312178,
           -0.035196621279509246,
           0.004965776000117961,
           -0.00924331708096899,
           0.06667351712688221,
           -0.006888955087744561,
           -0.017127126410378144,
           -0.00002037381693335901,
           -0.04790360959700877,
           -0.017416091190705744,
           0.009465970371011795,
           0.047133889247988246,
           0.014545512598840777,
           -0.025412699163478453,
           -0.011210874735584544,
           -0.01759214256150537,
           0.0021961419367968133,
           -0.019282005748878586
          ],
          [
           -0.07336166764379486,
           0.26708588593875365,
           -0.07217799379953846,
           0.19446329635486637,
           -0.11713808013579224,
           -0.17579372274005717,
           -0.12619869665060066,
           -0.08614509530823,
           1,
           0.00648828569405704,
           -0.007430317399907892,
           0.0067423364078637235,
           -0.005816712964639237,
           -0.002038072241945622,
           -0.1539707037781844,
           0.12192642987251022,
           0.01797493396742637,
           -0.06467958335868373,
           0.1655374029100086,
           -0.045541506250410056,
           0.0021539240371717433,
           0.011226911805195078,
           -0.0027527876160705613,
           0.009318579077905672,
           -0.008145313705718192,
           -0.007382742470542955,
           -0.017740593882150064,
           -0.0036935773956737823,
           0.027683236838433885,
           -0.002752787616070579,
           -0.03679410012360552,
           -0.021260129470891186,
           -0.011008286171868057,
           -0.018863238800317664,
           0.0038776763018815224,
           0.05208785538004081,
           0.04463355304935426,
           0.01976770340745502,
           -0.021900858195307557,
           -0.004953063334034138,
           -0.010036662009060482,
           -0.024550538776387576
          ],
          [
           -0.03366197829404464,
           -0.016895977532634495,
           -0.029446464531701147,
           0.012999766428233634,
           -0.003748791291574061,
           -0.02148239317740494,
           0.009614294352369155,
           0.013328124998073438,
           0.00648828569405704,
           1,
           -0.02048343414337997,
           -0.03530257231167648,
           -0.010388759402754152,
           -0.24190012878559475,
           -0.025119678369243642,
           -0.0020542548566309118,
           0.007436473078665402,
           0.00808146684781738,
           0.02675661242411543,
           0.0034891309194934163,
           0.014640243234077316,
           0.021057379579344847,
           -0.0015587341698739278,
           -0.006359096547686615,
           -0.01772872040660393,
           -0.007210715410118323,
           0.0017467899772755397,
           -0.0020914455085818966,
           -0.0016833153832354402,
           0.02699878427463889,
           0.01061808926966493,
           -0.011153280874801512,
           -0.005231040744689726,
           0.014611347228968214,
           -0.004033603648708518,
           0.002134650859112852,
           -0.007591211442984818,
           0.00004721391676783605,
           0.0036800298239869082,
           -0.008453913423094626,
           -0.008761168216084062,
           0.014769266109924802
          ],
          [
           0.014543220323379935,
           -0.01680612601912948,
           0.06490921217907089,
           -0.006915654153251726,
           -0.010174601980289284,
           0.018499438181761762,
           0.019566258484883473,
           -0.0445137247201128,
           -0.007430317399907892,
           -0.02048343414337997,
           1,
           -0.06551798206010899,
           -0.019280480361803673,
           -0.4489420249093432,
           0.007481225358316138,
           -0.028968019910565752,
           0.03926225235373018,
           0.010751054570038002,
           -0.011548294978902817,
           0.008826469802582032,
           0.013991053207151206,
           -0.02852895987590722,
           -0.0028928520130670383,
           0.007610411580815963,
           0.0060514451772716625,
           -0.010100057207463075,
           0.015392389887608481,
           -0.0038815100526156656,
           0.006772395028703812,
           -0.002892852013067051,
           -0.016622165100148897,
           0.0017322956139944174,
           -0.01904665638288843,
           -0.017869618993992302,
           0.00031953097503485055,
           0.011638727540838993,
           -0.004308236509855955,
           0.026176586413740828,
           -0.011131669891702906,
           -0.0022903099288454367,
           0.01589601763386291,
           -0.02107790473370793
          ],
          [
           -0.09341425888532472,
           -0.036318072699842656,
           -0.07713639166853796,
           0.10730677593725599,
           -0.059121783985990294,
           -0.12275548074485539,
           0.08805888675388777,
           0.050079872711867104,
           0.0067423364078637235,
           -0.03530257231167648,
           -0.06551798206010899,
           1,
           -0.03322931825845276,
           -0.7737378501658427,
           -0.11896972122151128,
           0.000005246921377115384,
           0.04515355820913662,
           0.030638301443870437,
           0.13227761126567483,
           -0.0056589497981207855,
           0.038555340764916055,
           0.029710680857539574,
           0.004842117996865006,
           0.025821252597981452,
           -0.05567947372700196,
           -0.06423610952387554,
           0.013656750201679242,
           0.0006362355658905656,
           0.04831703533737944,
           -0.0049857419739005706,
           -0.03152288754820524,
           -0.04730122286031758,
           -0.035283720070371505,
           0.024829242871781503,
           0.03882200673006074,
           0.08615322871128181,
           0.01628055824024472,
           -0.04050084428966359,
           0.027279881913581883,
           -0.03229834639552666,
           -0.022235591174776994,
           0.010528024781160031
          ],
          [
           -0.03855066162284417,
           -0.04413098780747672,
           -0.04677077442172829,
           0.012190159311531938,
           -0.01065517544064867,
           -0.013570311457284186,
           0.02649454128450176,
           -0.011787376235132941,
           -0.005816712964639237,
           -0.010388759402754152,
           -0.019280480361803673,
           -0.03322931825845276,
           1,
           -0.22769378659465328,
           -0.02169712917654653,
           -0.0009070218812059598,
           0.033191075420828144,
           0.0017090486121484722,
           0.011252548166164411,
           0.004849966773249449,
           -0.0041127055584913004,
           -0.012166652613213997,
           -0.001467192627035121,
           0.0312320729431912,
           -0.011691980417921428,
           -0.018022133900166944,
           -0.012772952124335385,
           -0.001968618825033689,
           -0.010003144166470145,
           -0.0014671926270351243,
           -0.00014873567216020346,
           -0.028101425240715076,
           0.0043156062960994805,
           -0.0008176828125681747,
           0.04136692887660763,
           0.007938159970653873,
           0.011613742127203355,
           0.0073503724952645715,
           -0.00016506466195104658,
           -0.00727390400090186,
           -0.009680984663701908,
           0.0020603026273983997
          ],
          [
           0.08962329518935606,
           0.055284576421787406,
           0.05128417377112862,
           -0.09208353718827815,
           0.05800858913434196,
           0.10167711103964583,
           -0.09266255551471803,
           -0.019131887614331187,
           -0.002038072241945622,
           -0.24190012878559475,
           -0.4489420249093432,
           -0.7737378501658427,
           -0.22769378659465328,
           1,
           0.10742544023849941,
           0.015714747558187366,
           -0.0685078063989518,
           -0.033601604747434045,
           -0.11399800025263314,
           -0.002153274132004377,
           -0.04211446495597023,
           -0.012613345930786106,
           -0.0016776881506610822,
           -0.03181246352237793,
           0.051076153847263724,
           0.06515558140350931,
           -0.016271690647195518,
           0.0025920393575100493,
           -0.04024927717622305,
           -0.0016776881506610723,
           0.03161468403165642,
           0.04890111321291594,
           0.039279640046592956,
           -0.01526778841355618,
           -0.04218543739027296,
           -0.07991184259370787,
           -0.012192780660776302,
           0.018028233967192824,
           -0.01782291761033082,
           0.03222134535985409,
           0.015289197606042424,
           -0.002616726547668874
          ],
          [
           0.4052082804519102,
           0.29608775455237435,
           0.0904728473457066,
           -0.5859428652191402,
           0.24604553145462493,
           0.8758600783820836,
           -0.5644728475935625,
           -0.38531750759268724,
           -0.1539707037781844,
           -0.025119678369243642,
           0.007481225358316138,
           -0.11896972122151128,
           -0.02169712917654653,
           0.10742544023849941,
           1,
           -0.4900692978738064,
           -0.1506745513223811,
           -0.32785189699565254,
           -0.2915569364505803,
           -0.20370213321649888,
           0.02420235725709611,
           0.007455983210581415,
           -0.012312915312951108,
           -0.1536814696471466,
           0.1315611316923153,
           0.12671441208735218,
           0.004586800863050813,
           -0.007518787200264077,
           -0.16457781546627553,
           -0.006274603168760602,
           0.11726721819557537,
           0.09411795188562112,
           0.05723410847940408,
           -0.03307298490655308,
           0.000389224379638462,
           -0.15855959891325414,
           -0.05996528813359968,
           -0.010110866767369822,
           0.05745855083883245,
           0.020514208826897994,
           -0.0006337266536649216,
           0.09358008021353602
          ],
          [
           -0.1929093227158607,
           -0.018257178694092352,
           0.042318230366909876,
           0.15553267861007533,
           -0.008981066139697198,
           -0.5565088208398364,
           0.3242707994268083,
           0.2753763869298806,
           0.12192642987251022,
           -0.0020542548566309118,
           -0.028968019910565752,
           0.000005246921377115384,
           -0.0009070218812059598,
           0.015714747558187366,
           -0.4900692978738064,
           1,
           -0.10721884409985653,
           -0.233296871457798,
           -0.20746965855330354,
           -0.1449528608014086,
           0.008742326593107835,
           -0.008963411985187665,
           -0.001984451094447719,
           0.04743417242708582,
           -0.05365819780178226,
           -0.04147362923802675,
           0.010194531995812734,
           -0.011756190213614308,
           0.03372070120842294,
           0.004792873013138506,
           -0.03268900089781478,
           -0.008911009465075444,
           -0.03396314715899124,
           -0.007303503139904205,
           -0.00936278040888664,
           0.030254228026285652,
           0.024460691630193238,
           0.03210913015488012,
           -0.014740769385921209,
           -0.010895317155798973,
           0.006479192715845586,
           -0.03123920706468865
          ],
          [
           -0.09581357788841452,
           -0.07425571103029224,
           -0.0984687957225021,
           0.04661119007236439,
           -0.05769426792421648,
           -0.1203664842578125,
           0.11668268744914195,
           0.0068333962904778955,
           0.01797493396742637,
           0.007436473078665402,
           0.03926225235373018,
           0.04515355820913662,
           0.033191075420828144,
           -0.0685078063989518,
           -0.1506745513223811,
           -0.10721884409985653,
           1,
           -0.07172843021247753,
           -0.06378770890392754,
           -0.04456656917481867,
           -0.012698819583029215,
           -0.01719362760739195,
           -0.0026938568751025444,
           0.050206734132450116,
           -0.030447769011388775,
           -0.02015074212896164,
           -0.01883660431708855,
           -0.0036145065470986537,
           0.013694976036543861,
           0.031071130980665735,
           -0.008363851186896108,
           -0.04079505603316036,
           -0.0013978554930877604,
           0.04258754863222635,
           0.014490459676629007,
           0.057401175620582855,
           0.0356549826498799,
           -0.029291450818989904,
           -0.0077864833745244265,
           -0.006987451878965659,
           -0.004493923032185308,
           -0.016377060717720698
          ],
          [
           -0.23387640568118967,
           -0.39803640346571606,
           -0.09857598251378497,
           0.09081943144314544,
           -0.21896902580365596,
           -0.3554862781824222,
           0.4675219708650646,
           -0.07416663618062239,
           -0.06467958335868373,
           0.00808146684781738,
           0.010751054570038002,
           0.030638301443870437,
           0.0017090486121484722,
           -0.033601604747434045,
           -0.32785189699565254,
           -0.233296871457798,
           -0.07172843021247753,
           1,
           -0.1387953120524923,
           -0.096972143725122,
           -0.04425382801495625,
           -0.03000981830237678,
           0.028872757556561584,
           0.10509617599064748,
           -0.05684919203780616,
           -0.06405487325384676,
           -0.013577628706431689,
           0.02449984413391412,
           0.044783261111083286,
           -0.0058615478127258865,
           -0.03630076338516157,
           -0.09083214794164508,
           0.010424027045249118,
           0.07458378015059375,
           -0.004308155827671645,
           0.08939017977306497,
           0.00012478490137919862,
           -0.03557277698831126,
           -0.010721874913426653,
           0.024449809329719192,
           -0.005563251606737192,
           -0.022672744563709463
          ],
          [
           -0.15730954241390122,
           0.03079712299423104,
           -0.06789844970824231,
           0.32059243748803107,
           -0.045200239752952565,
           -0.33288072335612867,
           -0.01983056204251312,
           0.38152802914372386,
           0.1655374029100086,
           0.02675661242411543,
           -0.011548294978902817,
           0.13227761126567483,
           0.011252548166164411,
           -0.11399800025263314,
           -0.2915569364505803,
           -0.20746965855330354,
           -0.06378770890392754,
           -0.1387953120524923,
           1,
           -0.08623680815827944,
           0.01217352344722282,
           0.022771748468557555,
           -0.005212643083043123,
           0.03683102929671686,
           -0.04602456800578851,
           -0.054471030990898735,
           0.0005597735631656153,
           -0.006994110461280772,
           0.09370674488515275,
           -0.005212643083043162,
           -0.03941513276814006,
           -0.027571310162264714,
           -0.029599597408520646,
           -0.015255008716642355,
           0.015109334821853285,
           0.07097864992226548,
           0.03531573074033366,
           -0.020903979806111122,
           -0.030391905634215628,
           -0.020051848504915336,
           -0.000023939378491419063,
           -0.0360429595066299
          ],
          [
           0.1351555159250457,
           0.008326563650742648,
           0.039900673430562666,
           0.3471322279331941,
           -0.07722386605388898,
           0.25906218686631727,
           -0.16695996761762683,
           -0.11396934124367651,
           -0.045541506250410056,
           0.0034891309194934163,
           0.008826469802582032,
           -0.0056589497981207855,
           0.004849966773249449,
           -0.002153274132004377,
           -0.20370213321649888,
           -0.1449528608014086,
           -0.04456656917481867,
           -0.096972143725122,
           -0.08623680815827944,
           1,
           -0.009389398760286324,
           0.027715252654364395,
           -0.0036419182086312204,
           -0.0064876728589484955,
           -0.008584848337371529,
           -0.007112801963345811,
           0.004569770529135181,
           0.014222338526119316,
           0.08249599260652682,
           -0.003641918208631205,
           -0.07392624323895391,
           0.019358534788091804,
           -0.031600638055462954,
           -0.037800699248143346,
           -0.008170966613649815,
           0.00795281703912038,
           0.006068742449889353,
           0.06371980872639049,
           -0.03129777817856724,
           -0.026638364272165763,
           0.0007474585601010329,
           -0.04497465305615625
          ],
          [
           0.06153983517249336,
           0.045214967160134754,
           0.06329632701379077,
           -0.009123324493586334,
           0.013256485032396192,
           0.01770683985431838,
           -0.027248237487129044,
           0.009017988902592807,
           0.0021539240371717433,
           0.014640243234077316,
           0.013991053207151206,
           0.038555340764916055,
           -0.0041127055584913004,
           -0.04211446495597023,
           0.02420235725709611,
           0.008742326593107835,
           -0.012698819583029215,
           -0.04425382801495625,
           0.01217352344722282,
           -0.009389398760286324,
           1,
           -0.05332700027555789,
           -0.0028217240799668455,
           -0.30255672546565443,
           -0.03975188821533164,
           -0.059072968388166405,
           -0.04125530661422832,
           -0.0037860735124459343,
           0.12122916802019136,
           0.07801551129038291,
           -0.027550930910391788,
           0.027340516494623258,
           -0.02580468749123806,
           -0.012664283194765166,
           -0.03451105476077887,
           -0.039651404550818184,
           -0.013742114940947866,
           0.0016133665483370116,
           0.01245121159755523,
           -0.0600339553067508,
           0.050023027807828066,
           -0.02052526646357641
          ],
          [
           0.035308123451427954,
           0.05430616302812238,
           0.10084486732191078,
           0.03623861755398456,
           0.007888781145264175,
           0.01852086088739116,
           -0.03852810815185713,
           0.017426648226911083,
           0.011226911805195078,
           0.021057379579344847,
           -0.02852895987590722,
           0.029710680857539574,
           -0.012166652613213997,
           -0.012613345930786106,
           0.007455983210581415,
           -0.008963411985187665,
           -0.01719362760739195,
           -0.03000981830237678,
           0.022771748468557555,
           0.027715252654364395,
           -0.05332700027555789,
           1,
           -0.004160333192080033,
           -0.4460878355819213,
           -0.05860994743045278,
           -0.0870968330620302,
           -0.0608265785712924,
           -0.005582164256708186,
           0.011871107976477042,
           -0.004160333192080039,
           -0.03492975903609011,
           -0.01742359377293634,
           -0.03295230116567889,
           -0.026440430597805414,
           -0.0640386437428364,
           -0.006568165566582534,
           -0.020261292492806532,
           0.10365826803817933,
           0.2293535312208179,
           -0.09754472441849683,
           -0.018171396763183977,
           0.005587888134694833
          ],
          [
           -0.009497367545999695,
           -0.022105797492354886,
           -0.020044378353573426,
           -0.004182003513793373,
           -0.011452127253067927,
           -0.014058084866358915,
           0.01543209593871535,
           0.0008798849064664091,
           -0.0027527876160705613,
           -0.0015587341698739278,
           -0.0028928520130670383,
           0.004842117996865006,
           -0.001467192627035121,
           -0.0016776881506610822,
           -0.012312915312951108,
           -0.001984451094447719,
           -0.0026938568751025444,
           0.028872757556561584,
           -0.005212643083043123,
           -0.0036419182086312204,
           -0.0028217240799668455,
           -0.004160333192080033,
           1,
           -0.02360411763154701,
           -0.0031012638838772678,
           -0.004608607832243477,
           -0.0032185538389505482,
           -0.0002953724608564458,
           -0.005321115392055466,
           -0.00022013824681900194,
           -0.005204427857399658,
           -0.0058061903723451306,
           -0.002745245462430986,
           -0.0029465651203267654,
           -0.003658339992620047,
           -0.0049119940100656075,
           -0.0010720981233292466,
           0.03030324532462206,
           -0.002275336560248596,
           -0.005330389515085477,
           -0.0026298621313083585,
           -0.0034040119285936483
          ],
          [
           -0.1430720850655451,
           -0.17731734624226272,
           -0.1769634781378713,
           0.09337164878559337,
           -0.1121356022725253,
           -0.15151782389997084,
           0.1388983579926637,
           0.024569534912546407,
           0.009318579077905672,
           -0.006359096547686615,
           0.007610411580815963,
           0.025821252597981452,
           0.0312320729431912,
           -0.03181246352237793,
           -0.1536814696471466,
           0.04743417242708582,
           0.050206734132450116,
           0.10509617599064748,
           0.03683102929671686,
           -0.0064876728589484955,
           -0.30255672546565443,
           -0.4460878355819213,
           -0.02360411763154701,
           1,
           -0.3325301195012036,
           -0.4941536646259612,
           -0.34510642523886076,
           -0.03167103586914414,
           0.002839192657170429,
           -0.023604117631547145,
           0.007792646185739593,
           -0.08019024970652465,
           -0.10868561205974148,
           0.08699348964304301,
           0.12346377912371226,
           0.06762581151963777,
           0.04541996189242797,
           -0.06873206968640964,
           -0.1468163888376894,
           0.04651596480092703,
           0.018750390426506263,
           0.02766931934341515
          ],
          [
           0.14840706009245472,
           0.1061590994000509,
           0.08145447202018283,
           -0.0958563058687031,
           0.1286310602280678,
           0.12375475008914877,
           -0.09632891263715275,
           -0.04065856031312178,
           -0.008145313705718192,
           -0.01772872040660393,
           0.0060514451772716625,
           -0.05567947372700196,
           -0.011691980417921428,
           0.051076153847263724,
           0.1315611316923153,
           -0.05365819780178226,
           -0.030447769011388775,
           -0.05684919203780616,
           -0.04602456800578851,
           -0.008584848337371529,
           -0.03975188821533164,
           -0.05860994743045278,
           -0.0031012638838772678,
           -0.3325301195012036,
           1,
           -0.06492515149737703,
           -0.045342347017321497,
           -0.004161148543620465,
           -0.05697921077666948,
           -0.0031012638838772725,
           -0.014912741099985541,
           0.14035178398668716,
           0.011696460320025321,
           -0.03920986265576621,
           -0.040190808428359634,
           -0.05299265018134877,
           -0.015103505355829067,
           -0.02164610626719393,
           -0.024719863913852284,
           0.09621209734293891,
           -0.03449103917285215,
           -0.025769594914167145
          ],
          [
           0.0369551481898473,
           0.12465846991389896,
           0.013589658621619389,
           -0.11650243621919701,
           0.09229673429857439,
           0.1205522146240965,
           -0.09767094259262407,
           -0.035196621279509246,
           -0.007382742470542955,
           -0.007210715410118323,
           -0.010100057207463075,
           -0.06423610952387554,
           -0.018022133900166944,
           0.06515558140350931,
           0.12671441208735218,
           -0.04147362923802675,
           -0.02015074212896164,
           -0.06405487325384676,
           -0.054471030990898735,
           -0.007112801963345811,
           -0.059072968388166405,
           -0.0870968330620302,
           -0.004608607832243477,
           -0.4941536646259612,
           -0.06492515149737703,
           1,
           -0.06738062397162894,
           -0.006183640763030524,
           -0.08939321884540122,
           -0.004608607832243507,
           0.08406900794118773,
           0.022219987160734977,
           0.22567546079646847,
           -0.05355371886855095,
           -0.055195415723747907,
           -0.03252561898919874,
           -0.022444440616314933,
           -0.02775645511623124,
           -0.04141191156308627,
           0.04028039352399652,
           -0.03697257912993134,
           -0.002822329829547453
          ],
          [
           0.020235550898346864,
           0.006266097240244982,
           0.10688645397249415,
           0.012259879968094838,
           -0.026371631069407406,
           0.006810772079477402,
           -0.004548506561380492,
           0.004965776000117961,
           -0.017740593882150064,
           0.0017467899772755397,
           0.015392389887608481,
           0.013656750201679242,
           -0.012772952124335385,
           -0.016271690647195518,
           0.004586800863050813,
           0.010194531995812734,
           -0.01883660431708855,
           -0.013577628706431689,
           0.0005597735631656153,
           0.004569770529135181,
           -0.04125530661422832,
           -0.0608265785712924,
           -0.0032185538389505482,
           -0.34510642523886076,
           -0.045342347017321497,
           -0.06738062397162894,
           1,
           -0.0043185233894927205,
           0.04924014681716281,
           -0.003218553838950542,
           -0.04888255011587511,
           0.0071428587160311885,
           -0.023510636674182364,
           -0.03418427889887148,
           -0.04343229014729668,
           -0.007014672868520984,
           -0.015674720683181154,
           0.07562096725195713,
           0.10144585695670125,
           -0.07259171962304917,
           0.022130294656246233,
           -0.02052424466956856
          ],
          [
           -0.01274317781783084,
           -0.0034763992475311365,
           -0.005573243543589007,
           -0.004672417894439984,
           -0.011761779590906121,
           0.0032893398402807183,
           0.005485176169782513,
           -0.00924331708096899,
           -0.0036935773956737823,
           -0.0020914455085818966,
           -0.0038815100526156656,
           0.0006362355658905656,
           -0.001968618825033689,
           0.0025920393575100493,
           -0.007518787200264077,
           -0.011756190213614308,
           -0.0036145065470986537,
           0.02449984413391412,
           -0.006994110461280772,
           0.014222338526119316,
           -0.0037860735124459343,
           -0.005582164256708186,
           -0.0002953724608564458,
           -0.03167103586914414,
           -0.004161148543620465,
           -0.006183640763030524,
           -0.0043185233894927205,
           1,
           -0.0001786368984356969,
           -0.0002953724608564467,
           0.0000988187479129007,
           -0.007790507843421848,
           0.0457732744765047,
           0.007623815186120232,
           0.004607843857728172,
           -0.00659071187960406,
           -0.0014384972422702472,
           -0.009747222044777104,
           -0.0030529531727844414,
           -0.00715209778920753,
           -0.003528641027455866,
           0.00558143963339088
          ],
          [
           -0.08892775553086263,
           -0.038124887860832686,
           -0.003109649792993567,
           0.23879706472542386,
           -0.09245403261185088,
           -0.12339709126240193,
           0.06704163509805461,
           0.06667351712688221,
           0.027683236838433885,
           -0.0016833153832354402,
           0.006772395028703812,
           0.04831703533737944,
           -0.010003144166470145,
           -0.04024927717622305,
           -0.16457781546627553,
           0.03372070120842294,
           0.013694976036543861,
           0.044783261111083286,
           0.09370674488515275,
           0.08249599260652682,
           0.12122916802019136,
           0.011871107976477042,
           -0.005321115392055466,
           0.002839192657170429,
           -0.05697921077666948,
           -0.08939321884540122,
           0.04924014681716281,
           -0.0001786368984356969,
           1,
           -0.005321115392055487,
           -0.1257998624910514,
           -0.14034548473937933,
           -0.06635724639491021,
           -0.07122348452404938,
           -0.08842829233626118,
           -0.11873123962023156,
           -0.025914432899665774,
           -0.1755955619622012,
           -0.054998749957339714,
           -0.12884456973845604,
           -0.06356823527078659,
           -0.08228075098132595
          ],
          [
           -0.0029621200551616183,
           -0.007812538343672825,
           0.004536538437254303,
           -0.010479263129777748,
           0.0030532789939277205,
           -0.0021711742124483663,
           0.009051069482894164,
           -0.006888955087744561,
           -0.002752787616070579,
           0.02699878427463889,
           -0.002892852013067051,
           -0.0049857419739005706,
           -0.0014671926270351243,
           -0.0016776881506610723,
           -0.006274603168760602,
           0.004792873013138506,
           0.031071130980665735,
           -0.0058615478127258865,
           -0.005212643083043162,
           -0.003641918208631205,
           0.07801551129038291,
           -0.004160333192080039,
           -0.00022013824681900194,
           -0.023604117631547145,
           -0.0031012638838772725,
           -0.004608607832243507,
           -0.003218553838950542,
           -0.0002953724608564467,
           -0.005321115392055487,
           1,
           -0.005204427857399694,
           -0.005806190372345134,
           -0.002745245462431008,
           -0.002946565120326763,
           -0.003658339992620065,
           -0.004911994010065615,
           -0.0010720981233292607,
           -0.007264510598148174,
           -0.00227533656024862,
           -0.005330389515085489,
           -0.0026298621313083814,
           -0.003404011928593622
          ],
          [
           -0.01347930614176079,
           0.00009593406353009634,
           -0.1384870759468131,
           -0.19720391685738373,
           0.05280361582075837,
           0.08314235484064038,
           -0.061004772479097184,
           -0.017127126410378144,
           -0.03679410012360552,
           0.01061808926966493,
           -0.016622165100148897,
           -0.03152288754820524,
           -0.00014873567216020346,
           0.03161468403165642,
           0.11726721819557537,
           -0.03268900089781478,
           -0.008363851186896108,
           -0.03630076338516157,
           -0.03941513276814006,
           -0.07392624323895391,
           -0.027550930910391788,
           -0.03492975903609011,
           -0.005204427857399658,
           0.007792646185739593,
           -0.014912741099985541,
           0.08406900794118773,
           -0.04888255011587511,
           0.0000988187479129007,
           -0.1257998624910514,
           -0.005204427857399694,
           1,
           -0.1372678276303523,
           -0.06490208842184074,
           -0.06966161408780289,
           -0.08648913509829892,
           -0.11612756452260076,
           -0.025346151427781297,
           -0.17174490064174697,
           -0.0537926741501412,
           -0.1260191179132594,
           -0.06217423793946753,
           -0.08047640409646567
          ],
          [
           0.19828005936266582,
           0.09299281185869306,
           0.18431481157446447,
           -0.03719230064745723,
           0.13500641608703304,
           0.09892312304718807,
           -0.09798949990719259,
           -0.00002037381693335901,
           -0.021260129470891186,
           -0.011153280874801512,
           0.0017322956139944174,
           -0.04730122286031758,
           -0.028101425240715076,
           0.04890111321291594,
           0.09411795188562112,
           -0.008911009465075444,
           -0.04079505603316036,
           -0.09083214794164508,
           -0.027571310162264714,
           0.019358534788091804,
           0.027340516494623258,
           -0.01742359377293634,
           -0.0058061903723451306,
           -0.08019024970652465,
           0.14035178398668716,
           0.022219987160734977,
           0.0071428587160311885,
           -0.007790507843421848,
           -0.14034548473937933,
           -0.005806190372345134,
           -0.1372678276303523,
           1,
           -0.07240639917876891,
           -0.07771624549729282,
           -0.0964894503833327,
           -0.12955482630743842,
           -0.028276802835636404,
           -0.19160292272812932,
           -0.06001245772081796,
           -0.14059009159269478,
           -0.06936314069927318,
           -0.08978149673100028
          ],
          [
           -0.057747309033459725,
           0.02012111765111849,
           -0.10796106743543571,
           -0.10405290435074974,
           0.10015597568002312,
           0.0410301828523208,
           -0.00045894090864398836,
           -0.04790360959700877,
           -0.011008286171868057,
           -0.005231040744689726,
           -0.01904665638288843,
           -0.035283720070371505,
           0.0043156062960994805,
           0.039279640046592956,
           0.05723410847940408,
           -0.03396314715899124,
           -0.0013978554930877604,
           0.010424027045249118,
           -0.029599597408520646,
           -0.031600638055462954,
           -0.02580468749123806,
           -0.03295230116567889,
           -0.002745245462430986,
           -0.10868561205974148,
           0.011696460320025321,
           0.22567546079646847,
           -0.023510636674182364,
           0.0457732744765047,
           -0.06635724639491021,
           -0.002745245462431008,
           -0.06490208842184074,
           -0.07240639917876891,
           1,
           -0.0367452936653271,
           -0.0456215192493449,
           -0.061255276911094475,
           -0.013369655436432747,
           -0.09059245744218747,
           -0.02837470297772307,
           -0.0664728998287588,
           -0.032795832560297555,
           -0.04244990789227088
          ],
          [
           -0.08754616709994224,
           -0.09131856533140513,
           -0.12465826648123672,
           -0.08306238154005816,
           -0.03845146052641047,
           -0.048811263958013856,
           0.07398515349694804,
           -0.017416091190705744,
           -0.018863238800317664,
           0.014611347228968214,
           -0.017869618993992302,
           0.024829242871781503,
           -0.0008176828125681747,
           -0.01526778841355618,
           -0.03307298490655308,
           -0.007303503139904205,
           0.04258754863222635,
           0.07458378015059375,
           -0.015255008716642355,
           -0.037800699248143346,
           -0.012664283194765166,
           -0.026440430597805414,
           -0.0029465651203267654,
           0.08699348964304301,
           -0.03920986265576621,
           -0.05355371886855095,
           -0.03418427889887148,
           0.007623815186120232,
           -0.07122348452404938,
           -0.002946565120326763,
           -0.06966161408780289,
           -0.07771624549729282,
           -0.0367452936653271,
           1,
           -0.0489671248695538,
           -0.06574736753133782,
           -0.014350104906427753,
           -0.09723595901237019,
           -0.030455531659363246,
           -0.07134761927953506,
           -0.035200880080383336,
           -0.045562926764911464
          ],
          [
           -0.0719142655343992,
           -0.02165309681769456,
           -0.16184347185643586,
           -0.017012238985721413,
           -0.0021016486773760288,
           -0.00338544612131284,
           -0.0056358784677613795,
           0.009465970371011795,
           0.0038776763018815224,
           -0.004033603648708518,
           0.00031953097503485055,
           0.03882200673006074,
           0.04136692887660763,
           -0.04218543739027296,
           0.000389224379638462,
           -0.00936278040888664,
           0.014490459676629007,
           -0.004308155827671645,
           0.015109334821853285,
           -0.008170966613649815,
           -0.03451105476077887,
           -0.0640386437428364,
           -0.003658339992620047,
           0.12346377912371226,
           -0.040190808428359634,
           -0.055195415723747907,
           -0.04343229014729668,
           0.004607843857728172,
           -0.08842829233626118,
           -0.003658339992620065,
           -0.08648913509829892,
           -0.0964894503833327,
           -0.0456215192493449,
           -0.0489671248695538,
           1,
           -0.08162935968736125,
           -0.01781652891881677,
           -0.12072436313108614,
           -0.03781239677933885,
           -0.08858241319289364,
           -0.043704035755099256,
           -0.05656914758646561
          ],
          [
           -0.16772827085710323,
           -0.07642457468005764,
           -0.17224836139916289,
           0.15377202620773667,
           -0.14951002325129112,
           -0.15175055435589993,
           0.10411900313621218,
           0.047133889247988246,
           0.05208785538004081,
           0.002134650859112852,
           0.011638727540838993,
           0.08615322871128181,
           0.007938159970653873,
           -0.07991184259370787,
           -0.15855959891325414,
           0.030254228026285652,
           0.057401175620582855,
           0.08939017977306497,
           0.07097864992226548,
           0.00795281703912038,
           -0.039651404550818184,
           -0.006568165566582534,
           -0.0049119940100656075,
           0.06762581151963777,
           -0.05299265018134877,
           -0.03252561898919874,
           -0.007014672868520984,
           -0.00659071187960406,
           -0.11873123962023156,
           -0.004911994010065615,
           -0.11612756452260076,
           -0.12955482630743842,
           -0.061255276911094475,
           -0.06574736753133782,
           -0.08162935968736125,
           1,
           -0.023921965565237197,
           -0.16209465215511112,
           -0.05077009432174596,
           -0.11893817520471142,
           -0.05868070279902924,
           -0.0759544806277646
          ],
          [
           -0.04490463417274655,
           0.014320281139306149,
           -0.0675981981694662,
           0.09580909757153402,
           -0.04498760463175472,
           -0.048840529650084646,
           0.023274398030457367,
           0.014545512598840777,
           0.04463355304935426,
           -0.007591211442984818,
           -0.004308236509855955,
           0.01628055824024472,
           0.011613742127203355,
           -0.012192780660776302,
           -0.05996528813359968,
           0.024460691630193238,
           0.0356549826498799,
           0.00012478490137919862,
           0.03531573074033366,
           0.006068742449889353,
           -0.013742114940947866,
           -0.020261292492806532,
           -0.0010720981233292466,
           0.04541996189242797,
           -0.015103505355829067,
           -0.022444440616314933,
           -0.015674720683181154,
           -0.0014384972422702472,
           -0.025914432899665774,
           -0.0010720981233292607,
           -0.025346151427781297,
           -0.028276802835636404,
           -0.013369655436432747,
           -0.014350104906427753,
           -0.01781652891881677,
           -0.023921965565237197,
           1,
           -0.035378987030743686,
           -0.011081146013625982,
           -0.025959598926195492,
           -0.01280772558304503,
           -0.016577922524458947
          ],
          [
           0.1230179480904789,
           0.07292516154194272,
           0.3278493420200241,
           0.06336956189390228,
           -0.04932451192586646,
           0.017823600657872304,
           -0.005887027984652071,
           -0.025412699163478453,
           0.01976770340745502,
           0.00004721391676783605,
           0.026176586413740828,
           -0.04050084428966359,
           0.0073503724952645715,
           0.018028233967192824,
           -0.010110866767369822,
           0.03210913015488012,
           -0.029291450818989904,
           -0.03557277698831126,
           -0.020903979806111122,
           0.06371980872639049,
           0.0016133665483370116,
           0.10365826803817933,
           0.03030324532462206,
           -0.06873206968640964,
           -0.02164610626719393,
           -0.02775645511623124,
           0.07562096725195713,
           -0.009747222044777104,
           -0.1755955619622012,
           -0.007264510598148174,
           -0.17174490064174697,
           -0.19160292272812932,
           -0.09059245744218747,
           -0.09723595901237019,
           -0.12072436313108614,
           -0.16209465215511112,
           -0.035378987030743686,
           1,
           -0.07508557370255836,
           -0.1759016058505918,
           -0.08678483453293868,
           -0.11233159657087172
          ],
          [
           0.03123794754146833,
           -0.007247285888992638,
           0.00507587607631408,
           -0.07464680546437227,
           0.030231853118629054,
           0.04240293140642444,
           -0.027869588620637296,
           -0.011210874735584544,
           -0.021900858195307557,
           0.0036800298239869082,
           -0.011131669891702906,
           0.027279881913581883,
           -0.00016506466195104658,
           -0.01782291761033082,
           0.05745855083883245,
           -0.014740769385921209,
           -0.0077864833745244265,
           -0.010721874913426653,
           -0.030391905634215628,
           -0.03129777817856724,
           0.01245121159755523,
           0.2293535312208179,
           -0.002275336560248596,
           -0.1468163888376894,
           -0.024719863913852284,
           -0.04141191156308627,
           0.10144585695670125,
           -0.0030529531727844414,
           -0.054998749957339714,
           -0.00227533656024862,
           -0.0537926741501412,
           -0.06001245772081796,
           -0.02837470297772307,
           -0.030455531659363246,
           -0.03781239677933885,
           -0.05077009432174596,
           -0.011081146013625982,
           -0.07508557370255836,
           1,
           -0.0550946067723157,
           -0.027182107345023108,
           -0.035183676187898937
          ],
          [
           0.023209562485420252,
           -0.02084912243902639,
           0.021089168058193608,
           -0.007143460996254732,
           0.022976386710068644,
           0.008439921010099405,
           0.007298573795634671,
           -0.01759214256150537,
           -0.004953063334034138,
           -0.008453913423094626,
           -0.0022903099288454367,
           -0.03229834639552666,
           -0.00727390400090186,
           0.03222134535985409,
           0.020514208826897994,
           -0.010895317155798973,
           -0.006987451878965659,
           0.024449809329719192,
           -0.020051848504915336,
           -0.026638364272165763,
           -0.0600339553067508,
           -0.09754472441849683,
           -0.005330389515085477,
           0.04651596480092703,
           0.09621209734293891,
           0.04028039352399652,
           -0.07259171962304917,
           -0.00715209778920753,
           -0.12884456973845604,
           -0.005330389515085489,
           -0.1260191179132594,
           -0.14059009159269478,
           -0.0664728998287588,
           -0.07134761927953506,
           -0.08858241319289364,
           -0.11893817520471142,
           -0.025959598926195492,
           -0.1759016058505918,
           -0.0550946067723157,
           1,
           -0.06367902776282408,
           -0.08242415734472504
          ],
          [
           0.03208079253998502,
           -0.023227742938048298,
           0.05091624809476262,
           0.012332828562835692,
           -0.019017151157138007,
           -0.0006968028548626495,
           0.00281532712790421,
           0.0021961419367968133,
           -0.010036662009060482,
           -0.008761168216084062,
           0.01589601763386291,
           -0.022235591174776994,
           -0.009680984663701908,
           0.015289197606042424,
           -0.0006337266536649216,
           0.006479192715845586,
           -0.004493923032185308,
           -0.005563251606737192,
           -0.000023939378491419063,
           0.0007474585601010329,
           0.050023027807828066,
           -0.018171396763183977,
           -0.0026298621313083585,
           0.018750390426506263,
           -0.03449103917285215,
           -0.03697257912993134,
           0.022130294656246233,
           -0.003528641027455866,
           -0.06356823527078659,
           -0.0026298621313083814,
           -0.06217423793946753,
           -0.06936314069927318,
           -0.032795832560297555,
           -0.035200880080383336,
           -0.043704035755099256,
           -0.05868070279902924,
           -0.01280772558304503,
           -0.08678483453293868,
           -0.027182107345023108,
           -0.06367902776282408,
           1,
           -0.04066572799087856
          ],
          [
           -0.017871010444240453,
           0.01929936848967843,
           -0.12421864129526564,
           -0.13546913794125015,
           0.07199402155837915,
           0.07022353790209793,
           -0.050087138733235184,
           -0.019282005748878586,
           -0.024550538776387576,
           0.014769266109924802,
           -0.02107790473370793,
           0.010528024781160031,
           0.0020603026273983997,
           -0.002616726547668874,
           0.09358008021353602,
           -0.03123920706468865,
           -0.016377060717720698,
           -0.022672744563709463,
           -0.0360429595066299,
           -0.04497465305615625,
           -0.02052526646357641,
           0.005587888134694833,
           -0.0034040119285936483,
           0.02766931934341515,
           -0.025769594914167145,
           -0.002822329829547453,
           -0.02052424466956856,
           0.00558143963339088,
           -0.08228075098132595,
           -0.003404011928593622,
           -0.08047640409646567,
           -0.08978149673100028,
           -0.04244990789227088,
           -0.045562926764911464,
           -0.05656914758646561,
           -0.0759544806277646,
           -0.016577922524458947,
           -0.11233159657087172,
           -0.035183676187898937,
           -0.08242415734472504,
           -0.04066572799087856,
           1
          ]
         ]
        }
       ],
       "layout": {
        "height": 600,
        "template": {
         "data": {
          "bar": [
           {
            "error_x": {
             "color": "rgb(36,36,36)"
            },
            "error_y": {
             "color": "rgb(36,36,36)"
            },
            "marker": {
             "line": {
              "color": "rgb(234,234,242)",
              "width": 0.5
             },
             "pattern": {
              "fillmode": "overlay",
              "size": 10,
              "solidity": 0.2
             }
            },
            "type": "bar"
           }
          ],
          "barpolar": [
           {
            "marker": {
             "line": {
              "color": "rgb(234,234,242)",
              "width": 0.5
             },
             "pattern": {
              "fillmode": "overlay",
              "size": 10,
              "solidity": 0.2
             }
            },
            "type": "barpolar"
           }
          ],
          "carpet": [
           {
            "aaxis": {
             "endlinecolor": "rgb(36,36,36)",
             "gridcolor": "white",
             "linecolor": "white",
             "minorgridcolor": "white",
             "startlinecolor": "rgb(36,36,36)"
            },
            "baxis": {
             "endlinecolor": "rgb(36,36,36)",
             "gridcolor": "white",
             "linecolor": "white",
             "minorgridcolor": "white",
             "startlinecolor": "rgb(36,36,36)"
            },
            "type": "carpet"
           }
          ],
          "choropleth": [
           {
            "colorbar": {
             "outlinewidth": 0,
             "tickcolor": "rgb(36,36,36)",
             "ticklen": 8,
             "ticks": "outside",
             "tickwidth": 2
            },
            "type": "choropleth"
           }
          ],
          "contour": [
           {
            "colorbar": {
             "outlinewidth": 0,
             "tickcolor": "rgb(36,36,36)",
             "ticklen": 8,
             "ticks": "outside",
             "tickwidth": 2
            },
            "colorscale": [
             [
              0,
              "rgb(2,4,25)"
             ],
             [
              0.06274509803921569,
              "rgb(24,15,41)"
             ],
             [
              0.12549019607843137,
              "rgb(47,23,57)"
             ],
             [
              0.18823529411764706,
              "rgb(71,28,72)"
             ],
             [
              0.25098039215686274,
              "rgb(97,30,82)"
             ],
             [
              0.3137254901960784,
              "rgb(123,30,89)"
             ],
             [
              0.3764705882352941,
              "rgb(150,27,91)"
             ],
             [
              0.4392156862745098,
              "rgb(177,22,88)"
             ],
             [
              0.5019607843137255,
              "rgb(203,26,79)"
             ],
             [
              0.5647058823529412,
              "rgb(223,47,67)"
             ],
             [
              0.6274509803921569,
              "rgb(236,76,61)"
             ],
             [
              0.6901960784313725,
              "rgb(242,107,73)"
             ],
             [
              0.7529411764705882,
              "rgb(244,135,95)"
             ],
             [
              0.8156862745098039,
              "rgb(245,162,122)"
             ],
             [
              0.8784313725490196,
              "rgb(246,188,153)"
             ],
             [
              0.9411764705882353,
              "rgb(247,212,187)"
             ],
             [
              1,
              "rgb(250,234,220)"
             ]
            ],
            "type": "contour"
           }
          ],
          "contourcarpet": [
           {
            "colorbar": {
             "outlinewidth": 0,
             "tickcolor": "rgb(36,36,36)",
             "ticklen": 8,
             "ticks": "outside",
             "tickwidth": 2
            },
            "type": "contourcarpet"
           }
          ],
          "heatmap": [
           {
            "colorbar": {
             "outlinewidth": 0,
             "tickcolor": "rgb(36,36,36)",
             "ticklen": 8,
             "ticks": "outside",
             "tickwidth": 2
            },
            "colorscale": [
             [
              0,
              "rgb(2,4,25)"
             ],
             [
              0.06274509803921569,
              "rgb(24,15,41)"
             ],
             [
              0.12549019607843137,
              "rgb(47,23,57)"
             ],
             [
              0.18823529411764706,
              "rgb(71,28,72)"
             ],
             [
              0.25098039215686274,
              "rgb(97,30,82)"
             ],
             [
              0.3137254901960784,
              "rgb(123,30,89)"
             ],
             [
              0.3764705882352941,
              "rgb(150,27,91)"
             ],
             [
              0.4392156862745098,
              "rgb(177,22,88)"
             ],
             [
              0.5019607843137255,
              "rgb(203,26,79)"
             ],
             [
              0.5647058823529412,
              "rgb(223,47,67)"
             ],
             [
              0.6274509803921569,
              "rgb(236,76,61)"
             ],
             [
              0.6901960784313725,
              "rgb(242,107,73)"
             ],
             [
              0.7529411764705882,
              "rgb(244,135,95)"
             ],
             [
              0.8156862745098039,
              "rgb(245,162,122)"
             ],
             [
              0.8784313725490196,
              "rgb(246,188,153)"
             ],
             [
              0.9411764705882353,
              "rgb(247,212,187)"
             ],
             [
              1,
              "rgb(250,234,220)"
             ]
            ],
            "type": "heatmap"
           }
          ],
          "heatmapgl": [
           {
            "colorbar": {
             "outlinewidth": 0,
             "tickcolor": "rgb(36,36,36)",
             "ticklen": 8,
             "ticks": "outside",
             "tickwidth": 2
            },
            "colorscale": [
             [
              0,
              "rgb(2,4,25)"
             ],
             [
              0.06274509803921569,
              "rgb(24,15,41)"
             ],
             [
              0.12549019607843137,
              "rgb(47,23,57)"
             ],
             [
              0.18823529411764706,
              "rgb(71,28,72)"
             ],
             [
              0.25098039215686274,
              "rgb(97,30,82)"
             ],
             [
              0.3137254901960784,
              "rgb(123,30,89)"
             ],
             [
              0.3764705882352941,
              "rgb(150,27,91)"
             ],
             [
              0.4392156862745098,
              "rgb(177,22,88)"
             ],
             [
              0.5019607843137255,
              "rgb(203,26,79)"
             ],
             [
              0.5647058823529412,
              "rgb(223,47,67)"
             ],
             [
              0.6274509803921569,
              "rgb(236,76,61)"
             ],
             [
              0.6901960784313725,
              "rgb(242,107,73)"
             ],
             [
              0.7529411764705882,
              "rgb(244,135,95)"
             ],
             [
              0.8156862745098039,
              "rgb(245,162,122)"
             ],
             [
              0.8784313725490196,
              "rgb(246,188,153)"
             ],
             [
              0.9411764705882353,
              "rgb(247,212,187)"
             ],
             [
              1,
              "rgb(250,234,220)"
             ]
            ],
            "type": "heatmapgl"
           }
          ],
          "histogram": [
           {
            "marker": {
             "pattern": {
              "fillmode": "overlay",
              "size": 10,
              "solidity": 0.2
             }
            },
            "type": "histogram"
           }
          ],
          "histogram2d": [
           {
            "colorbar": {
             "outlinewidth": 0,
             "tickcolor": "rgb(36,36,36)",
             "ticklen": 8,
             "ticks": "outside",
             "tickwidth": 2
            },
            "colorscale": [
             [
              0,
              "rgb(2,4,25)"
             ],
             [
              0.06274509803921569,
              "rgb(24,15,41)"
             ],
             [
              0.12549019607843137,
              "rgb(47,23,57)"
             ],
             [
              0.18823529411764706,
              "rgb(71,28,72)"
             ],
             [
              0.25098039215686274,
              "rgb(97,30,82)"
             ],
             [
              0.3137254901960784,
              "rgb(123,30,89)"
             ],
             [
              0.3764705882352941,
              "rgb(150,27,91)"
             ],
             [
              0.4392156862745098,
              "rgb(177,22,88)"
             ],
             [
              0.5019607843137255,
              "rgb(203,26,79)"
             ],
             [
              0.5647058823529412,
              "rgb(223,47,67)"
             ],
             [
              0.6274509803921569,
              "rgb(236,76,61)"
             ],
             [
              0.6901960784313725,
              "rgb(242,107,73)"
             ],
             [
              0.7529411764705882,
              "rgb(244,135,95)"
             ],
             [
              0.8156862745098039,
              "rgb(245,162,122)"
             ],
             [
              0.8784313725490196,
              "rgb(246,188,153)"
             ],
             [
              0.9411764705882353,
              "rgb(247,212,187)"
             ],
             [
              1,
              "rgb(250,234,220)"
             ]
            ],
            "type": "histogram2d"
           }
          ],
          "histogram2dcontour": [
           {
            "colorbar": {
             "outlinewidth": 0,
             "tickcolor": "rgb(36,36,36)",
             "ticklen": 8,
             "ticks": "outside",
             "tickwidth": 2
            },
            "colorscale": [
             [
              0,
              "rgb(2,4,25)"
             ],
             [
              0.06274509803921569,
              "rgb(24,15,41)"
             ],
             [
              0.12549019607843137,
              "rgb(47,23,57)"
             ],
             [
              0.18823529411764706,
              "rgb(71,28,72)"
             ],
             [
              0.25098039215686274,
              "rgb(97,30,82)"
             ],
             [
              0.3137254901960784,
              "rgb(123,30,89)"
             ],
             [
              0.3764705882352941,
              "rgb(150,27,91)"
             ],
             [
              0.4392156862745098,
              "rgb(177,22,88)"
             ],
             [
              0.5019607843137255,
              "rgb(203,26,79)"
             ],
             [
              0.5647058823529412,
              "rgb(223,47,67)"
             ],
             [
              0.6274509803921569,
              "rgb(236,76,61)"
             ],
             [
              0.6901960784313725,
              "rgb(242,107,73)"
             ],
             [
              0.7529411764705882,
              "rgb(244,135,95)"
             ],
             [
              0.8156862745098039,
              "rgb(245,162,122)"
             ],
             [
              0.8784313725490196,
              "rgb(246,188,153)"
             ],
             [
              0.9411764705882353,
              "rgb(247,212,187)"
             ],
             [
              1,
              "rgb(250,234,220)"
             ]
            ],
            "type": "histogram2dcontour"
           }
          ],
          "mesh3d": [
           {
            "colorbar": {
             "outlinewidth": 0,
             "tickcolor": "rgb(36,36,36)",
             "ticklen": 8,
             "ticks": "outside",
             "tickwidth": 2
            },
            "type": "mesh3d"
           }
          ],
          "parcoords": [
           {
            "line": {
             "colorbar": {
              "outlinewidth": 0,
              "tickcolor": "rgb(36,36,36)",
              "ticklen": 8,
              "ticks": "outside",
              "tickwidth": 2
             }
            },
            "type": "parcoords"
           }
          ],
          "pie": [
           {
            "automargin": true,
            "type": "pie"
           }
          ],
          "scatter": [
           {
            "fillpattern": {
             "fillmode": "overlay",
             "size": 10,
             "solidity": 0.2
            },
            "type": "scatter"
           }
          ],
          "scatter3d": [
           {
            "line": {
             "colorbar": {
              "outlinewidth": 0,
              "tickcolor": "rgb(36,36,36)",
              "ticklen": 8,
              "ticks": "outside",
              "tickwidth": 2
             }
            },
            "marker": {
             "colorbar": {
              "outlinewidth": 0,
              "tickcolor": "rgb(36,36,36)",
              "ticklen": 8,
              "ticks": "outside",
              "tickwidth": 2
             }
            },
            "type": "scatter3d"
           }
          ],
          "scattercarpet": [
           {
            "marker": {
             "colorbar": {
              "outlinewidth": 0,
              "tickcolor": "rgb(36,36,36)",
              "ticklen": 8,
              "ticks": "outside",
              "tickwidth": 2
             }
            },
            "type": "scattercarpet"
           }
          ],
          "scattergeo": [
           {
            "marker": {
             "colorbar": {
              "outlinewidth": 0,
              "tickcolor": "rgb(36,36,36)",
              "ticklen": 8,
              "ticks": "outside",
              "tickwidth": 2
             }
            },
            "type": "scattergeo"
           }
          ],
          "scattergl": [
           {
            "marker": {
             "colorbar": {
              "outlinewidth": 0,
              "tickcolor": "rgb(36,36,36)",
              "ticklen": 8,
              "ticks": "outside",
              "tickwidth": 2
             }
            },
            "type": "scattergl"
           }
          ],
          "scattermapbox": [
           {
            "marker": {
             "colorbar": {
              "outlinewidth": 0,
              "tickcolor": "rgb(36,36,36)",
              "ticklen": 8,
              "ticks": "outside",
              "tickwidth": 2
             }
            },
            "type": "scattermapbox"
           }
          ],
          "scatterpolar": [
           {
            "marker": {
             "colorbar": {
              "outlinewidth": 0,
              "tickcolor": "rgb(36,36,36)",
              "ticklen": 8,
              "ticks": "outside",
              "tickwidth": 2
             }
            },
            "type": "scatterpolar"
           }
          ],
          "scatterpolargl": [
           {
            "marker": {
             "colorbar": {
              "outlinewidth": 0,
              "tickcolor": "rgb(36,36,36)",
              "ticklen": 8,
              "ticks": "outside",
              "tickwidth": 2
             }
            },
            "type": "scatterpolargl"
           }
          ],
          "scatterternary": [
           {
            "marker": {
             "colorbar": {
              "outlinewidth": 0,
              "tickcolor": "rgb(36,36,36)",
              "ticklen": 8,
              "ticks": "outside",
              "tickwidth": 2
             }
            },
            "type": "scatterternary"
           }
          ],
          "surface": [
           {
            "colorbar": {
             "outlinewidth": 0,
             "tickcolor": "rgb(36,36,36)",
             "ticklen": 8,
             "ticks": "outside",
             "tickwidth": 2
            },
            "colorscale": [
             [
              0,
              "rgb(2,4,25)"
             ],
             [
              0.06274509803921569,
              "rgb(24,15,41)"
             ],
             [
              0.12549019607843137,
              "rgb(47,23,57)"
             ],
             [
              0.18823529411764706,
              "rgb(71,28,72)"
             ],
             [
              0.25098039215686274,
              "rgb(97,30,82)"
             ],
             [
              0.3137254901960784,
              "rgb(123,30,89)"
             ],
             [
              0.3764705882352941,
              "rgb(150,27,91)"
             ],
             [
              0.4392156862745098,
              "rgb(177,22,88)"
             ],
             [
              0.5019607843137255,
              "rgb(203,26,79)"
             ],
             [
              0.5647058823529412,
              "rgb(223,47,67)"
             ],
             [
              0.6274509803921569,
              "rgb(236,76,61)"
             ],
             [
              0.6901960784313725,
              "rgb(242,107,73)"
             ],
             [
              0.7529411764705882,
              "rgb(244,135,95)"
             ],
             [
              0.8156862745098039,
              "rgb(245,162,122)"
             ],
             [
              0.8784313725490196,
              "rgb(246,188,153)"
             ],
             [
              0.9411764705882353,
              "rgb(247,212,187)"
             ],
             [
              1,
              "rgb(250,234,220)"
             ]
            ],
            "type": "surface"
           }
          ],
          "table": [
           {
            "cells": {
             "fill": {
              "color": "rgb(231,231,240)"
             },
             "line": {
              "color": "white"
             }
            },
            "header": {
             "fill": {
              "color": "rgb(183,183,191)"
             },
             "line": {
              "color": "white"
             }
            },
            "type": "table"
           }
          ]
         },
         "layout": {
          "annotationdefaults": {
           "arrowcolor": "rgb(67,103,167)"
          },
          "autotypenumbers": "strict",
          "coloraxis": {
           "colorbar": {
            "outlinewidth": 0,
            "tickcolor": "rgb(36,36,36)",
            "ticklen": 8,
            "ticks": "outside",
            "tickwidth": 2
           }
          },
          "colorscale": {
           "sequential": [
            [
             0,
             "rgb(2,4,25)"
            ],
            [
             0.06274509803921569,
             "rgb(24,15,41)"
            ],
            [
             0.12549019607843137,
             "rgb(47,23,57)"
            ],
            [
             0.18823529411764706,
             "rgb(71,28,72)"
            ],
            [
             0.25098039215686274,
             "rgb(97,30,82)"
            ],
            [
             0.3137254901960784,
             "rgb(123,30,89)"
            ],
            [
             0.3764705882352941,
             "rgb(150,27,91)"
            ],
            [
             0.4392156862745098,
             "rgb(177,22,88)"
            ],
            [
             0.5019607843137255,
             "rgb(203,26,79)"
            ],
            [
             0.5647058823529412,
             "rgb(223,47,67)"
            ],
            [
             0.6274509803921569,
             "rgb(236,76,61)"
            ],
            [
             0.6901960784313725,
             "rgb(242,107,73)"
            ],
            [
             0.7529411764705882,
             "rgb(244,135,95)"
            ],
            [
             0.8156862745098039,
             "rgb(245,162,122)"
            ],
            [
             0.8784313725490196,
             "rgb(246,188,153)"
            ],
            [
             0.9411764705882353,
             "rgb(247,212,187)"
            ],
            [
             1,
             "rgb(250,234,220)"
            ]
           ],
           "sequentialminus": [
            [
             0,
             "rgb(2,4,25)"
            ],
            [
             0.06274509803921569,
             "rgb(24,15,41)"
            ],
            [
             0.12549019607843137,
             "rgb(47,23,57)"
            ],
            [
             0.18823529411764706,
             "rgb(71,28,72)"
            ],
            [
             0.25098039215686274,
             "rgb(97,30,82)"
            ],
            [
             0.3137254901960784,
             "rgb(123,30,89)"
            ],
            [
             0.3764705882352941,
             "rgb(150,27,91)"
            ],
            [
             0.4392156862745098,
             "rgb(177,22,88)"
            ],
            [
             0.5019607843137255,
             "rgb(203,26,79)"
            ],
            [
             0.5647058823529412,
             "rgb(223,47,67)"
            ],
            [
             0.6274509803921569,
             "rgb(236,76,61)"
            ],
            [
             0.6901960784313725,
             "rgb(242,107,73)"
            ],
            [
             0.7529411764705882,
             "rgb(244,135,95)"
            ],
            [
             0.8156862745098039,
             "rgb(245,162,122)"
            ],
            [
             0.8784313725490196,
             "rgb(246,188,153)"
            ],
            [
             0.9411764705882353,
             "rgb(247,212,187)"
            ],
            [
             1,
             "rgb(250,234,220)"
            ]
           ]
          },
          "colorway": [
           "rgb(76,114,176)",
           "rgb(221,132,82)",
           "rgb(85,168,104)",
           "rgb(196,78,82)",
           "rgb(129,114,179)",
           "rgb(147,120,96)",
           "rgb(218,139,195)",
           "rgb(140,140,140)",
           "rgb(204,185,116)",
           "rgb(100,181,205)"
          ],
          "font": {
           "color": "rgb(36,36,36)"
          },
          "geo": {
           "bgcolor": "white",
           "lakecolor": "white",
           "landcolor": "rgb(234,234,242)",
           "showlakes": true,
           "showland": true,
           "subunitcolor": "white"
          },
          "hoverlabel": {
           "align": "left"
          },
          "hovermode": "closest",
          "paper_bgcolor": "white",
          "plot_bgcolor": "rgb(234,234,242)",
          "polar": {
           "angularaxis": {
            "gridcolor": "white",
            "linecolor": "white",
            "showgrid": true,
            "ticks": ""
           },
           "bgcolor": "rgb(234,234,242)",
           "radialaxis": {
            "gridcolor": "white",
            "linecolor": "white",
            "showgrid": true,
            "ticks": ""
           }
          },
          "scene": {
           "xaxis": {
            "backgroundcolor": "rgb(234,234,242)",
            "gridcolor": "white",
            "gridwidth": 2,
            "linecolor": "white",
            "showbackground": true,
            "showgrid": true,
            "ticks": "",
            "zerolinecolor": "white"
           },
           "yaxis": {
            "backgroundcolor": "rgb(234,234,242)",
            "gridcolor": "white",
            "gridwidth": 2,
            "linecolor": "white",
            "showbackground": true,
            "showgrid": true,
            "ticks": "",
            "zerolinecolor": "white"
           },
           "zaxis": {
            "backgroundcolor": "rgb(234,234,242)",
            "gridcolor": "white",
            "gridwidth": 2,
            "linecolor": "white",
            "showbackground": true,
            "showgrid": true,
            "ticks": "",
            "zerolinecolor": "white"
           }
          },
          "shapedefaults": {
           "fillcolor": "rgb(67,103,167)",
           "line": {
            "width": 0
           },
           "opacity": 0.5
          },
          "ternary": {
           "aaxis": {
            "gridcolor": "white",
            "linecolor": "white",
            "showgrid": true,
            "ticks": ""
           },
           "baxis": {
            "gridcolor": "white",
            "linecolor": "white",
            "showgrid": true,
            "ticks": ""
           },
           "bgcolor": "rgb(234,234,242)",
           "caxis": {
            "gridcolor": "white",
            "linecolor": "white",
            "showgrid": true,
            "ticks": ""
           }
          },
          "xaxis": {
           "automargin": true,
           "gridcolor": "white",
           "linecolor": "white",
           "showgrid": true,
           "ticks": "",
           "title": {
            "standoff": 15
           },
           "zerolinecolor": "white"
          },
          "yaxis": {
           "automargin": true,
           "gridcolor": "white",
           "linecolor": "white",
           "showgrid": true,
           "ticks": "",
           "title": {
            "standoff": 15
           },
           "zerolinecolor": "white"
          }
         }
        },
        "title": {
         "font": {
          "family": "Courier New",
          "size": 24
         },
         "text": "<b>Correlation Matrix after <b>",
         "x": 0.5
        },
        "width": 900,
        "xaxis": {
         "showgrid": false
        },
        "yaxis": {
         "autorange": "reversed",
         "showgrid": false
        }
       }
      }
     },
     "metadata": {},
     "output_type": "display_data"
    }
   ],
   "source": [
    "corr_after = df.corr()\n",
    "fig = go.Figure(data= go.Heatmap(z=corr_after,\n",
    "                                 x=corr_after.index.values,\n",
    "                                 y=corr_after.columns.values,\n",
    "                                 colorscale=colors,\n",
    "                                 text = corr_after.round(2), texttemplate=\"%{text}\", xgap=3, ygap=3\n",
    "                                 )\n",
    "                )\n",
    "fig.update_layout(title_text='<b>Correlation Matrix after <b>',\n",
    "                  title_x=0.5,\n",
    "                  titlefont={'size': 24, 'family': 'Courier New'},\n",
    "                  width=900, height=600,\n",
    "                  xaxis_showgrid=False,\n",
    "                  yaxis_showgrid=False,\n",
    "                  yaxis_autorange='reversed', \n",
    "                  paper_bgcolor=None,\n",
    "                  template='seaborn'\n",
    "                  )"
   ]
  },
  {
   "cell_type": "markdown",
   "metadata": {},
   "source": [
    "## Splitting X and Y (X = all features except 'income', Y = 'income' only) with splitting of training and testing set"
   ]
  },
  {
   "cell_type": "code",
   "execution_count": 14,
   "metadata": {},
   "outputs": [],
   "source": [
    "from sklearn.model_selection import train_test_split\n",
    "\n",
    "x = df.drop(columns=['income'])\n",
    "y = df['income']\n",
    "\n",
    "x_train,x_test,y_train,y_test = train_test_split(x,y,test_size=0.1, random_state=123)"
   ]
  },
  {
   "cell_type": "markdown",
   "metadata": {},
   "source": [
    "## Normalization using MinMaxScaler"
   ]
  },
  {
   "cell_type": "code",
   "execution_count": 15,
   "metadata": {},
   "outputs": [],
   "source": [
    "from sklearn.preprocessing import MinMaxScaler\n",
    "\n",
    "norm = MinMaxScaler().fit(x_train)\n",
    "x_train_norm = norm.transform(x_train)\n",
    "x_test_norm = norm.transform(x_test)"
   ]
  },
  {
   "cell_type": "markdown",
   "metadata": {},
   "source": [
    "## Fitting of training set into Logistic regression and SVM model "
   ]
  },
  {
   "cell_type": "code",
   "execution_count": 16,
   "metadata": {},
   "outputs": [
    {
     "name": "stderr",
     "output_type": "stream",
     "text": [
      "C:\\Users\\edwar\\AppData\\Roaming\\Python\\Python39\\site-packages\\sklearn\\linear_model\\_logistic.py:444: ConvergenceWarning:\n",
      "\n",
      "lbfgs failed to converge (status=1):\n",
      "STOP: TOTAL NO. of ITERATIONS REACHED LIMIT.\n",
      "\n",
      "Increase the number of iterations (max_iter) or scale the data as shown in:\n",
      "    https://scikit-learn.org/stable/modules/preprocessing.html\n",
      "Please also refer to the documentation for alternative solver options:\n",
      "    https://scikit-learn.org/stable/modules/linear_model.html#logistic-regression\n",
      "\n"
     ]
    },
    {
     "name": "stdout",
     "output_type": "stream",
     "text": [
      "0.809\n",
      "0.806\n"
     ]
    }
   ],
   "source": [
    "from sklearn.linear_model import LogisticRegression\n",
    "from sklearn.svm import SVC\n",
    "\n",
    "lr = LogisticRegression()\n",
    "svm = SVC()\n",
    "\n",
    "lr.fit(x_train_norm, y_train)\n",
    "svm.fit(x_train_norm, y_train)\n",
    "\n",
    "lr_score = lr.score(x_test_norm, y_test)\n",
    "svm_score = svm.score(x_test_norm, y_test)\n",
    "print(f\"{lr_score:.3f}\")\n",
    "print(f\"{svm_score:.3f}\")\n"
   ]
  },
  {
   "cell_type": "markdown",
   "metadata": {},
   "source": [
    "## Defining KFold and cross validation of model with test set"
   ]
  },
  {
   "cell_type": "code",
   "execution_count": 17,
   "metadata": {},
   "outputs": [
    {
     "name": "stdout",
     "output_type": "stream",
     "text": [
      "0.809\n",
      "0.798\n"
     ]
    }
   ],
   "source": [
    "from sklearn.model_selection import KFold, cross_val_score\n",
    "\n",
    "kfold = KFold(n_splits=10, shuffle=True, random_state=2)\n",
    "\n",
    "log_reg_scores = cross_val_score(lr, x_test_norm, y_test, cv=kfold, scoring='accuracy')\n",
    "avg_log_reg_score = np.mean(log_reg_scores)\n",
    "print(f\"{avg_log_reg_score:.3f}\")\n",
    "\n",
    "svm_score = cross_val_score(svm, x_test_norm, y_test, cv=kfold, scoring='accuracy')\n",
    "avg_svm_score = np.mean(svm_score)\n",
    "print(f\"{avg_svm_score:.3f}\")"
   ]
  },
  {
   "cell_type": "markdown",
   "metadata": {},
   "source": [
    "## Fine tuning for logistic regression"
   ]
  },
  {
   "cell_type": "code",
   "execution_count": 18,
   "metadata": {},
   "outputs": [
    {
     "name": "stderr",
     "output_type": "stream",
     "text": [
      "C:\\Users\\edwar\\AppData\\Roaming\\Python\\Python39\\site-packages\\sklearn\\linear_model\\_logistic.py:444: ConvergenceWarning:\n",
      "\n",
      "lbfgs failed to converge (status=1):\n",
      "STOP: TOTAL NO. of ITERATIONS REACHED LIMIT.\n",
      "\n",
      "Increase the number of iterations (max_iter) or scale the data as shown in:\n",
      "    https://scikit-learn.org/stable/modules/preprocessing.html\n",
      "Please also refer to the documentation for alternative solver options:\n",
      "    https://scikit-learn.org/stable/modules/linear_model.html#logistic-regression\n",
      "\n",
      "C:\\Users\\edwar\\AppData\\Roaming\\Python\\Python39\\site-packages\\sklearn\\linear_model\\_logistic.py:444: ConvergenceWarning:\n",
      "\n",
      "lbfgs failed to converge (status=1):\n",
      "STOP: TOTAL NO. of ITERATIONS REACHED LIMIT.\n",
      "\n",
      "Increase the number of iterations (max_iter) or scale the data as shown in:\n",
      "    https://scikit-learn.org/stable/modules/preprocessing.html\n",
      "Please also refer to the documentation for alternative solver options:\n",
      "    https://scikit-learn.org/stable/modules/linear_model.html#logistic-regression\n",
      "\n",
      "C:\\Users\\edwar\\AppData\\Roaming\\Python\\Python39\\site-packages\\sklearn\\linear_model\\_logistic.py:444: ConvergenceWarning:\n",
      "\n",
      "lbfgs failed to converge (status=1):\n",
      "STOP: TOTAL NO. of ITERATIONS REACHED LIMIT.\n",
      "\n",
      "Increase the number of iterations (max_iter) or scale the data as shown in:\n",
      "    https://scikit-learn.org/stable/modules/preprocessing.html\n",
      "Please also refer to the documentation for alternative solver options:\n",
      "    https://scikit-learn.org/stable/modules/linear_model.html#logistic-regression\n",
      "\n",
      "C:\\Users\\edwar\\AppData\\Roaming\\Python\\Python39\\site-packages\\sklearn\\linear_model\\_logistic.py:444: ConvergenceWarning:\n",
      "\n",
      "lbfgs failed to converge (status=1):\n",
      "STOP: TOTAL NO. of ITERATIONS REACHED LIMIT.\n",
      "\n",
      "Increase the number of iterations (max_iter) or scale the data as shown in:\n",
      "    https://scikit-learn.org/stable/modules/preprocessing.html\n",
      "Please also refer to the documentation for alternative solver options:\n",
      "    https://scikit-learn.org/stable/modules/linear_model.html#logistic-regression\n",
      "\n",
      "C:\\Users\\edwar\\AppData\\Roaming\\Python\\Python39\\site-packages\\sklearn\\linear_model\\_logistic.py:444: ConvergenceWarning:\n",
      "\n",
      "lbfgs failed to converge (status=1):\n",
      "STOP: TOTAL NO. of ITERATIONS REACHED LIMIT.\n",
      "\n",
      "Increase the number of iterations (max_iter) or scale the data as shown in:\n",
      "    https://scikit-learn.org/stable/modules/preprocessing.html\n",
      "Please also refer to the documentation for alternative solver options:\n",
      "    https://scikit-learn.org/stable/modules/linear_model.html#logistic-regression\n",
      "\n",
      "C:\\Users\\edwar\\AppData\\Roaming\\Python\\Python39\\site-packages\\sklearn\\linear_model\\_logistic.py:444: ConvergenceWarning:\n",
      "\n",
      "lbfgs failed to converge (status=1):\n",
      "STOP: TOTAL NO. of ITERATIONS REACHED LIMIT.\n",
      "\n",
      "Increase the number of iterations (max_iter) or scale the data as shown in:\n",
      "    https://scikit-learn.org/stable/modules/preprocessing.html\n",
      "Please also refer to the documentation for alternative solver options:\n",
      "    https://scikit-learn.org/stable/modules/linear_model.html#logistic-regression\n",
      "\n",
      "C:\\Users\\edwar\\AppData\\Roaming\\Python\\Python39\\site-packages\\sklearn\\linear_model\\_logistic.py:444: ConvergenceWarning:\n",
      "\n",
      "lbfgs failed to converge (status=1):\n",
      "STOP: TOTAL NO. of ITERATIONS REACHED LIMIT.\n",
      "\n",
      "Increase the number of iterations (max_iter) or scale the data as shown in:\n",
      "    https://scikit-learn.org/stable/modules/preprocessing.html\n",
      "Please also refer to the documentation for alternative solver options:\n",
      "    https://scikit-learn.org/stable/modules/linear_model.html#logistic-regression\n",
      "\n",
      "C:\\Users\\edwar\\AppData\\Roaming\\Python\\Python39\\site-packages\\sklearn\\linear_model\\_logistic.py:444: ConvergenceWarning:\n",
      "\n",
      "lbfgs failed to converge (status=1):\n",
      "STOP: TOTAL NO. of ITERATIONS REACHED LIMIT.\n",
      "\n",
      "Increase the number of iterations (max_iter) or scale the data as shown in:\n",
      "    https://scikit-learn.org/stable/modules/preprocessing.html\n",
      "Please also refer to the documentation for alternative solver options:\n",
      "    https://scikit-learn.org/stable/modules/linear_model.html#logistic-regression\n",
      "\n",
      "C:\\Users\\edwar\\AppData\\Roaming\\Python\\Python39\\site-packages\\sklearn\\linear_model\\_logistic.py:444: ConvergenceWarning:\n",
      "\n",
      "lbfgs failed to converge (status=1):\n",
      "STOP: TOTAL NO. of ITERATIONS REACHED LIMIT.\n",
      "\n",
      "Increase the number of iterations (max_iter) or scale the data as shown in:\n",
      "    https://scikit-learn.org/stable/modules/preprocessing.html\n",
      "Please also refer to the documentation for alternative solver options:\n",
      "    https://scikit-learn.org/stable/modules/linear_model.html#logistic-regression\n",
      "\n",
      "C:\\Users\\edwar\\AppData\\Roaming\\Python\\Python39\\site-packages\\sklearn\\linear_model\\_logistic.py:444: ConvergenceWarning:\n",
      "\n",
      "lbfgs failed to converge (status=1):\n",
      "STOP: TOTAL NO. of ITERATIONS REACHED LIMIT.\n",
      "\n",
      "Increase the number of iterations (max_iter) or scale the data as shown in:\n",
      "    https://scikit-learn.org/stable/modules/preprocessing.html\n",
      "Please also refer to the documentation for alternative solver options:\n",
      "    https://scikit-learn.org/stable/modules/linear_model.html#logistic-regression\n",
      "\n",
      "C:\\Users\\edwar\\AppData\\Roaming\\Python\\Python39\\site-packages\\sklearn\\linear_model\\_logistic.py:444: ConvergenceWarning:\n",
      "\n",
      "lbfgs failed to converge (status=1):\n",
      "STOP: TOTAL NO. of ITERATIONS REACHED LIMIT.\n",
      "\n",
      "Increase the number of iterations (max_iter) or scale the data as shown in:\n",
      "    https://scikit-learn.org/stable/modules/preprocessing.html\n",
      "Please also refer to the documentation for alternative solver options:\n",
      "    https://scikit-learn.org/stable/modules/linear_model.html#logistic-regression\n",
      "\n",
      "C:\\Users\\edwar\\AppData\\Roaming\\Python\\Python39\\site-packages\\sklearn\\linear_model\\_logistic.py:444: ConvergenceWarning:\n",
      "\n",
      "lbfgs failed to converge (status=1):\n",
      "STOP: TOTAL NO. of ITERATIONS REACHED LIMIT.\n",
      "\n",
      "Increase the number of iterations (max_iter) or scale the data as shown in:\n",
      "    https://scikit-learn.org/stable/modules/preprocessing.html\n",
      "Please also refer to the documentation for alternative solver options:\n",
      "    https://scikit-learn.org/stable/modules/linear_model.html#logistic-regression\n",
      "\n",
      "C:\\Users\\edwar\\AppData\\Roaming\\Python\\Python39\\site-packages\\sklearn\\linear_model\\_logistic.py:444: ConvergenceWarning:\n",
      "\n",
      "lbfgs failed to converge (status=1):\n",
      "STOP: TOTAL NO. of ITERATIONS REACHED LIMIT.\n",
      "\n",
      "Increase the number of iterations (max_iter) or scale the data as shown in:\n",
      "    https://scikit-learn.org/stable/modules/preprocessing.html\n",
      "Please also refer to the documentation for alternative solver options:\n",
      "    https://scikit-learn.org/stable/modules/linear_model.html#logistic-regression\n",
      "\n",
      "C:\\Users\\edwar\\AppData\\Roaming\\Python\\Python39\\site-packages\\sklearn\\linear_model\\_logistic.py:444: ConvergenceWarning:\n",
      "\n",
      "lbfgs failed to converge (status=1):\n",
      "STOP: TOTAL NO. of ITERATIONS REACHED LIMIT.\n",
      "\n",
      "Increase the number of iterations (max_iter) or scale the data as shown in:\n",
      "    https://scikit-learn.org/stable/modules/preprocessing.html\n",
      "Please also refer to the documentation for alternative solver options:\n",
      "    https://scikit-learn.org/stable/modules/linear_model.html#logistic-regression\n",
      "\n",
      "C:\\Users\\edwar\\AppData\\Roaming\\Python\\Python39\\site-packages\\sklearn\\linear_model\\_logistic.py:444: ConvergenceWarning:\n",
      "\n",
      "lbfgs failed to converge (status=1):\n",
      "STOP: TOTAL NO. of ITERATIONS REACHED LIMIT.\n",
      "\n",
      "Increase the number of iterations (max_iter) or scale the data as shown in:\n",
      "    https://scikit-learn.org/stable/modules/preprocessing.html\n",
      "Please also refer to the documentation for alternative solver options:\n",
      "    https://scikit-learn.org/stable/modules/linear_model.html#logistic-regression\n",
      "\n",
      "C:\\Users\\edwar\\AppData\\Roaming\\Python\\Python39\\site-packages\\sklearn\\linear_model\\_logistic.py:444: ConvergenceWarning:\n",
      "\n",
      "lbfgs failed to converge (status=1):\n",
      "STOP: TOTAL NO. of ITERATIONS REACHED LIMIT.\n",
      "\n",
      "Increase the number of iterations (max_iter) or scale the data as shown in:\n",
      "    https://scikit-learn.org/stable/modules/preprocessing.html\n",
      "Please also refer to the documentation for alternative solver options:\n",
      "    https://scikit-learn.org/stable/modules/linear_model.html#logistic-regression\n",
      "\n",
      "C:\\Users\\edwar\\AppData\\Roaming\\Python\\Python39\\site-packages\\sklearn\\linear_model\\_logistic.py:444: ConvergenceWarning:\n",
      "\n",
      "lbfgs failed to converge (status=1):\n",
      "STOP: TOTAL NO. of ITERATIONS REACHED LIMIT.\n",
      "\n",
      "Increase the number of iterations (max_iter) or scale the data as shown in:\n",
      "    https://scikit-learn.org/stable/modules/preprocessing.html\n",
      "Please also refer to the documentation for alternative solver options:\n",
      "    https://scikit-learn.org/stable/modules/linear_model.html#logistic-regression\n",
      "\n",
      "C:\\Users\\edwar\\AppData\\Roaming\\Python\\Python39\\site-packages\\sklearn\\linear_model\\_logistic.py:444: ConvergenceWarning:\n",
      "\n",
      "lbfgs failed to converge (status=1):\n",
      "STOP: TOTAL NO. of ITERATIONS REACHED LIMIT.\n",
      "\n",
      "Increase the number of iterations (max_iter) or scale the data as shown in:\n",
      "    https://scikit-learn.org/stable/modules/preprocessing.html\n",
      "Please also refer to the documentation for alternative solver options:\n",
      "    https://scikit-learn.org/stable/modules/linear_model.html#logistic-regression\n",
      "\n",
      "C:\\Users\\edwar\\AppData\\Roaming\\Python\\Python39\\site-packages\\sklearn\\linear_model\\_logistic.py:444: ConvergenceWarning:\n",
      "\n",
      "lbfgs failed to converge (status=1):\n",
      "STOP: TOTAL NO. of ITERATIONS REACHED LIMIT.\n",
      "\n",
      "Increase the number of iterations (max_iter) or scale the data as shown in:\n",
      "    https://scikit-learn.org/stable/modules/preprocessing.html\n",
      "Please also refer to the documentation for alternative solver options:\n",
      "    https://scikit-learn.org/stable/modules/linear_model.html#logistic-regression\n",
      "\n",
      "C:\\Users\\edwar\\AppData\\Roaming\\Python\\Python39\\site-packages\\sklearn\\linear_model\\_sag.py:350: ConvergenceWarning:\n",
      "\n",
      "The max_iter was reached which means the coef_ did not converge\n",
      "\n",
      "C:\\Users\\edwar\\AppData\\Roaming\\Python\\Python39\\site-packages\\sklearn\\linear_model\\_sag.py:350: ConvergenceWarning:\n",
      "\n",
      "The max_iter was reached which means the coef_ did not converge\n",
      "\n",
      "C:\\Users\\edwar\\AppData\\Roaming\\Python\\Python39\\site-packages\\sklearn\\linear_model\\_sag.py:350: ConvergenceWarning:\n",
      "\n",
      "The max_iter was reached which means the coef_ did not converge\n",
      "\n",
      "C:\\Users\\edwar\\AppData\\Roaming\\Python\\Python39\\site-packages\\sklearn\\linear_model\\_sag.py:350: ConvergenceWarning:\n",
      "\n",
      "The max_iter was reached which means the coef_ did not converge\n",
      "\n",
      "C:\\Users\\edwar\\AppData\\Roaming\\Python\\Python39\\site-packages\\sklearn\\linear_model\\_sag.py:350: ConvergenceWarning:\n",
      "\n",
      "The max_iter was reached which means the coef_ did not converge\n",
      "\n",
      "C:\\Users\\edwar\\AppData\\Roaming\\Python\\Python39\\site-packages\\sklearn\\linear_model\\_sag.py:350: ConvergenceWarning:\n",
      "\n",
      "The max_iter was reached which means the coef_ did not converge\n",
      "\n",
      "C:\\Users\\edwar\\AppData\\Roaming\\Python\\Python39\\site-packages\\sklearn\\linear_model\\_sag.py:350: ConvergenceWarning:\n",
      "\n",
      "The max_iter was reached which means the coef_ did not converge\n",
      "\n",
      "C:\\Users\\edwar\\AppData\\Roaming\\Python\\Python39\\site-packages\\sklearn\\linear_model\\_sag.py:350: ConvergenceWarning:\n",
      "\n",
      "The max_iter was reached which means the coef_ did not converge\n",
      "\n",
      "C:\\Users\\edwar\\AppData\\Roaming\\Python\\Python39\\site-packages\\sklearn\\linear_model\\_sag.py:350: ConvergenceWarning:\n",
      "\n",
      "The max_iter was reached which means the coef_ did not converge\n",
      "\n",
      "C:\\Users\\edwar\\AppData\\Roaming\\Python\\Python39\\site-packages\\sklearn\\linear_model\\_sag.py:350: ConvergenceWarning:\n",
      "\n",
      "The max_iter was reached which means the coef_ did not converge\n",
      "\n",
      "C:\\Users\\edwar\\AppData\\Roaming\\Python\\Python39\\site-packages\\sklearn\\linear_model\\_logistic.py:444: ConvergenceWarning:\n",
      "\n",
      "lbfgs failed to converge (status=1):\n",
      "STOP: TOTAL NO. of ITERATIONS REACHED LIMIT.\n",
      "\n",
      "Increase the number of iterations (max_iter) or scale the data as shown in:\n",
      "    https://scikit-learn.org/stable/modules/preprocessing.html\n",
      "Please also refer to the documentation for alternative solver options:\n",
      "    https://scikit-learn.org/stable/modules/linear_model.html#logistic-regression\n",
      "\n",
      "C:\\Users\\edwar\\AppData\\Roaming\\Python\\Python39\\site-packages\\sklearn\\linear_model\\_logistic.py:444: ConvergenceWarning:\n",
      "\n",
      "lbfgs failed to converge (status=1):\n",
      "STOP: TOTAL NO. of ITERATIONS REACHED LIMIT.\n",
      "\n",
      "Increase the number of iterations (max_iter) or scale the data as shown in:\n",
      "    https://scikit-learn.org/stable/modules/preprocessing.html\n",
      "Please also refer to the documentation for alternative solver options:\n",
      "    https://scikit-learn.org/stable/modules/linear_model.html#logistic-regression\n",
      "\n",
      "C:\\Users\\edwar\\AppData\\Roaming\\Python\\Python39\\site-packages\\sklearn\\linear_model\\_logistic.py:444: ConvergenceWarning:\n",
      "\n",
      "lbfgs failed to converge (status=1):\n",
      "STOP: TOTAL NO. of ITERATIONS REACHED LIMIT.\n",
      "\n",
      "Increase the number of iterations (max_iter) or scale the data as shown in:\n",
      "    https://scikit-learn.org/stable/modules/preprocessing.html\n",
      "Please also refer to the documentation for alternative solver options:\n",
      "    https://scikit-learn.org/stable/modules/linear_model.html#logistic-regression\n",
      "\n",
      "C:\\Users\\edwar\\AppData\\Roaming\\Python\\Python39\\site-packages\\sklearn\\linear_model\\_logistic.py:444: ConvergenceWarning:\n",
      "\n",
      "lbfgs failed to converge (status=1):\n",
      "STOP: TOTAL NO. of ITERATIONS REACHED LIMIT.\n",
      "\n",
      "Increase the number of iterations (max_iter) or scale the data as shown in:\n",
      "    https://scikit-learn.org/stable/modules/preprocessing.html\n",
      "Please also refer to the documentation for alternative solver options:\n",
      "    https://scikit-learn.org/stable/modules/linear_model.html#logistic-regression\n",
      "\n",
      "C:\\Users\\edwar\\AppData\\Roaming\\Python\\Python39\\site-packages\\sklearn\\linear_model\\_logistic.py:444: ConvergenceWarning:\n",
      "\n",
      "lbfgs failed to converge (status=1):\n",
      "STOP: TOTAL NO. of ITERATIONS REACHED LIMIT.\n",
      "\n",
      "Increase the number of iterations (max_iter) or scale the data as shown in:\n",
      "    https://scikit-learn.org/stable/modules/preprocessing.html\n",
      "Please also refer to the documentation for alternative solver options:\n",
      "    https://scikit-learn.org/stable/modules/linear_model.html#logistic-regression\n",
      "\n",
      "C:\\Users\\edwar\\AppData\\Roaming\\Python\\Python39\\site-packages\\sklearn\\linear_model\\_logistic.py:444: ConvergenceWarning:\n",
      "\n",
      "lbfgs failed to converge (status=1):\n",
      "STOP: TOTAL NO. of ITERATIONS REACHED LIMIT.\n",
      "\n",
      "Increase the number of iterations (max_iter) or scale the data as shown in:\n",
      "    https://scikit-learn.org/stable/modules/preprocessing.html\n",
      "Please also refer to the documentation for alternative solver options:\n",
      "    https://scikit-learn.org/stable/modules/linear_model.html#logistic-regression\n",
      "\n",
      "C:\\Users\\edwar\\AppData\\Roaming\\Python\\Python39\\site-packages\\sklearn\\linear_model\\_logistic.py:444: ConvergenceWarning:\n",
      "\n",
      "lbfgs failed to converge (status=1):\n",
      "STOP: TOTAL NO. of ITERATIONS REACHED LIMIT.\n",
      "\n",
      "Increase the number of iterations (max_iter) or scale the data as shown in:\n",
      "    https://scikit-learn.org/stable/modules/preprocessing.html\n",
      "Please also refer to the documentation for alternative solver options:\n",
      "    https://scikit-learn.org/stable/modules/linear_model.html#logistic-regression\n",
      "\n",
      "C:\\Users\\edwar\\AppData\\Roaming\\Python\\Python39\\site-packages\\sklearn\\linear_model\\_logistic.py:444: ConvergenceWarning:\n",
      "\n",
      "lbfgs failed to converge (status=1):\n",
      "STOP: TOTAL NO. of ITERATIONS REACHED LIMIT.\n",
      "\n",
      "Increase the number of iterations (max_iter) or scale the data as shown in:\n",
      "    https://scikit-learn.org/stable/modules/preprocessing.html\n",
      "Please also refer to the documentation for alternative solver options:\n",
      "    https://scikit-learn.org/stable/modules/linear_model.html#logistic-regression\n",
      "\n",
      "C:\\Users\\edwar\\AppData\\Roaming\\Python\\Python39\\site-packages\\sklearn\\linear_model\\_logistic.py:444: ConvergenceWarning:\n",
      "\n",
      "lbfgs failed to converge (status=1):\n",
      "STOP: TOTAL NO. of ITERATIONS REACHED LIMIT.\n",
      "\n",
      "Increase the number of iterations (max_iter) or scale the data as shown in:\n",
      "    https://scikit-learn.org/stable/modules/preprocessing.html\n",
      "Please also refer to the documentation for alternative solver options:\n",
      "    https://scikit-learn.org/stable/modules/linear_model.html#logistic-regression\n",
      "\n",
      "C:\\Users\\edwar\\AppData\\Roaming\\Python\\Python39\\site-packages\\sklearn\\linear_model\\_logistic.py:444: ConvergenceWarning:\n",
      "\n",
      "lbfgs failed to converge (status=1):\n",
      "STOP: TOTAL NO. of ITERATIONS REACHED LIMIT.\n",
      "\n",
      "Increase the number of iterations (max_iter) or scale the data as shown in:\n",
      "    https://scikit-learn.org/stable/modules/preprocessing.html\n",
      "Please also refer to the documentation for alternative solver options:\n",
      "    https://scikit-learn.org/stable/modules/linear_model.html#logistic-regression\n",
      "\n",
      "C:\\Users\\edwar\\AppData\\Roaming\\Python\\Python39\\site-packages\\sklearn\\linear_model\\_logistic.py:444: ConvergenceWarning:\n",
      "\n",
      "lbfgs failed to converge (status=1):\n",
      "STOP: TOTAL NO. of ITERATIONS REACHED LIMIT.\n",
      "\n",
      "Increase the number of iterations (max_iter) or scale the data as shown in:\n",
      "    https://scikit-learn.org/stable/modules/preprocessing.html\n",
      "Please also refer to the documentation for alternative solver options:\n",
      "    https://scikit-learn.org/stable/modules/linear_model.html#logistic-regression\n",
      "\n",
      "C:\\Users\\edwar\\AppData\\Roaming\\Python\\Python39\\site-packages\\sklearn\\linear_model\\_logistic.py:444: ConvergenceWarning:\n",
      "\n",
      "lbfgs failed to converge (status=1):\n",
      "STOP: TOTAL NO. of ITERATIONS REACHED LIMIT.\n",
      "\n",
      "Increase the number of iterations (max_iter) or scale the data as shown in:\n",
      "    https://scikit-learn.org/stable/modules/preprocessing.html\n",
      "Please also refer to the documentation for alternative solver options:\n",
      "    https://scikit-learn.org/stable/modules/linear_model.html#logistic-regression\n",
      "\n",
      "C:\\Users\\edwar\\AppData\\Roaming\\Python\\Python39\\site-packages\\sklearn\\linear_model\\_logistic.py:444: ConvergenceWarning:\n",
      "\n",
      "lbfgs failed to converge (status=1):\n",
      "STOP: TOTAL NO. of ITERATIONS REACHED LIMIT.\n",
      "\n",
      "Increase the number of iterations (max_iter) or scale the data as shown in:\n",
      "    https://scikit-learn.org/stable/modules/preprocessing.html\n",
      "Please also refer to the documentation for alternative solver options:\n",
      "    https://scikit-learn.org/stable/modules/linear_model.html#logistic-regression\n",
      "\n",
      "C:\\Users\\edwar\\AppData\\Roaming\\Python\\Python39\\site-packages\\sklearn\\linear_model\\_logistic.py:444: ConvergenceWarning:\n",
      "\n",
      "lbfgs failed to converge (status=1):\n",
      "STOP: TOTAL NO. of ITERATIONS REACHED LIMIT.\n",
      "\n",
      "Increase the number of iterations (max_iter) or scale the data as shown in:\n",
      "    https://scikit-learn.org/stable/modules/preprocessing.html\n",
      "Please also refer to the documentation for alternative solver options:\n",
      "    https://scikit-learn.org/stable/modules/linear_model.html#logistic-regression\n",
      "\n",
      "C:\\Users\\edwar\\AppData\\Roaming\\Python\\Python39\\site-packages\\sklearn\\linear_model\\_logistic.py:444: ConvergenceWarning:\n",
      "\n",
      "lbfgs failed to converge (status=1):\n",
      "STOP: TOTAL NO. of ITERATIONS REACHED LIMIT.\n",
      "\n",
      "Increase the number of iterations (max_iter) or scale the data as shown in:\n",
      "    https://scikit-learn.org/stable/modules/preprocessing.html\n",
      "Please also refer to the documentation for alternative solver options:\n",
      "    https://scikit-learn.org/stable/modules/linear_model.html#logistic-regression\n",
      "\n",
      "C:\\Users\\edwar\\AppData\\Roaming\\Python\\Python39\\site-packages\\sklearn\\linear_model\\_sag.py:350: ConvergenceWarning:\n",
      "\n",
      "The max_iter was reached which means the coef_ did not converge\n",
      "\n",
      "C:\\Users\\edwar\\AppData\\Roaming\\Python\\Python39\\site-packages\\sklearn\\linear_model\\_sag.py:350: ConvergenceWarning:\n",
      "\n",
      "The max_iter was reached which means the coef_ did not converge\n",
      "\n",
      "C:\\Users\\edwar\\AppData\\Roaming\\Python\\Python39\\site-packages\\sklearn\\linear_model\\_sag.py:350: ConvergenceWarning:\n",
      "\n",
      "The max_iter was reached which means the coef_ did not converge\n",
      "\n",
      "C:\\Users\\edwar\\AppData\\Roaming\\Python\\Python39\\site-packages\\sklearn\\linear_model\\_sag.py:350: ConvergenceWarning:\n",
      "\n",
      "The max_iter was reached which means the coef_ did not converge\n",
      "\n",
      "C:\\Users\\edwar\\AppData\\Roaming\\Python\\Python39\\site-packages\\sklearn\\linear_model\\_sag.py:350: ConvergenceWarning:\n",
      "\n",
      "The max_iter was reached which means the coef_ did not converge\n",
      "\n",
      "C:\\Users\\edwar\\AppData\\Roaming\\Python\\Python39\\site-packages\\sklearn\\linear_model\\_sag.py:350: ConvergenceWarning:\n",
      "\n",
      "The max_iter was reached which means the coef_ did not converge\n",
      "\n",
      "C:\\Users\\edwar\\AppData\\Roaming\\Python\\Python39\\site-packages\\sklearn\\linear_model\\_sag.py:350: ConvergenceWarning:\n",
      "\n",
      "The max_iter was reached which means the coef_ did not converge\n",
      "\n",
      "C:\\Users\\edwar\\AppData\\Roaming\\Python\\Python39\\site-packages\\sklearn\\linear_model\\_sag.py:350: ConvergenceWarning:\n",
      "\n",
      "The max_iter was reached which means the coef_ did not converge\n",
      "\n",
      "C:\\Users\\edwar\\AppData\\Roaming\\Python\\Python39\\site-packages\\sklearn\\linear_model\\_sag.py:350: ConvergenceWarning:\n",
      "\n",
      "The max_iter was reached which means the coef_ did not converge\n",
      "\n",
      "C:\\Users\\edwar\\AppData\\Roaming\\Python\\Python39\\site-packages\\sklearn\\linear_model\\_sag.py:350: ConvergenceWarning:\n",
      "\n",
      "The max_iter was reached which means the coef_ did not converge\n",
      "\n",
      "C:\\Users\\edwar\\AppData\\Roaming\\Python\\Python39\\site-packages\\sklearn\\linear_model\\_sag.py:350: ConvergenceWarning:\n",
      "\n",
      "The max_iter was reached which means the coef_ did not converge\n",
      "\n",
      "C:\\Users\\edwar\\AppData\\Roaming\\Python\\Python39\\site-packages\\sklearn\\linear_model\\_sag.py:350: ConvergenceWarning:\n",
      "\n",
      "The max_iter was reached which means the coef_ did not converge\n",
      "\n",
      "C:\\Users\\edwar\\AppData\\Roaming\\Python\\Python39\\site-packages\\sklearn\\linear_model\\_sag.py:350: ConvergenceWarning:\n",
      "\n",
      "The max_iter was reached which means the coef_ did not converge\n",
      "\n",
      "C:\\Users\\edwar\\AppData\\Roaming\\Python\\Python39\\site-packages\\sklearn\\linear_model\\_sag.py:350: ConvergenceWarning:\n",
      "\n",
      "The max_iter was reached which means the coef_ did not converge\n",
      "\n",
      "C:\\Users\\edwar\\AppData\\Roaming\\Python\\Python39\\site-packages\\sklearn\\linear_model\\_sag.py:350: ConvergenceWarning:\n",
      "\n",
      "The max_iter was reached which means the coef_ did not converge\n",
      "\n",
      "C:\\Users\\edwar\\AppData\\Roaming\\Python\\Python39\\site-packages\\sklearn\\linear_model\\_sag.py:350: ConvergenceWarning:\n",
      "\n",
      "The max_iter was reached which means the coef_ did not converge\n",
      "\n",
      "C:\\Users\\edwar\\AppData\\Roaming\\Python\\Python39\\site-packages\\sklearn\\linear_model\\_sag.py:350: ConvergenceWarning:\n",
      "\n",
      "The max_iter was reached which means the coef_ did not converge\n",
      "\n",
      "C:\\Users\\edwar\\AppData\\Roaming\\Python\\Python39\\site-packages\\sklearn\\linear_model\\_sag.py:350: ConvergenceWarning:\n",
      "\n",
      "The max_iter was reached which means the coef_ did not converge\n",
      "\n",
      "C:\\Users\\edwar\\AppData\\Roaming\\Python\\Python39\\site-packages\\sklearn\\linear_model\\_sag.py:350: ConvergenceWarning:\n",
      "\n",
      "The max_iter was reached which means the coef_ did not converge\n",
      "\n",
      "C:\\Users\\edwar\\AppData\\Roaming\\Python\\Python39\\site-packages\\sklearn\\linear_model\\_sag.py:350: ConvergenceWarning:\n",
      "\n",
      "The max_iter was reached which means the coef_ did not converge\n",
      "\n",
      "C:\\Users\\edwar\\AppData\\Roaming\\Python\\Python39\\site-packages\\sklearn\\linear_model\\_logistic.py:444: ConvergenceWarning:\n",
      "\n",
      "lbfgs failed to converge (status=1):\n",
      "STOP: TOTAL NO. of ITERATIONS REACHED LIMIT.\n",
      "\n",
      "Increase the number of iterations (max_iter) or scale the data as shown in:\n",
      "    https://scikit-learn.org/stable/modules/preprocessing.html\n",
      "Please also refer to the documentation for alternative solver options:\n",
      "    https://scikit-learn.org/stable/modules/linear_model.html#logistic-regression\n",
      "\n",
      "C:\\Users\\edwar\\AppData\\Roaming\\Python\\Python39\\site-packages\\sklearn\\linear_model\\_logistic.py:444: ConvergenceWarning:\n",
      "\n",
      "lbfgs failed to converge (status=1):\n",
      "STOP: TOTAL NO. of ITERATIONS REACHED LIMIT.\n",
      "\n",
      "Increase the number of iterations (max_iter) or scale the data as shown in:\n",
      "    https://scikit-learn.org/stable/modules/preprocessing.html\n",
      "Please also refer to the documentation for alternative solver options:\n",
      "    https://scikit-learn.org/stable/modules/linear_model.html#logistic-regression\n",
      "\n",
      "C:\\Users\\edwar\\AppData\\Roaming\\Python\\Python39\\site-packages\\sklearn\\linear_model\\_logistic.py:444: ConvergenceWarning:\n",
      "\n",
      "lbfgs failed to converge (status=1):\n",
      "STOP: TOTAL NO. of ITERATIONS REACHED LIMIT.\n",
      "\n",
      "Increase the number of iterations (max_iter) or scale the data as shown in:\n",
      "    https://scikit-learn.org/stable/modules/preprocessing.html\n",
      "Please also refer to the documentation for alternative solver options:\n",
      "    https://scikit-learn.org/stable/modules/linear_model.html#logistic-regression\n",
      "\n",
      "C:\\Users\\edwar\\AppData\\Roaming\\Python\\Python39\\site-packages\\sklearn\\linear_model\\_logistic.py:444: ConvergenceWarning:\n",
      "\n",
      "lbfgs failed to converge (status=1):\n",
      "STOP: TOTAL NO. of ITERATIONS REACHED LIMIT.\n",
      "\n",
      "Increase the number of iterations (max_iter) or scale the data as shown in:\n",
      "    https://scikit-learn.org/stable/modules/preprocessing.html\n",
      "Please also refer to the documentation for alternative solver options:\n",
      "    https://scikit-learn.org/stable/modules/linear_model.html#logistic-regression\n",
      "\n",
      "C:\\Users\\edwar\\AppData\\Roaming\\Python\\Python39\\site-packages\\sklearn\\linear_model\\_logistic.py:444: ConvergenceWarning:\n",
      "\n",
      "lbfgs failed to converge (status=1):\n",
      "STOP: TOTAL NO. of ITERATIONS REACHED LIMIT.\n",
      "\n",
      "Increase the number of iterations (max_iter) or scale the data as shown in:\n",
      "    https://scikit-learn.org/stable/modules/preprocessing.html\n",
      "Please also refer to the documentation for alternative solver options:\n",
      "    https://scikit-learn.org/stable/modules/linear_model.html#logistic-regression\n",
      "\n",
      "C:\\Users\\edwar\\AppData\\Roaming\\Python\\Python39\\site-packages\\sklearn\\linear_model\\_sag.py:350: ConvergenceWarning:\n",
      "\n",
      "The max_iter was reached which means the coef_ did not converge\n",
      "\n",
      "C:\\Users\\edwar\\AppData\\Roaming\\Python\\Python39\\site-packages\\sklearn\\linear_model\\_sag.py:350: ConvergenceWarning:\n",
      "\n",
      "The max_iter was reached which means the coef_ did not converge\n",
      "\n",
      "C:\\Users\\edwar\\AppData\\Roaming\\Python\\Python39\\site-packages\\sklearn\\linear_model\\_sag.py:350: ConvergenceWarning:\n",
      "\n",
      "The max_iter was reached which means the coef_ did not converge\n",
      "\n",
      "C:\\Users\\edwar\\AppData\\Roaming\\Python\\Python39\\site-packages\\sklearn\\linear_model\\_sag.py:350: ConvergenceWarning:\n",
      "\n",
      "The max_iter was reached which means the coef_ did not converge\n",
      "\n",
      "C:\\Users\\edwar\\AppData\\Roaming\\Python\\Python39\\site-packages\\sklearn\\linear_model\\_sag.py:350: ConvergenceWarning:\n",
      "\n",
      "The max_iter was reached which means the coef_ did not converge\n",
      "\n",
      "C:\\Users\\edwar\\AppData\\Roaming\\Python\\Python39\\site-packages\\sklearn\\linear_model\\_sag.py:350: ConvergenceWarning:\n",
      "\n",
      "The max_iter was reached which means the coef_ did not converge\n",
      "\n",
      "C:\\Users\\edwar\\AppData\\Roaming\\Python\\Python39\\site-packages\\sklearn\\linear_model\\_sag.py:350: ConvergenceWarning:\n",
      "\n",
      "The max_iter was reached which means the coef_ did not converge\n",
      "\n",
      "C:\\Users\\edwar\\AppData\\Roaming\\Python\\Python39\\site-packages\\sklearn\\linear_model\\_sag.py:350: ConvergenceWarning:\n",
      "\n",
      "The max_iter was reached which means the coef_ did not converge\n",
      "\n",
      "C:\\Users\\edwar\\AppData\\Roaming\\Python\\Python39\\site-packages\\sklearn\\linear_model\\_sag.py:350: ConvergenceWarning:\n",
      "\n",
      "The max_iter was reached which means the coef_ did not converge\n",
      "\n",
      "C:\\Users\\edwar\\AppData\\Roaming\\Python\\Python39\\site-packages\\sklearn\\linear_model\\_sag.py:350: ConvergenceWarning:\n",
      "\n",
      "The max_iter was reached which means the coef_ did not converge\n",
      "\n",
      "C:\\Users\\edwar\\AppData\\Roaming\\Python\\Python39\\site-packages\\sklearn\\linear_model\\_logistic.py:444: ConvergenceWarning:\n",
      "\n",
      "lbfgs failed to converge (status=1):\n",
      "STOP: TOTAL NO. of ITERATIONS REACHED LIMIT.\n",
      "\n",
      "Increase the number of iterations (max_iter) or scale the data as shown in:\n",
      "    https://scikit-learn.org/stable/modules/preprocessing.html\n",
      "Please also refer to the documentation for alternative solver options:\n",
      "    https://scikit-learn.org/stable/modules/linear_model.html#logistic-regression\n",
      "\n"
     ]
    }
   ],
   "source": [
    "from sklearn.model_selection import GridSearchCV\n",
    "\n",
    "lr_params = {\n",
    "    'solver': ['lbfgs', 'liblinear', 'sag','saga'],\n",
    "    'max_iter': [200, 300, 400, 500],\n",
    "    'C': [5, 10, 15, 100]\n",
    "}\n",
    "\n",
    "gs_lr_result = GridSearchCV(lr, lr_params, cv=kfold).fit(x_train_norm, y_train)\n",
    "# print(gs_lr_result.best_score_)\n",
    "print(gs_lr_result.best_estimator_)"
   ]
  },
  {
   "cell_type": "markdown",
   "metadata": {},
   "source": [
    "## Fine tuning for SVM"
   ]
  },
  {
   "cell_type": "code",
   "execution_count": null,
   "metadata": {},
   "outputs": [
    {
     "name": "stdout",
     "output_type": "stream",
     "text": [
      "SVC(C=1, gamma=0.1, kernel='linear')\n"
     ]
    }
   ],
   "source": [
    "svm = SVC(shrinking=True)\n",
    "\n",
    "svm_params = {\n",
    "    'kernel': ['linear', 'rbf'],\n",
    "    'gamma': [0.1, 0.5, 1],\n",
    "    'C': [0.1, 0.5, 1]\n",
    "}\n",
    "\n",
    "gs_svm_result = GridSearchCV(svm, svm_params, cv=kfold).fit(x_train_norm, y_train)\n",
    "print(gs_svm_result.best_estimator_)"
   ]
  },
  {
   "cell_type": "markdown",
   "metadata": {},
   "source": [
    "## Score of fine tuning"
   ]
  },
  {
   "cell_type": "code",
   "execution_count": null,
   "metadata": {},
   "outputs": [
    {
     "name": "stdout",
     "output_type": "stream",
     "text": [
      "0.809\n",
      "0.808\n"
     ]
    }
   ],
   "source": [
    "print(f\"{gs_lr_result.best_score_:.3f}\")\n",
    "print(f\"{gs_svm_result.best_score_:.3f}\")"
   ]
  },
  {
   "cell_type": "markdown",
   "metadata": {},
   "source": [
    "## Scores of fine tuned best params with testing set"
   ]
  },
  {
   "cell_type": "code",
   "execution_count": null,
   "metadata": {},
   "outputs": [
    {
     "name": "stdout",
     "output_type": "stream",
     "text": [
      "0.808\n",
      "0.803\n"
     ]
    }
   ],
   "source": [
    "lr_test = gs_lr_result.best_estimator_.score(x_test_norm, y_test)\n",
    "print(f\"{lr_test:.3f}\")\n",
    "svm_test = gs_svm_result.best_estimator_.score(x_test_norm, y_test)\n",
    "print(f\"{svm_test:.3f}\")"
   ]
  },
  {
   "cell_type": "markdown",
   "metadata": {},
   "source": [
    "## KMeans clustering"
   ]
  },
  {
   "cell_type": "code",
   "execution_count": null,
   "metadata": {},
   "outputs": [
    {
     "data": {
      "text/html": [
       "<style>#sk-container-id-1 {color: black;background-color: white;}#sk-container-id-1 pre{padding: 0;}#sk-container-id-1 div.sk-toggleable {background-color: white;}#sk-container-id-1 label.sk-toggleable__label {cursor: pointer;display: block;width: 100%;margin-bottom: 0;padding: 0.3em;box-sizing: border-box;text-align: center;}#sk-container-id-1 label.sk-toggleable__label-arrow:before {content: \"▸\";float: left;margin-right: 0.25em;color: #696969;}#sk-container-id-1 label.sk-toggleable__label-arrow:hover:before {color: black;}#sk-container-id-1 div.sk-estimator:hover label.sk-toggleable__label-arrow:before {color: black;}#sk-container-id-1 div.sk-toggleable__content {max-height: 0;max-width: 0;overflow: hidden;text-align: left;background-color: #f0f8ff;}#sk-container-id-1 div.sk-toggleable__content pre {margin: 0.2em;color: black;border-radius: 0.25em;background-color: #f0f8ff;}#sk-container-id-1 input.sk-toggleable__control:checked~div.sk-toggleable__content {max-height: 200px;max-width: 100%;overflow: auto;}#sk-container-id-1 input.sk-toggleable__control:checked~label.sk-toggleable__label-arrow:before {content: \"▾\";}#sk-container-id-1 div.sk-estimator input.sk-toggleable__control:checked~label.sk-toggleable__label {background-color: #d4ebff;}#sk-container-id-1 div.sk-label input.sk-toggleable__control:checked~label.sk-toggleable__label {background-color: #d4ebff;}#sk-container-id-1 input.sk-hidden--visually {border: 0;clip: rect(1px 1px 1px 1px);clip: rect(1px, 1px, 1px, 1px);height: 1px;margin: -1px;overflow: hidden;padding: 0;position: absolute;width: 1px;}#sk-container-id-1 div.sk-estimator {font-family: monospace;background-color: #f0f8ff;border: 1px dotted black;border-radius: 0.25em;box-sizing: border-box;margin-bottom: 0.5em;}#sk-container-id-1 div.sk-estimator:hover {background-color: #d4ebff;}#sk-container-id-1 div.sk-parallel-item::after {content: \"\";width: 100%;border-bottom: 1px solid gray;flex-grow: 1;}#sk-container-id-1 div.sk-label:hover label.sk-toggleable__label {background-color: #d4ebff;}#sk-container-id-1 div.sk-serial::before {content: \"\";position: absolute;border-left: 1px solid gray;box-sizing: border-box;top: 0;bottom: 0;left: 50%;z-index: 0;}#sk-container-id-1 div.sk-serial {display: flex;flex-direction: column;align-items: center;background-color: white;padding-right: 0.2em;padding-left: 0.2em;position: relative;}#sk-container-id-1 div.sk-item {position: relative;z-index: 1;}#sk-container-id-1 div.sk-parallel {display: flex;align-items: stretch;justify-content: center;background-color: white;position: relative;}#sk-container-id-1 div.sk-item::before, #sk-container-id-1 div.sk-parallel-item::before {content: \"\";position: absolute;border-left: 1px solid gray;box-sizing: border-box;top: 0;bottom: 0;left: 50%;z-index: -1;}#sk-container-id-1 div.sk-parallel-item {display: flex;flex-direction: column;z-index: 1;position: relative;background-color: white;}#sk-container-id-1 div.sk-parallel-item:first-child::after {align-self: flex-end;width: 50%;}#sk-container-id-1 div.sk-parallel-item:last-child::after {align-self: flex-start;width: 50%;}#sk-container-id-1 div.sk-parallel-item:only-child::after {width: 0;}#sk-container-id-1 div.sk-dashed-wrapped {border: 1px dashed gray;margin: 0 0.4em 0.5em 0.4em;box-sizing: border-box;padding-bottom: 0.4em;background-color: white;}#sk-container-id-1 div.sk-label label {font-family: monospace;font-weight: bold;display: inline-block;line-height: 1.2em;}#sk-container-id-1 div.sk-label-container {text-align: center;}#sk-container-id-1 div.sk-container {/* jupyter's `normalize.less` sets `[hidden] { display: none; }` but bootstrap.min.css set `[hidden] { display: none !important; }` so we also need the `!important` here to be able to override the default hidden behavior on the sphinx rendered scikit-learn.org. See: https://github.com/scikit-learn/scikit-learn/issues/21755 */display: inline-block !important;position: relative;}#sk-container-id-1 div.sk-text-repr-fallback {display: none;}</style><div id=\"sk-container-id-1\" class=\"sk-top-container\"><div class=\"sk-text-repr-fallback\"><pre>KMeans(n_clusters=2)</pre><b>In a Jupyter environment, please rerun this cell to show the HTML representation or trust the notebook. <br />On GitHub, the HTML representation is unable to render, please try loading this page with nbviewer.org.</b></div><div class=\"sk-container\" hidden><div class=\"sk-item\"><div class=\"sk-estimator sk-toggleable\"><input class=\"sk-toggleable__control sk-hidden--visually\" id=\"sk-estimator-id-1\" type=\"checkbox\" checked><label for=\"sk-estimator-id-1\" class=\"sk-toggleable__label sk-toggleable__label-arrow\">KMeans</label><div class=\"sk-toggleable__content\"><pre>KMeans(n_clusters=2)</pre></div></div></div></div></div>"
      ],
      "text/plain": [
       "KMeans(n_clusters=2)"
      ]
     },
     "execution_count": 21,
     "metadata": {},
     "output_type": "execute_result"
    }
   ],
   "source": [
    "from sklearn.cluster import KMeans\n",
    "\n",
    "clusters = len(np.unique(y_train))\n",
    "kmeans = KMeans(n_clusters=clusters)\n",
    "kmeans.fit(x_train_norm)"
   ]
  },
  {
   "cell_type": "markdown",
   "metadata": {},
   "source": [
    "## Splitting of data samples into each cluster"
   ]
  },
  {
   "cell_type": "code",
   "execution_count": null,
   "metadata": {},
   "outputs": [
    {
     "name": "stdout",
     "output_type": "stream",
     "text": [
      "Cluster 1: 10797 data samples\n",
      "Cluster 2: 9649 data samples\n"
     ]
    }
   ],
   "source": [
    "cluster_centers = kmeans.cluster_centers_\n",
    "cluster_labels = kmeans.labels_\n",
    "\n",
    "cluster_counts = np.bincount(cluster_labels)\n",
    "\n",
    "for i, count in enumerate(cluster_counts):\n",
    "    print(f\"Cluster {i+1}: {count} data samples\")"
   ]
  },
  {
   "cell_type": "markdown",
   "metadata": {},
   "source": [
    "## Euclidean distance to compare similarity of clusters from prototype"
   ]
  },
  {
   "cell_type": "code",
   "execution_count": null,
   "metadata": {},
   "outputs": [
    {
     "name": "stdout",
     "output_type": "stream",
     "text": [
      "Prototype for Cluster 1:\n",
      " [ 2.58537062e-01  5.94387330e-01  5.18569973e-01  3.81962677e-01\n",
      "  2.96378624e-03  5.99518385e-01  3.33518570e-01  6.39992591e-02\n",
      "  1.28739465e-02  3.38056868e-02  1.36519404e-01  1.12068167e-02\n",
      "  8.05594147e-01  3.77475828e-15  4.88746874e-01  5.30702973e-02\n",
      "  2.50810410e-01  2.07372418e-01 -1.26981758e-15  3.01935723e-02\n",
      "  6.83523201e-02  4.63091600e-04  7.82995276e-01  1.87089006e-02\n",
      "  5.59414652e-02  4.30675188e-02  2.77854960e-04  1.49856442e-01\n",
      "  2.77854960e-04  8.56719459e-02  1.01694915e-01  2.54700380e-02\n",
      "  4.55682134e-02  5.85347782e-02  1.41242938e-01  8.89135871e-03\n",
      "  1.86718533e-01  1.71343892e-02  1.12160785e-01  3.07492822e-02\n",
      "  3.60285264e-02]\n",
      "\n",
      "Prototype for Cluster 2:\n",
      " [ 3.67141460e-01  6.31326217e-01  1.23328842e-01  4.37058086e-01\n",
      "  1.00000000e+00  8.88178420e-15 -5.44009282e-15  1.59594560e-16\n",
      "  8.29101461e-03  4.04186962e-02  6.22862473e-02  7.66918852e-03\n",
      "  8.81334853e-01  8.66307389e-01  8.29101461e-04  9.32739144e-03\n",
      "  4.56005804e-03  6.10622664e-16  1.18976060e-01  3.88641310e-02\n",
      "  7.88682765e-02 -2.65629532e-18  6.42760908e-01  6.75717691e-02\n",
      "  1.24883408e-01  4.65333195e-02  5.18188413e-04  7.14063634e-02\n",
      "  2.07275365e-04  1.37423567e-01  1.67167582e-01  4.15587107e-02\n",
      "  2.77748990e-02  5.75189139e-02  5.10933776e-02  1.55456524e-03\n",
      "  2.00228003e-01  3.08840294e-02  1.17214219e-01  2.94331019e-02\n",
      "  6.65353923e-02]\n",
      "\n",
      "Average distance between prototypes: 1.6766164966576909\n"
     ]
    }
   ],
   "source": [
    "from scipy.spatial.distance import euclidean\n",
    "for i, centroid in enumerate(cluster_centers):\n",
    "    print(f\"Prototype for Cluster {i+1}:\\n {centroid}\")\n",
    "    print()\n",
    "\n",
    "distances = []\n",
    "for i in range(len(cluster_centers)):\n",
    "    for j in range(i + 1, len(cluster_centers)):\n",
    "        distance = euclidean(cluster_centers[i], cluster_centers[j])\n",
    "        distances.append(distance)\n",
    "\n",
    "average_distance = np.mean(distances)\n",
    "print(f\"Average distance between prototypes: {average_distance}\")"
   ]
  },
  {
   "cell_type": "markdown",
   "metadata": {},
   "source": [
    "## Statistical analysis of each cluster"
   ]
  },
  {
   "cell_type": "code",
   "execution_count": null,
   "metadata": {},
   "outputs": [
    {
     "name": "stdout",
     "output_type": "stream",
     "text": [
      "Cluster 1:\n",
      "Mean: 0.165\n",
      "Standard Deviation: 0.145\n",
      "\n",
      "Cluster 2:\n",
      "Mean: 0.160\n",
      "Standard Deviation: 0.130\n",
      "\n"
     ]
    }
   ],
   "source": [
    "cluster_stats = []\n",
    "for i in range(clusters):\n",
    "    cluster_data = x_train_norm[cluster_labels == i]\n",
    "    cluster_mean = np.mean(cluster_data, axis=0)\n",
    "    cluster_std = np.std(cluster_data, axis=0)\n",
    "    cluster_stats.append((cluster_mean, cluster_std))\n",
    "\n",
    "# Print cluster statistics\n",
    "for i, (mean, std) in enumerate(cluster_stats):\n",
    "    print(f\"Cluster {i+1}:\")\n",
    "    print(f\"Mean: {np.mean(mean):.3f}\")\n",
    "    print(f\"Standard Deviation: {np.std(std):.3f}\")\n",
    "    print()"
   ]
  },
  {
   "cell_type": "markdown",
   "metadata": {},
   "source": [
    "## Plot of centroids"
   ]
  },
  {
   "cell_type": "code",
   "execution_count": null,
   "metadata": {},
   "outputs": [
    {
     "data": {
      "image/png": "[encoded data removed]",
      "text/plain": [
       "<Figure size 800x600 with 1 Axes>"
      ]
     },
     "metadata": {},
     "output_type": "display_data"
    },
    {
     "name": "stdout",
     "output_type": "stream",
     "text": [
      "Average distance between prototypes: 1.677\n"
     ]
    }
   ],
   "source": [
    "import matplotlib.pyplot as plt\n",
    "\n",
    "y_km = kmeans.fit_predict(x_train_norm)\n",
    "\n",
    "plt.figure(figsize=(8, 6))\n",
    "plt.scatter(cluster_centers[:, 0], cluster_centers[:, 1], c='blue', marker='o', label='Centroids')\n",
    "\n",
    "# Annotate centroids with cluster numbers\n",
    "for i, centroid in enumerate(cluster_centers):\n",
    "    plt.annotate(f'Cluster {i+1}', (centroid[0], centroid[1]), textcoords=\"offset points\", xytext=(0,10), ha='center')\n",
    "\n",
    "plt.title('Cluster Centroids')\n",
    "plt.xlabel('X')\n",
    "plt.ylabel('Y')\n",
    "plt.legend()\n",
    "plt.grid(True)\n",
    "plt.show()\n",
    "\n",
    "distances = []\n",
    "for i in range(len(cluster_centers)):\n",
    "    for j in range(i + 1, len(cluster_centers)):\n",
    "        distance = euclidean(cluster_centers[i], cluster_centers[j])\n",
    "        distances.append(distance)\n",
    "\n",
    "# Calculate average distance between centroids\n",
    "average_distance = np.mean(distances)\n",
    "print(f\"Average distance between prototypes: {average_distance:.3f}\")\n"
   ]
  },
  {
   "cell_type": "markdown",
   "metadata": {},
   "source": [
    "## Accuracy of clustering with test set"
   ]
  },
  {
   "cell_type": "code",
   "execution_count": null,
   "metadata": {},
   "outputs": [
    {
     "name": "stdout",
     "output_type": "stream",
     "text": [
      "Clustering Accuracy with Testing Set: 0.282\n"
     ]
    }
   ],
   "source": [
    "from sklearn.metrics import accuracy_score\n",
    "\n",
    "cluster_counts = len(np.unique(cluster_labels))\n",
    "\n",
    "test_cluster_labels = kmeans.predict(x_test_norm)\n",
    "\n",
    "cluster_to_class_mapping = {}\n",
    "\n",
    "for cluster_id in range(cluster_counts):\n",
    "    cluster_samples = y_train[cluster_labels == cluster_id]\n",
    "    most_frequent_class = np.argmax(np.bincount(cluster_samples))\n",
    "    cluster_to_class_mapping[cluster_id] = most_frequent_class\n",
    "\n",
    "predicted_labels = [cluster_to_class_mapping[cluster_label] for cluster_label in test_cluster_labels]\n",
    "\n",
    "clustering_accuracy = accuracy_score(y_test, predicted_labels)\n",
    "\n",
    "print(f\"Clustering Accuracy with Testing Set: {clustering_accuracy:.3f}\")"
   ]
  },
  {
   "cell_type": "markdown",
   "metadata": {},
   "source": [
    "## Silhouette score of KMeans clustering"
   ]
  },
  {
   "cell_type": "code",
   "execution_count": null,
   "metadata": {},
   "outputs": [
    {
     "ename": "KeyboardInterrupt",
     "evalue": "",
     "output_type": "error",
     "traceback": [
      "\u001b[1;31m---------------------------------------------------------------------------\u001b[0m",
      "\u001b[1;31mKeyboardInterrupt\u001b[0m                         Traceback (most recent call last)",
      "Cell \u001b[1;32mIn [1], line 1\u001b[0m\n\u001b[1;32m----> 1\u001b[0m \u001b[38;5;28;01mfrom\u001b[39;00m \u001b[38;5;21;01msklearn\u001b[39;00m\u001b[38;5;21;01m.\u001b[39;00m\u001b[38;5;21;01mmetrics\u001b[39;00m \u001b[38;5;28;01mimport\u001b[39;00m silhouette_score\n\u001b[0;32m      3\u001b[0m test_silhouette_avg \u001b[38;5;241m=\u001b[39m silhouette_score(x_test_norm, y_test)\n\u001b[0;32m      5\u001b[0m \u001b[38;5;28mprint\u001b[39m(\u001b[38;5;124mf\u001b[39m\u001b[38;5;124m\"\u001b[39m\u001b[38;5;124mSilhouette Score with Testing Set: \u001b[39m\u001b[38;5;132;01m{\u001b[39;00mtest_silhouette_avg\u001b[38;5;132;01m:\u001b[39;00m\u001b[38;5;124m.3f\u001b[39m\u001b[38;5;132;01m}\u001b[39;00m\u001b[38;5;124m\"\u001b[39m)\n",
      "File \u001b[1;32m~\\AppData\\Roaming\\Python\\Python39\\site-packages\\sklearn\\__init__.py:82\u001b[0m\n\u001b[0;32m     80\u001b[0m \u001b[38;5;28;01mfrom\u001b[39;00m \u001b[38;5;21;01m.\u001b[39;00m \u001b[38;5;28;01mimport\u001b[39;00m _distributor_init  \u001b[38;5;66;03m# noqa: F401\u001b[39;00m\n\u001b[0;32m     81\u001b[0m \u001b[38;5;28;01mfrom\u001b[39;00m \u001b[38;5;21;01m.\u001b[39;00m \u001b[38;5;28;01mimport\u001b[39;00m __check_build  \u001b[38;5;66;03m# noqa: F401\u001b[39;00m\n\u001b[1;32m---> 82\u001b[0m \u001b[38;5;28;01mfrom\u001b[39;00m \u001b[38;5;21;01m.\u001b[39;00m\u001b[38;5;21;01mbase\u001b[39;00m \u001b[38;5;28;01mimport\u001b[39;00m clone\n\u001b[0;32m     83\u001b[0m \u001b[38;5;28;01mfrom\u001b[39;00m \u001b[38;5;21;01m.\u001b[39;00m\u001b[38;5;21;01mutils\u001b[39;00m\u001b[38;5;21;01m.\u001b[39;00m\u001b[38;5;21;01m_show_versions\u001b[39;00m \u001b[38;5;28;01mimport\u001b[39;00m show_versions\n\u001b[0;32m     85\u001b[0m __all__ \u001b[38;5;241m=\u001b[39m [\n\u001b[0;32m     86\u001b[0m     \u001b[38;5;124m\"\u001b[39m\u001b[38;5;124mcalibration\u001b[39m\u001b[38;5;124m\"\u001b[39m,\n\u001b[0;32m     87\u001b[0m     \u001b[38;5;124m\"\u001b[39m\u001b[38;5;124mcluster\u001b[39m\u001b[38;5;124m\"\u001b[39m,\n\u001b[1;32m   (...)\u001b[0m\n\u001b[0;32m    128\u001b[0m     \u001b[38;5;124m\"\u001b[39m\u001b[38;5;124mshow_versions\u001b[39m\u001b[38;5;124m\"\u001b[39m,\n\u001b[0;32m    129\u001b[0m ]\n",
      "File \u001b[1;32m~\\AppData\\Roaming\\Python\\Python39\\site-packages\\sklearn\\base.py:17\u001b[0m\n\u001b[0;32m     15\u001b[0m \u001b[38;5;28;01mfrom\u001b[39;00m \u001b[38;5;21;01m.\u001b[39;00m \u001b[38;5;28;01mimport\u001b[39;00m __version__\n\u001b[0;32m     16\u001b[0m \u001b[38;5;28;01mfrom\u001b[39;00m \u001b[38;5;21;01m.\u001b[39;00m\u001b[38;5;21;01m_config\u001b[39;00m \u001b[38;5;28;01mimport\u001b[39;00m get_config\n\u001b[1;32m---> 17\u001b[0m \u001b[38;5;28;01mfrom\u001b[39;00m \u001b[38;5;21;01m.\u001b[39;00m\u001b[38;5;21;01mutils\u001b[39;00m \u001b[38;5;28;01mimport\u001b[39;00m _IS_32BIT\n\u001b[0;32m     18\u001b[0m \u001b[38;5;28;01mfrom\u001b[39;00m \u001b[38;5;21;01m.\u001b[39;00m\u001b[38;5;21;01mutils\u001b[39;00m\u001b[38;5;21;01m.\u001b[39;00m\u001b[38;5;21;01m_tags\u001b[39;00m \u001b[38;5;28;01mimport\u001b[39;00m (\n\u001b[0;32m     19\u001b[0m     _DEFAULT_TAGS,\n\u001b[0;32m     20\u001b[0m )\n\u001b[0;32m     21\u001b[0m \u001b[38;5;28;01mfrom\u001b[39;00m \u001b[38;5;21;01m.\u001b[39;00m\u001b[38;5;21;01mutils\u001b[39;00m\u001b[38;5;21;01m.\u001b[39;00m\u001b[38;5;21;01mvalidation\u001b[39;00m \u001b[38;5;28;01mimport\u001b[39;00m check_X_y\n",
      "File \u001b[1;32m~\\AppData\\Roaming\\Python\\Python39\\site-packages\\sklearn\\utils\\__init__.py:29\u001b[0m\n\u001b[0;32m     27\u001b[0m \u001b[38;5;28;01mfrom\u001b[39;00m \u001b[38;5;21;01m.\u001b[39;00m\u001b[38;5;21;01m.\u001b[39;00m\u001b[38;5;21;01mexceptions\u001b[39;00m \u001b[38;5;28;01mimport\u001b[39;00m DataConversionWarning\n\u001b[0;32m     28\u001b[0m \u001b[38;5;28;01mfrom\u001b[39;00m \u001b[38;5;21;01m.\u001b[39;00m\u001b[38;5;21;01mdeprecation\u001b[39;00m \u001b[38;5;28;01mimport\u001b[39;00m deprecated\n\u001b[1;32m---> 29\u001b[0m \u001b[38;5;28;01mfrom\u001b[39;00m \u001b[38;5;21;01m.\u001b[39;00m\u001b[38;5;21;01mfixes\u001b[39;00m \u001b[38;5;28;01mimport\u001b[39;00m parse_version, threadpool_info\n\u001b[0;32m     30\u001b[0m \u001b[38;5;28;01mfrom\u001b[39;00m \u001b[38;5;21;01m.\u001b[39;00m\u001b[38;5;21;01m_estimator_html_repr\u001b[39;00m \u001b[38;5;28;01mimport\u001b[39;00m estimator_html_repr\n\u001b[0;32m     31\u001b[0m \u001b[38;5;28;01mfrom\u001b[39;00m \u001b[38;5;21;01m.\u001b[39;00m\u001b[38;5;21;01mvalidation\u001b[39;00m \u001b[38;5;28;01mimport\u001b[39;00m (\n\u001b[0;32m     32\u001b[0m     as_float_array,\n\u001b[0;32m     33\u001b[0m     assert_all_finite,\n\u001b[1;32m   (...)\u001b[0m\n\u001b[0;32m     41\u001b[0m     check_scalar,\n\u001b[0;32m     42\u001b[0m )\n",
      "File \u001b[1;32m~\\AppData\\Roaming\\Python\\Python39\\site-packages\\sklearn\\utils\\fixes.py:19\u001b[0m\n\u001b[0;32m     17\u001b[0m \u001b[38;5;28;01mimport\u001b[39;00m \u001b[38;5;21;01mnumpy\u001b[39;00m \u001b[38;5;28;01mas\u001b[39;00m \u001b[38;5;21;01mnp\u001b[39;00m\n\u001b[0;32m     18\u001b[0m \u001b[38;5;28;01mimport\u001b[39;00m \u001b[38;5;21;01mscipy\u001b[39;00m\n\u001b[1;32m---> 19\u001b[0m \u001b[38;5;28;01mimport\u001b[39;00m \u001b[38;5;21;01mscipy\u001b[39;00m\u001b[38;5;21;01m.\u001b[39;00m\u001b[38;5;21;01mstats\u001b[39;00m\n\u001b[0;32m     20\u001b[0m \u001b[38;5;28;01mimport\u001b[39;00m \u001b[38;5;21;01mthreadpoolctl\u001b[39;00m\n\u001b[0;32m     21\u001b[0m \u001b[38;5;28;01mfrom\u001b[39;00m \u001b[38;5;21;01m.\u001b[39;00m\u001b[38;5;21;01m.\u001b[39;00m\u001b[38;5;21;01m_config\u001b[39;00m \u001b[38;5;28;01mimport\u001b[39;00m config_context, get_config\n",
      "File \u001b[1;32mc:\\Program Files\\Python39\\lib\\site-packages\\scipy\\stats\\__init__.py:441\u001b[0m\n\u001b[0;32m      1\u001b[0m \u001b[38;5;124;03m\"\"\"\u001b[39;00m\n\u001b[0;32m      2\u001b[0m \u001b[38;5;124;03m.. _statsrefmanual:\u001b[39;00m\n\u001b[0;32m      3\u001b[0m \n\u001b[1;32m   (...)\u001b[0m\n\u001b[0;32m    438\u001b[0m \n\u001b[0;32m    439\u001b[0m \u001b[38;5;124;03m\"\"\"\u001b[39;00m\n\u001b[1;32m--> 441\u001b[0m \u001b[38;5;28;01mfrom\u001b[39;00m \u001b[38;5;21;01m.\u001b[39;00m\u001b[38;5;21;01mstats\u001b[39;00m \u001b[38;5;28;01mimport\u001b[39;00m \u001b[38;5;241m*\u001b[39m\n\u001b[0;32m    442\u001b[0m \u001b[38;5;28;01mfrom\u001b[39;00m \u001b[38;5;21;01m.\u001b[39;00m\u001b[38;5;21;01mdistributions\u001b[39;00m \u001b[38;5;28;01mimport\u001b[39;00m \u001b[38;5;241m*\u001b[39m\n\u001b[0;32m    443\u001b[0m \u001b[38;5;28;01mfrom\u001b[39;00m \u001b[38;5;21;01m.\u001b[39;00m\u001b[38;5;21;01mmorestats\u001b[39;00m \u001b[38;5;28;01mimport\u001b[39;00m \u001b[38;5;241m*\u001b[39m\n",
      "File \u001b[1;32mc:\\Program Files\\Python39\\lib\\site-packages\\scipy\\stats\\stats.py:43\u001b[0m\n\u001b[0;32m     41\u001b[0m \u001b[38;5;28;01mimport\u001b[39;00m \u001b[38;5;21;01mscipy\u001b[39;00m\u001b[38;5;21;01m.\u001b[39;00m\u001b[38;5;21;01mspecial\u001b[39;00m \u001b[38;5;28;01mas\u001b[39;00m \u001b[38;5;21;01mspecial\u001b[39;00m\n\u001b[0;32m     42\u001b[0m \u001b[38;5;28;01mfrom\u001b[39;00m \u001b[38;5;21;01mscipy\u001b[39;00m \u001b[38;5;28;01mimport\u001b[39;00m linalg\n\u001b[1;32m---> 43\u001b[0m \u001b[38;5;28;01mfrom\u001b[39;00m \u001b[38;5;21;01m.\u001b[39;00m \u001b[38;5;28;01mimport\u001b[39;00m distributions\n\u001b[0;32m     44\u001b[0m \u001b[38;5;28;01mfrom\u001b[39;00m \u001b[38;5;21;01m.\u001b[39;00m \u001b[38;5;28;01mimport\u001b[39;00m mstats_basic\n\u001b[0;32m     45\u001b[0m \u001b[38;5;28;01mfrom\u001b[39;00m \u001b[38;5;21;01m.\u001b[39;00m\u001b[38;5;21;01m_stats_mstats_common\u001b[39;00m \u001b[38;5;28;01mimport\u001b[39;00m (_find_repeats, linregress, theilslopes,\n\u001b[0;32m     46\u001b[0m                                    siegelslopes)\n",
      "File \u001b[1;32mc:\\Program Files\\Python39\\lib\\site-packages\\scipy\\stats\\distributions.py:8\u001b[0m\n\u001b[0;32m      1\u001b[0m \u001b[38;5;66;03m#\u001b[39;00m\n\u001b[0;32m      2\u001b[0m \u001b[38;5;66;03m# Author:  Travis Oliphant  2002-2011 with contributions from\u001b[39;00m\n\u001b[0;32m      3\u001b[0m \u001b[38;5;66;03m#          SciPy Developers 2004-2011\u001b[39;00m\n\u001b[1;32m   (...)\u001b[0m\n\u001b[0;32m      6\u001b[0m \u001b[38;5;66;03m#       instead of `git blame -Lxxx,+x`.\u001b[39;00m\n\u001b[0;32m      7\u001b[0m \u001b[38;5;66;03m#\u001b[39;00m\n\u001b[1;32m----> 8\u001b[0m \u001b[38;5;28;01mfrom\u001b[39;00m \u001b[38;5;21;01m.\u001b[39;00m\u001b[38;5;21;01m_distn_infrastructure\u001b[39;00m \u001b[38;5;28;01mimport\u001b[39;00m (rv_discrete, rv_continuous, rv_frozen)\n\u001b[0;32m     10\u001b[0m \u001b[38;5;28;01mfrom\u001b[39;00m \u001b[38;5;21;01m.\u001b[39;00m \u001b[38;5;28;01mimport\u001b[39;00m _continuous_distns\n\u001b[0;32m     11\u001b[0m \u001b[38;5;28;01mfrom\u001b[39;00m \u001b[38;5;21;01m.\u001b[39;00m \u001b[38;5;28;01mimport\u001b[39;00m _discrete_distns\n",
      "File \u001b[1;32mc:\\Program Files\\Python39\\lib\\site-packages\\scipy\\stats\\_distn_infrastructure.py:24\u001b[0m\n\u001b[0;32m     20\u001b[0m \u001b[38;5;28;01mfrom\u001b[39;00m \u001b[38;5;21;01mscipy\u001b[39;00m\u001b[38;5;21;01m.\u001b[39;00m\u001b[38;5;21;01mspecial\u001b[39;00m \u001b[38;5;28;01mimport\u001b[39;00m (comb, chndtr, entr, xlogy, ive)\n\u001b[0;32m     22\u001b[0m \u001b[38;5;66;03m# for root finding for continuous distribution ppf, and max likelihood\u001b[39;00m\n\u001b[0;32m     23\u001b[0m \u001b[38;5;66;03m# estimation\u001b[39;00m\n\u001b[1;32m---> 24\u001b[0m \u001b[38;5;28;01mfrom\u001b[39;00m \u001b[38;5;21;01mscipy\u001b[39;00m \u001b[38;5;28;01mimport\u001b[39;00m optimize\n\u001b[0;32m     26\u001b[0m \u001b[38;5;66;03m# for functions of continuous distributions (e.g. moments, entropy, cdf)\u001b[39;00m\n\u001b[0;32m     27\u001b[0m \u001b[38;5;28;01mfrom\u001b[39;00m \u001b[38;5;21;01mscipy\u001b[39;00m \u001b[38;5;28;01mimport\u001b[39;00m integrate\n",
      "File \u001b[1;32mc:\\Program Files\\Python39\\lib\\site-packages\\scipy\\optimize\\__init__.py:413\u001b[0m\n\u001b[0;32m    411\u001b[0m \u001b[38;5;28;01mfrom\u001b[39;00m \u001b[38;5;21;01m.\u001b[39;00m\u001b[38;5;21;01m_nnls\u001b[39;00m \u001b[38;5;28;01mimport\u001b[39;00m nnls\n\u001b[0;32m    412\u001b[0m \u001b[38;5;28;01mfrom\u001b[39;00m \u001b[38;5;21;01m.\u001b[39;00m\u001b[38;5;21;01m_basinhopping\u001b[39;00m \u001b[38;5;28;01mimport\u001b[39;00m basinhopping\n\u001b[1;32m--> 413\u001b[0m \u001b[38;5;28;01mfrom\u001b[39;00m \u001b[38;5;21;01m.\u001b[39;00m\u001b[38;5;21;01m_linprog\u001b[39;00m \u001b[38;5;28;01mimport\u001b[39;00m linprog, linprog_verbose_callback\n\u001b[0;32m    414\u001b[0m \u001b[38;5;28;01mfrom\u001b[39;00m \u001b[38;5;21;01m.\u001b[39;00m\u001b[38;5;21;01m_lsap\u001b[39;00m \u001b[38;5;28;01mimport\u001b[39;00m linear_sum_assignment\n\u001b[0;32m    415\u001b[0m \u001b[38;5;28;01mfrom\u001b[39;00m \u001b[38;5;21;01m.\u001b[39;00m\u001b[38;5;21;01m_differentialevolution\u001b[39;00m \u001b[38;5;28;01mimport\u001b[39;00m differential_evolution\n",
      "File \u001b[1;32mc:\\Program Files\\Python39\\lib\\site-packages\\scipy\\optimize\\_linprog.py:25\u001b[0m\n\u001b[0;32m     23\u001b[0m \u001b[38;5;28;01mfrom\u001b[39;00m \u001b[38;5;21;01m.\u001b[39;00m\u001b[38;5;21;01m_linprog_ip\u001b[39;00m \u001b[38;5;28;01mimport\u001b[39;00m _linprog_ip\n\u001b[0;32m     24\u001b[0m \u001b[38;5;28;01mfrom\u001b[39;00m \u001b[38;5;21;01m.\u001b[39;00m\u001b[38;5;21;01m_linprog_simplex\u001b[39;00m \u001b[38;5;28;01mimport\u001b[39;00m _linprog_simplex\n\u001b[1;32m---> 25\u001b[0m \u001b[38;5;28;01mfrom\u001b[39;00m \u001b[38;5;21;01m.\u001b[39;00m\u001b[38;5;21;01m_linprog_rs\u001b[39;00m \u001b[38;5;28;01mimport\u001b[39;00m _linprog_rs\n\u001b[0;32m     26\u001b[0m \u001b[38;5;28;01mfrom\u001b[39;00m \u001b[38;5;21;01m.\u001b[39;00m\u001b[38;5;21;01m_linprog_doc\u001b[39;00m \u001b[38;5;28;01mimport\u001b[39;00m (_linprog_highs_doc, _linprog_ip_doc,\n\u001b[0;32m     27\u001b[0m                            _linprog_rs_doc, _linprog_simplex_doc,\n\u001b[0;32m     28\u001b[0m                            _linprog_highs_ipm_doc, _linprog_highs_ds_doc)\n\u001b[0;32m     29\u001b[0m \u001b[38;5;28;01mfrom\u001b[39;00m \u001b[38;5;21;01m.\u001b[39;00m\u001b[38;5;21;01m_linprog_util\u001b[39;00m \u001b[38;5;28;01mimport\u001b[39;00m (\n\u001b[0;32m     30\u001b[0m     _parse_linprog, _presolve, _get_Abc, _LPProblem, _autoscale,\n\u001b[0;32m     31\u001b[0m     _postsolve, _check_result, _display_summary)\n",
      "File \u001b[1;32mc:\\Program Files\\Python39\\lib\\site-packages\\scipy\\optimize\\_linprog_rs.py:23\u001b[0m\n\u001b[0;32m     21\u001b[0m \u001b[38;5;28;01mfrom\u001b[39;00m \u001b[38;5;21;01mscipy\u001b[39;00m\u001b[38;5;21;01m.\u001b[39;00m\u001b[38;5;21;01mlinalg\u001b[39;00m \u001b[38;5;28;01mimport\u001b[39;00m solve\n\u001b[0;32m     22\u001b[0m \u001b[38;5;28;01mfrom\u001b[39;00m \u001b[38;5;21;01m.\u001b[39;00m\u001b[38;5;21;01moptimize\u001b[39;00m \u001b[38;5;28;01mimport\u001b[39;00m _check_unknown_options\n\u001b[1;32m---> 23\u001b[0m \u001b[38;5;28;01mfrom\u001b[39;00m \u001b[38;5;21;01m.\u001b[39;00m\u001b[38;5;21;01m_bglu_dense\u001b[39;00m \u001b[38;5;28;01mimport\u001b[39;00m LU\n\u001b[0;32m     24\u001b[0m \u001b[38;5;28;01mfrom\u001b[39;00m \u001b[38;5;21;01m.\u001b[39;00m\u001b[38;5;21;01m_bglu_dense\u001b[39;00m \u001b[38;5;28;01mimport\u001b[39;00m BGLU \u001b[38;5;28;01mas\u001b[39;00m BGLU\n\u001b[0;32m     25\u001b[0m \u001b[38;5;28;01mfrom\u001b[39;00m \u001b[38;5;21;01mscipy\u001b[39;00m\u001b[38;5;21;01m.\u001b[39;00m\u001b[38;5;21;01mlinalg\u001b[39;00m \u001b[38;5;28;01mimport\u001b[39;00m LinAlgError\n",
      "File \u001b[1;32m<frozen importlib._bootstrap>:398\u001b[0m, in \u001b[0;36mparent\u001b[1;34m(self)\u001b[0m\n",
      "\u001b[1;31mKeyboardInterrupt\u001b[0m: "
     ]
    }
   ],
   "source": [
    "from sklearn.metrics import silhouette_score\n",
    "\n",
    "test_silhouette_avg = silhouette_score(x_test_norm, predicted_labels)\n",
    "\n",
    "print(f\"Silhouette Score with Testing Set: {test_silhouette_avg:.3f}\")"
   ]
  }
 ],
 "metadata": {
  "kernelspec": {
   "display_name": "Python 3",
   "language": "python",
   "name": "python3"
  },
  "language_info": {
   "codemirror_mode": {
    "name": "ipython",
    "version": 3
   },
   "file_extension": ".py",
   "mimetype": "text/x-python",
   "name": "python",
   "nbconvert_exporter": "python",
   "pygments_lexer": "ipython3",
   "version": "3.9.6"
  }
 },
 "nbformat": 4,
 "nbformat_minor": 2
}
